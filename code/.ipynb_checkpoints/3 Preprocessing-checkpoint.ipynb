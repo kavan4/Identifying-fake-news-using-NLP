{
 "cells": [
  {
   "cell_type": "markdown",
   "metadata": {},
   "source": [
    "# Subreddit Classification using NLP"
   ]
  },
  {
   "cell_type": "markdown",
   "metadata": {},
   "source": [
    "## 3. Preprocessing Data"
   ]
  },
  {
   "cell_type": "markdown",
   "metadata": {},
   "source": [
    "### Imports"
   ]
  },
  {
   "cell_type": "code",
   "execution_count": 32,
   "metadata": {},
   "outputs": [],
   "source": [
    "import pandas as pd\n",
    "import numpy as np\n",
    "\n",
    "from sklearn.model_selection import train_test_split, GridSearchCV, cross_val_score\n",
    "from sklearn.feature_extraction.text import CountVectorizer, TfidfVectorizer\n",
    "from sklearn.pipeline import Pipeline\n",
    "from sklearn.linear_model import LogisticRegression\n",
    "from sklearn.metrics import confusion_matrix\n",
    "from sklearn.neighbors import KNeighborsClassifier\n",
    "from sklearn.tree import DecisionTreeClassifier\n",
    "from sklearn.ensemble import AdaBoostClassifier,BaggingClassifier, RandomForestClassifier\n",
    "from sklearn.metrics import f1_score\n",
    "\n",
    "#Import Library of Gaussian Naive Bayes model\n",
    "from sklearn.naive_bayes import GaussianNB, MultinomialNB, BernoulliNB\n",
    "\n",
    "from nltk.classify import NaiveBayesClassifier\n",
    "from nltk import WordNetLemmatizer\n",
    "from nltk.tokenize import RegexpTokenizer, word_tokenize\n",
    "from nltk.stem import WordNetLemmatizer\n",
    "from nltk.stem.porter import PorterStemmer\n",
    "\n",
    "\n",
    "import seaborn as sns\n",
    "import matplotlib.pyplot as plt\n"
   ]
  },
  {
   "cell_type": "code",
   "execution_count": 33,
   "metadata": {},
   "outputs": [],
   "source": [
    "df = pd.read_csv('./datasets/clean_data_3.csv')"
   ]
  },
  {
   "cell_type": "markdown",
   "metadata": {},
   "source": [
    "# Preprocessing"
   ]
  },
  {
   "cell_type": "markdown",
   "metadata": {},
   "source": [
    "## Tokenizing"
   ]
  },
  {
   "cell_type": "code",
   "execution_count": 34,
   "metadata": {},
   "outputs": [],
   "source": [
    "#only take words or numbers in\n",
    "tokenizer = RegexpTokenizer(r'\\w+', gaps=False)"
   ]
  },
  {
   "cell_type": "code",
   "execution_count": 35,
   "metadata": {},
   "outputs": [
    {
     "data": {
      "text/html": [
       "<div>\n",
       "<style scoped>\n",
       "    .dataframe tbody tr th:only-of-type {\n",
       "        vertical-align: middle;\n",
       "    }\n",
       "\n",
       "    .dataframe tbody tr th {\n",
       "        vertical-align: top;\n",
       "    }\n",
       "\n",
       "    .dataframe thead th {\n",
       "        text-align: right;\n",
       "    }\n",
       "</style>\n",
       "<table border=\"1\" class=\"dataframe\">\n",
       "  <thead>\n",
       "    <tr style=\"text-align: right;\">\n",
       "      <th></th>\n",
       "      <th>title</th>\n",
       "      <th>Target</th>\n",
       "      <th>clean_title</th>\n",
       "    </tr>\n",
       "  </thead>\n",
       "  <tbody>\n",
       "    <tr>\n",
       "      <th>0</th>\n",
       "      <td>Deadly Virus Sweeping China Is Just Olympic Fever</td>\n",
       "      <td>1</td>\n",
       "      <td>deadly virus sweeping china olympic fever</td>\n",
       "    </tr>\n",
       "    <tr>\n",
       "      <th>1</th>\n",
       "      <td>Southern Governors Argue Covid-19 Good Christi...</td>\n",
       "      <td>1</td>\n",
       "      <td>southern governors argue covid 19 good christi...</td>\n",
       "    </tr>\n",
       "    <tr>\n",
       "      <th>2</th>\n",
       "      <td>‘They’re Doing Something To The Street,’ Repor...</td>\n",
       "      <td>1</td>\n",
       "      <td>something street reports nation staring window</td>\n",
       "    </tr>\n",
       "    <tr>\n",
       "      <th>3</th>\n",
       "      <td>I miss the old onion.</td>\n",
       "      <td>1</td>\n",
       "      <td>miss old onion</td>\n",
       "    </tr>\n",
       "    <tr>\n",
       "      <th>4</th>\n",
       "      <td>Animals Spread Disease Constantly - Horrifying...</td>\n",
       "      <td>1</td>\n",
       "      <td>animals spread disease constantly horrifying p...</td>\n",
       "    </tr>\n",
       "  </tbody>\n",
       "</table>\n",
       "</div>"
      ],
      "text/plain": [
       "                                               title  Target  \\\n",
       "0  Deadly Virus Sweeping China Is Just Olympic Fever       1   \n",
       "1  Southern Governors Argue Covid-19 Good Christi...       1   \n",
       "2  ‘They’re Doing Something To The Street,’ Repor...       1   \n",
       "3                              I miss the old onion.       1   \n",
       "4  Animals Spread Disease Constantly - Horrifying...       1   \n",
       "\n",
       "                                         clean_title  \n",
       "0          deadly virus sweeping china olympic fever  \n",
       "1  southern governors argue covid 19 good christi...  \n",
       "2     something street reports nation staring window  \n",
       "3                                     miss old onion  \n",
       "4  animals spread disease constantly horrifying p...  "
      ]
     },
     "execution_count": 35,
     "metadata": {},
     "output_type": "execute_result"
    }
   ],
   "source": [
    "df.head()"
   ]
  },
  {
   "cell_type": "code",
   "execution_count": 36,
   "metadata": {},
   "outputs": [],
   "source": [
    "# Converting to string. Without this tokenizer giving error\n",
    "df['clean_title'] = df['clean_title'].apply(str)"
   ]
  },
  {
   "cell_type": "code",
   "execution_count": 37,
   "metadata": {},
   "outputs": [
    {
     "name": "stdout",
     "output_type": "stream",
     "text": [
      "<class 'pandas.core.frame.DataFrame'>\n",
      "RangeIndex: 1807 entries, 0 to 1806\n",
      "Data columns (total 3 columns):\n",
      " #   Column       Non-Null Count  Dtype \n",
      "---  ------       --------------  ----- \n",
      " 0   title        1807 non-null   object\n",
      " 1   Target       1807 non-null   int64 \n",
      " 2   clean_title  1807 non-null   object\n",
      "dtypes: int64(1), object(2)\n",
      "memory usage: 42.5+ KB\n"
     ]
    }
   ],
   "source": [
    "df.info()"
   ]
  },
  {
   "cell_type": "code",
   "execution_count": 38,
   "metadata": {},
   "outputs": [],
   "source": [
    "df['tokens'] = df['clean_title'].map(tokenizer.tokenize)"
   ]
  },
  {
   "cell_type": "code",
   "execution_count": 39,
   "metadata": {},
   "outputs": [
    {
     "data": {
      "text/html": [
       "<div>\n",
       "<style scoped>\n",
       "    .dataframe tbody tr th:only-of-type {\n",
       "        vertical-align: middle;\n",
       "    }\n",
       "\n",
       "    .dataframe tbody tr th {\n",
       "        vertical-align: top;\n",
       "    }\n",
       "\n",
       "    .dataframe thead th {\n",
       "        text-align: right;\n",
       "    }\n",
       "</style>\n",
       "<table border=\"1\" class=\"dataframe\">\n",
       "  <thead>\n",
       "    <tr style=\"text-align: right;\">\n",
       "      <th></th>\n",
       "      <th>title</th>\n",
       "      <th>Target</th>\n",
       "      <th>clean_title</th>\n",
       "      <th>tokens</th>\n",
       "    </tr>\n",
       "  </thead>\n",
       "  <tbody>\n",
       "    <tr>\n",
       "      <th>0</th>\n",
       "      <td>Deadly Virus Sweeping China Is Just Olympic Fever</td>\n",
       "      <td>1</td>\n",
       "      <td>deadly virus sweeping china olympic fever</td>\n",
       "      <td>[deadly, virus, sweeping, china, olympic, fever]</td>\n",
       "    </tr>\n",
       "    <tr>\n",
       "      <th>1</th>\n",
       "      <td>Southern Governors Argue Covid-19 Good Christi...</td>\n",
       "      <td>1</td>\n",
       "      <td>southern governors argue covid 19 good christi...</td>\n",
       "      <td>[southern, governors, argue, covid, 19, good, ...</td>\n",
       "    </tr>\n",
       "    <tr>\n",
       "      <th>2</th>\n",
       "      <td>‘They’re Doing Something To The Street,’ Repor...</td>\n",
       "      <td>1</td>\n",
       "      <td>something street reports nation staring window</td>\n",
       "      <td>[something, street, reports, nation, staring, ...</td>\n",
       "    </tr>\n",
       "    <tr>\n",
       "      <th>3</th>\n",
       "      <td>I miss the old onion.</td>\n",
       "      <td>1</td>\n",
       "      <td>miss old onion</td>\n",
       "      <td>[miss, old, onion]</td>\n",
       "    </tr>\n",
       "    <tr>\n",
       "      <th>4</th>\n",
       "      <td>Animals Spread Disease Constantly - Horrifying...</td>\n",
       "      <td>1</td>\n",
       "      <td>animals spread disease constantly horrifying p...</td>\n",
       "      <td>[animals, spread, disease, constantly, horrify...</td>\n",
       "    </tr>\n",
       "  </tbody>\n",
       "</table>\n",
       "</div>"
      ],
      "text/plain": [
       "                                               title  Target  \\\n",
       "0  Deadly Virus Sweeping China Is Just Olympic Fever       1   \n",
       "1  Southern Governors Argue Covid-19 Good Christi...       1   \n",
       "2  ‘They’re Doing Something To The Street,’ Repor...       1   \n",
       "3                              I miss the old onion.       1   \n",
       "4  Animals Spread Disease Constantly - Horrifying...       1   \n",
       "\n",
       "                                         clean_title  \\\n",
       "0          deadly virus sweeping china olympic fever   \n",
       "1  southern governors argue covid 19 good christi...   \n",
       "2     something street reports nation staring window   \n",
       "3                                     miss old onion   \n",
       "4  animals spread disease constantly horrifying p...   \n",
       "\n",
       "                                              tokens  \n",
       "0   [deadly, virus, sweeping, china, olympic, fever]  \n",
       "1  [southern, governors, argue, covid, 19, good, ...  \n",
       "2  [something, street, reports, nation, staring, ...  \n",
       "3                                 [miss, old, onion]  \n",
       "4  [animals, spread, disease, constantly, horrify...  "
      ]
     },
     "execution_count": 39,
     "metadata": {},
     "output_type": "execute_result"
    }
   ],
   "source": [
    "df.head()"
   ]
  },
  {
   "cell_type": "markdown",
   "metadata": {},
   "source": [
    "## Lemmatizing and Stemming"
   ]
  },
  {
   "cell_type": "code",
   "execution_count": 40,
   "metadata": {},
   "outputs": [],
   "source": [
    "# Function to lemmatize and stem\n",
    "\n",
    "def lem_stem(x):\n",
    "\n",
    "    lemmatizer = WordNetLemmatizer()\n",
    "    p_stemmer = PorterStemmer()\n",
    "    \n",
    "    \n",
    "    #lemmatize words\n",
    "    lemm_words = [lemmatizer.lemmatize(word.lower()) for word in x]\n",
    "\n",
    "    # Stem words.\n",
    "    stemmed_words = [p_stemmer.stem(word) for word in lemm_words]\n",
    "    \n",
    "    #return lemmatized and stem words in a string\n",
    "    return ' '.join(stemmed_words)"
   ]
  },
  {
   "cell_type": "markdown",
   "metadata": {},
   "source": [
    "Porter Stemming removes the suffix to keep only the base words.\n",
    "<br>\n",
    "Lemmatization reduces the word to a base word that belongs to the language. We will use both since we are not interested in context here."
   ]
  },
  {
   "cell_type": "code",
   "execution_count": 41,
   "metadata": {},
   "outputs": [],
   "source": [
    "df['lemstem_text'] = df['tokens'].map(stem_lem)"
   ]
  },
  {
   "cell_type": "code",
   "execution_count": 42,
   "metadata": {},
   "outputs": [
    {
     "data": {
      "text/html": [
       "<div>\n",
       "<style scoped>\n",
       "    .dataframe tbody tr th:only-of-type {\n",
       "        vertical-align: middle;\n",
       "    }\n",
       "\n",
       "    .dataframe tbody tr th {\n",
       "        vertical-align: top;\n",
       "    }\n",
       "\n",
       "    .dataframe thead th {\n",
       "        text-align: right;\n",
       "    }\n",
       "</style>\n",
       "<table border=\"1\" class=\"dataframe\">\n",
       "  <thead>\n",
       "    <tr style=\"text-align: right;\">\n",
       "      <th></th>\n",
       "      <th>title</th>\n",
       "      <th>Target</th>\n",
       "      <th>clean_title</th>\n",
       "      <th>tokens</th>\n",
       "      <th>lemstem_text</th>\n",
       "    </tr>\n",
       "  </thead>\n",
       "  <tbody>\n",
       "    <tr>\n",
       "      <th>0</th>\n",
       "      <td>Deadly Virus Sweeping China Is Just Olympic Fever</td>\n",
       "      <td>1</td>\n",
       "      <td>deadly virus sweeping china olympic fever</td>\n",
       "      <td>[deadly, virus, sweeping, china, olympic, fever]</td>\n",
       "      <td>deadli viru sweep china olymp fever</td>\n",
       "    </tr>\n",
       "    <tr>\n",
       "      <th>1</th>\n",
       "      <td>Southern Governors Argue Covid-19 Good Christi...</td>\n",
       "      <td>1</td>\n",
       "      <td>southern governors argue covid 19 good christi...</td>\n",
       "      <td>[southern, governors, argue, covid, 19, good, ...</td>\n",
       "      <td>southern governor argu covid 19 good christian...</td>\n",
       "    </tr>\n",
       "    <tr>\n",
       "      <th>2</th>\n",
       "      <td>‘They’re Doing Something To The Street,’ Repor...</td>\n",
       "      <td>1</td>\n",
       "      <td>something street reports nation staring window</td>\n",
       "      <td>[something, street, reports, nation, staring, ...</td>\n",
       "      <td>someth street report nation stare window</td>\n",
       "    </tr>\n",
       "    <tr>\n",
       "      <th>3</th>\n",
       "      <td>I miss the old onion.</td>\n",
       "      <td>1</td>\n",
       "      <td>miss old onion</td>\n",
       "      <td>[miss, old, onion]</td>\n",
       "      <td>miss old onion</td>\n",
       "    </tr>\n",
       "    <tr>\n",
       "      <th>4</th>\n",
       "      <td>Animals Spread Disease Constantly - Horrifying...</td>\n",
       "      <td>1</td>\n",
       "      <td>animals spread disease constantly horrifying p...</td>\n",
       "      <td>[animals, spread, disease, constantly, horrify...</td>\n",
       "      <td>anim spread diseas constantli horrifi planet ep 7</td>\n",
       "    </tr>\n",
       "  </tbody>\n",
       "</table>\n",
       "</div>"
      ],
      "text/plain": [
       "                                               title  Target  \\\n",
       "0  Deadly Virus Sweeping China Is Just Olympic Fever       1   \n",
       "1  Southern Governors Argue Covid-19 Good Christi...       1   \n",
       "2  ‘They’re Doing Something To The Street,’ Repor...       1   \n",
       "3                              I miss the old onion.       1   \n",
       "4  Animals Spread Disease Constantly - Horrifying...       1   \n",
       "\n",
       "                                         clean_title  \\\n",
       "0          deadly virus sweeping china olympic fever   \n",
       "1  southern governors argue covid 19 good christi...   \n",
       "2     something street reports nation staring window   \n",
       "3                                     miss old onion   \n",
       "4  animals spread disease constantly horrifying p...   \n",
       "\n",
       "                                              tokens  \\\n",
       "0   [deadly, virus, sweeping, china, olympic, fever]   \n",
       "1  [southern, governors, argue, covid, 19, good, ...   \n",
       "2  [something, street, reports, nation, staring, ...   \n",
       "3                                 [miss, old, onion]   \n",
       "4  [animals, spread, disease, constantly, horrify...   \n",
       "\n",
       "                                        lemstem_text  \n",
       "0                deadli viru sweep china olymp fever  \n",
       "1  southern governor argu covid 19 good christian...  \n",
       "2           someth street report nation stare window  \n",
       "3                                     miss old onion  \n",
       "4  anim spread diseas constantli horrifi planet ep 7  "
      ]
     },
     "execution_count": 42,
     "metadata": {},
     "output_type": "execute_result"
    }
   ],
   "source": [
    "df.head()"
   ]
  },
  {
   "cell_type": "markdown",
   "metadata": {},
   "source": [
    "## Save"
   ]
  },
  {
   "cell_type": "code",
   "execution_count": 44,
   "metadata": {},
   "outputs": [],
   "source": [
    "df.to_csv('./datasets/clean_data_lemstemed.csv', index=False)"
   ]
  }
 ],
 "metadata": {
  "kernelspec": {
   "display_name": "Python 3",
   "language": "python",
   "name": "python3"
  },
  "language_info": {
   "codemirror_mode": {
    "name": "ipython",
    "version": 3
   },
   "file_extension": ".py",
   "mimetype": "text/x-python",
   "name": "python",
   "nbconvert_exporter": "python",
   "pygments_lexer": "ipython3",
   "version": "3.8.2"
  }
 },
 "nbformat": 4,
 "nbformat_minor": 4
}
