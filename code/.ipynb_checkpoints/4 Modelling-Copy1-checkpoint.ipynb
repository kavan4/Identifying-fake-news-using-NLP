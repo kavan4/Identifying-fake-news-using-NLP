{
 "cells": [
  {
   "cell_type": "code",
   "execution_count": 214,
   "metadata": {},
   "outputs": [],
   "source": [
    "import pandas as pd\n",
    "import numpy as np\n",
    "\n",
    "from sklearn.model_selection import train_test_split, GridSearchCV, cross_val_score\n",
    "from sklearn.feature_extraction.text import CountVectorizer, TfidfVectorizer\n",
    "from sklearn.pipeline import Pipeline\n",
    "from sklearn.linear_model import LogisticRegression\n",
    "from sklearn.metrics import confusion_matrix\n",
    "from sklearn.neighbors import KNeighborsClassifier\n",
    "from sklearn.tree import DecisionTreeClassifier\n",
    "from sklearn.ensemble import AdaBoostClassifier,BaggingClassifier, RandomForestClassifier, ExtraTreesClassifier\n",
    "from sklearn.metrics import f1_score, roc_auc_score\n",
    "\n",
    "from sklearn.preprocessing import FunctionTransformer\n",
    "\n",
    "#Import Library of Gaussian Naive Bayes model\n",
    "from sklearn.naive_bayes import GaussianNB, MultinomialNB, BernoulliNB\n",
    "\n",
    "from nltk.classify import NaiveBayesClassifier\n",
    "from nltk import WordNetLemmatizer\n",
    "from nltk.tokenize import RegexpTokenizer, word_tokenize\n",
    "from nltk.stem import WordNetLemmatizer\n",
    "from nltk.stem.porter import PorterStemmer\n",
    "\n",
    "\n",
    "import seaborn as sns\n",
    "import matplotlib.pyplot as plt\n"
   ]
  },
  {
   "cell_type": "code",
   "execution_count": null,
   "metadata": {},
   "outputs": [],
   "source": []
  },
  {
   "cell_type": "code",
   "execution_count": 139,
   "metadata": {},
   "outputs": [],
   "source": [
    "df = pd.read_csv('../datasets/clean_data_lemstemed.csv')"
   ]
  },
  {
   "cell_type": "code",
   "execution_count": 140,
   "metadata": {},
   "outputs": [
    {
     "data": {
      "text/html": [
       "<div>\n",
       "<style scoped>\n",
       "    .dataframe tbody tr th:only-of-type {\n",
       "        vertical-align: middle;\n",
       "    }\n",
       "\n",
       "    .dataframe tbody tr th {\n",
       "        vertical-align: top;\n",
       "    }\n",
       "\n",
       "    .dataframe thead th {\n",
       "        text-align: right;\n",
       "    }\n",
       "</style>\n",
       "<table border=\"1\" class=\"dataframe\">\n",
       "  <thead>\n",
       "    <tr style=\"text-align: right;\">\n",
       "      <th></th>\n",
       "      <th>title</th>\n",
       "      <th>Target</th>\n",
       "      <th>clean_title</th>\n",
       "      <th>tokens</th>\n",
       "      <th>lemstem_text</th>\n",
       "    </tr>\n",
       "  </thead>\n",
       "  <tbody>\n",
       "    <tr>\n",
       "      <th>0</th>\n",
       "      <td>Deadly Virus Sweeping China Is Just Olympic Fever</td>\n",
       "      <td>1</td>\n",
       "      <td>deadly virus sweeping china olympic fever</td>\n",
       "      <td>['deadly', 'virus', 'sweeping', 'china', 'olym...</td>\n",
       "      <td>deadli viru sweep china olymp fever</td>\n",
       "    </tr>\n",
       "    <tr>\n",
       "      <th>1</th>\n",
       "      <td>Southern Governors Argue Covid-19 Good Christi...</td>\n",
       "      <td>1</td>\n",
       "      <td>southern governors argue covid 19 good christi...</td>\n",
       "      <td>['southern', 'governors', 'argue', 'covid', '1...</td>\n",
       "      <td>southern governor argu covid 19 good christian...</td>\n",
       "    </tr>\n",
       "    <tr>\n",
       "      <th>2</th>\n",
       "      <td>‘They’re Doing Something To The Street,’ Repor...</td>\n",
       "      <td>1</td>\n",
       "      <td>something street reports nation staring window</td>\n",
       "      <td>['something', 'street', 'reports', 'nation', '...</td>\n",
       "      <td>someth street report nation stare window</td>\n",
       "    </tr>\n",
       "    <tr>\n",
       "      <th>3</th>\n",
       "      <td>I miss the old onion.</td>\n",
       "      <td>1</td>\n",
       "      <td>miss old onion</td>\n",
       "      <td>['miss', 'old', 'onion']</td>\n",
       "      <td>miss old onion</td>\n",
       "    </tr>\n",
       "    <tr>\n",
       "      <th>4</th>\n",
       "      <td>Animals Spread Disease Constantly - Horrifying...</td>\n",
       "      <td>1</td>\n",
       "      <td>animals spread disease constantly horrifying p...</td>\n",
       "      <td>['animals', 'spread', 'disease', 'constantly',...</td>\n",
       "      <td>anim spread diseas constantli horrifi planet ep 7</td>\n",
       "    </tr>\n",
       "  </tbody>\n",
       "</table>\n",
       "</div>"
      ],
      "text/plain": [
       "                                               title  Target  \\\n",
       "0  Deadly Virus Sweeping China Is Just Olympic Fever       1   \n",
       "1  Southern Governors Argue Covid-19 Good Christi...       1   \n",
       "2  ‘They’re Doing Something To The Street,’ Repor...       1   \n",
       "3                              I miss the old onion.       1   \n",
       "4  Animals Spread Disease Constantly - Horrifying...       1   \n",
       "\n",
       "                                         clean_title  \\\n",
       "0          deadly virus sweeping china olympic fever   \n",
       "1  southern governors argue covid 19 good christi...   \n",
       "2     something street reports nation staring window   \n",
       "3                                     miss old onion   \n",
       "4  animals spread disease constantly horrifying p...   \n",
       "\n",
       "                                              tokens  \\\n",
       "0  ['deadly', 'virus', 'sweeping', 'china', 'olym...   \n",
       "1  ['southern', 'governors', 'argue', 'covid', '1...   \n",
       "2  ['something', 'street', 'reports', 'nation', '...   \n",
       "3                           ['miss', 'old', 'onion']   \n",
       "4  ['animals', 'spread', 'disease', 'constantly',...   \n",
       "\n",
       "                                        lemstem_text  \n",
       "0                deadli viru sweep china olymp fever  \n",
       "1  southern governor argu covid 19 good christian...  \n",
       "2           someth street report nation stare window  \n",
       "3                                     miss old onion  \n",
       "4  anim spread diseas constantli horrifi planet ep 7  "
      ]
     },
     "execution_count": 140,
     "metadata": {},
     "output_type": "execute_result"
    }
   ],
   "source": [
    "df.head()"
   ]
  },
  {
   "cell_type": "markdown",
   "metadata": {},
   "source": [
    "# Modelling"
   ]
  },
  {
   "cell_type": "code",
   "execution_count": null,
   "metadata": {},
   "outputs": [],
   "source": []
  },
  {
   "cell_type": "markdown",
   "metadata": {},
   "source": [
    "### Baseline Accuracy"
   ]
  },
  {
   "cell_type": "code",
   "execution_count": 141,
   "metadata": {},
   "outputs": [
    {
     "data": {
      "text/plain": [
       "1    0.503044\n",
       "0    0.496956\n",
       "Name: Target, dtype: float64"
      ]
     },
     "execution_count": 141,
     "metadata": {},
     "output_type": "execute_result"
    }
   ],
   "source": [
    "df['Target'].value_counts(normalize=True)"
   ]
  },
  {
   "cell_type": "code",
   "execution_count": 142,
   "metadata": {},
   "outputs": [],
   "source": [
    "# Converting to string. Without this tokenizer giving error\n",
    "df['lemstem_text'] = df['lemstem_text'].apply(str)"
   ]
  },
  {
   "cell_type": "code",
   "execution_count": null,
   "metadata": {},
   "outputs": [],
   "source": []
  },
  {
   "cell_type": "code",
   "execution_count": 143,
   "metadata": {},
   "outputs": [],
   "source": [
    "X = df['lemstem_text']\n",
    "y = df['Target']"
   ]
  },
  {
   "cell_type": "code",
   "execution_count": 144,
   "metadata": {},
   "outputs": [
    {
     "data": {
      "text/plain": [
       "0                  deadli viru sweep china olymp fever\n",
       "1    southern governor argu covid 19 good christian...\n",
       "2             someth street report nation stare window\n",
       "3                                       miss old onion\n",
       "4    anim spread diseas constantli horrifi planet ep 7\n",
       "Name: lemstem_text, dtype: object"
      ]
     },
     "execution_count": 144,
     "metadata": {},
     "output_type": "execute_result"
    }
   ],
   "source": [
    "X.head()"
   ]
  },
  {
   "cell_type": "code",
   "execution_count": 145,
   "metadata": {},
   "outputs": [
    {
     "data": {
      "text/plain": [
       "(1807,)"
      ]
     },
     "execution_count": 145,
     "metadata": {},
     "output_type": "execute_result"
    }
   ],
   "source": [
    "X.shape"
   ]
  },
  {
   "cell_type": "code",
   "execution_count": 146,
   "metadata": {},
   "outputs": [
    {
     "data": {
      "text/plain": [
       "(1807,)"
      ]
     },
     "execution_count": 146,
     "metadata": {},
     "output_type": "execute_result"
    }
   ],
   "source": [
    "y.shape"
   ]
  },
  {
   "cell_type": "markdown",
   "metadata": {},
   "source": [
    "## Train Test Split"
   ]
  },
  {
   "cell_type": "code",
   "execution_count": null,
   "metadata": {},
   "outputs": [],
   "source": []
  },
  {
   "cell_type": "code",
   "execution_count": 147,
   "metadata": {},
   "outputs": [],
   "source": [
    "X_train, X_test, y_train, y_test = train_test_split(X, y, \n",
    "                                                    stratify=y, \n",
    "                                                    random_state = 42)"
   ]
  },
  {
   "cell_type": "code",
   "execution_count": 148,
   "metadata": {},
   "outputs": [
    {
     "data": {
      "text/plain": [
       "(1355,)"
      ]
     },
     "execution_count": 148,
     "metadata": {},
     "output_type": "execute_result"
    }
   ],
   "source": [
    "X_train.shape"
   ]
  },
  {
   "cell_type": "code",
   "execution_count": 149,
   "metadata": {},
   "outputs": [
    {
     "data": {
      "text/plain": [
       "(1355,)"
      ]
     },
     "execution_count": 149,
     "metadata": {},
     "output_type": "execute_result"
    }
   ],
   "source": [
    "y_train.shape"
   ]
  },
  {
   "cell_type": "markdown",
   "metadata": {},
   "source": [
    "## Pipelines"
   ]
  },
  {
   "cell_type": "code",
   "execution_count": null,
   "metadata": {},
   "outputs": [],
   "source": []
  },
  {
   "cell_type": "code",
   "execution_count": null,
   "metadata": {},
   "outputs": [],
   "source": []
  },
  {
   "cell_type": "code",
   "execution_count": null,
   "metadata": {},
   "outputs": [],
   "source": []
  },
  {
   "cell_type": "code",
   "execution_count": 150,
   "metadata": {},
   "outputs": [
    {
     "name": "stdout",
     "output_type": "stream",
     "text": [
      "Linear Regression train score 0.981549815498155\n",
      "Linear Regression test score 0.8451327433628318\n",
      "0.8309963099630997\n",
      "{'cvec__max_df': 0.9, 'cvec__max_features': 3500, 'cvec__min_df': 1, 'cvec__ngram_range': (1, 1), 'cvec__stop_words': 'english'}\n"
     ]
    }
   ],
   "source": [
    "# pipe_cv_lr = Pipeline([('cvec', CountVectorizer()),\n",
    "#                 ('ft', FunctionTransformer(lambda x: x.todense(), accept_sparse=True)),\n",
    "#                 ('lr', LogisticRegression())\n",
    "#                 ])\n",
    "\n",
    "# pipe_cv_lr.fit(X_train, y_train)\n",
    "\n",
    "# print('Linear Regression train score ' + str(pipe_cv_lr.score(X_train,y_train)))\n",
    "# print('Linear Regression test score ' + str(pipe_cv_lr.score(X_test,y_test)))\n",
    "\n",
    "# pipe_params_cv = {'cvec__stop_words' : ['english', None],\n",
    "#                   'cvec__max_features' : [2500,3000,3500,5000],\n",
    "#                   'cvec__min_df' : [1,3,5],\n",
    "#                   'cvec__max_df' : [.9,.95],\n",
    "#                   'cvec__ngram_range' : [(1,1),(1,2)]}\n",
    "\n",
    "# gs = GridSearchCV(pipe_cv_lr, \n",
    "#                   param_grid=pipe_params_cv, \n",
    "#                   cv=5,\n",
    "#                   n_jobs=-1)\n",
    "\n",
    "# gs.fit(X_train, y_train)\n",
    "# print(gs.best_score_)\n",
    "# print(gs.best_params_)"
   ]
  },
  {
   "cell_type": "code",
   "execution_count": null,
   "metadata": {},
   "outputs": [],
   "source": []
  },
  {
   "cell_type": "code",
   "execution_count": null,
   "metadata": {},
   "outputs": [],
   "source": []
  },
  {
   "cell_type": "code",
   "execution_count": null,
   "metadata": {},
   "outputs": [],
   "source": []
  },
  {
   "cell_type": "code",
   "execution_count": null,
   "metadata": {},
   "outputs": [],
   "source": []
  },
  {
   "cell_type": "code",
   "execution_count": null,
   "metadata": {},
   "outputs": [],
   "source": []
  },
  {
   "cell_type": "code",
   "execution_count": 151,
   "metadata": {},
   "outputs": [],
   "source": [
    "pipe_cv_lr = Pipeline([('cvec', CountVectorizer()),\n",
    "                ('ft', FunctionTransformer(lambda x: x.todense(), accept_sparse=True)),\n",
    "                ('lr', LogisticRegression())\n",
    "                ])\n",
    "\n",
    "pipe_tfidf_lr = Pipeline([('tfidf', TfidfVectorizer()),\n",
    "                ('ft', FunctionTransformer(lambda x: x.todense(), accept_sparse=True)),\n",
    "                ('lr', LogisticRegression())\n",
    "                ])\n",
    "\n",
    "pipe_cv_nb = Pipeline([('cvec', CountVectorizer()),\n",
    "                ('ft', FunctionTransformer(lambda x: x.todense(), accept_sparse=True)),\n",
    "                ('nb', MultinomialNB())\n",
    "                ])\n",
    "\n",
    "pipe_tfidf_nb = Pipeline([('tfidf', TfidfVectorizer()),\n",
    "                ('ft', FunctionTransformer(lambda x: x.todense(), accept_sparse=True)),\n",
    "                ('nb', MultinomialNB())\n",
    "                ])\n",
    "\n",
    "pipe_tfidf_gb = Pipeline([('tfidf', TfidfVectorizer()),\n",
    "                ('ft', FunctionTransformer(lambda x: x.todense(), accept_sparse=True)),\n",
    "                ('gb', GaussianNB())\n",
    "                ])\n",
    "\n",
    "pipe_cv_dt = Pipeline([('cvec', CountVectorizer()),\n",
    "                ('ft', FunctionTransformer(lambda x: x.todense(), accept_sparse=True)),\n",
    "                ('dt', DecisionTreeClassifier())\n",
    "                ])\n",
    "\n",
    "pipe_tfidf_dt = Pipeline([('tfidf', TfidfVectorizer()),\n",
    "                ('ft', FunctionTransformer(lambda x: x.todense(), accept_sparse=True)),\n",
    "                ('dt', DecisionTreeClassifier())\n",
    "                ])\n",
    "\n",
    "pipe_cv_bdt = Pipeline([('cvec', CountVectorizer()),\n",
    "                ('ft', FunctionTransformer(lambda x: x.todense(), accept_sparse=True)),\n",
    "                ('bdt', BaggingClassifier())\n",
    "                ])\n",
    "\n",
    "pipe_tfidf_bdt = Pipeline([('tfidf', TfidfVectorizer()),\n",
    "                ('ft', FunctionTransformer(lambda x: x.todense(), accept_sparse=True)),\n",
    "                ('bdt', BaggingClassifier())\n",
    "                ])\n",
    "\n",
    "pipe_cv_knn= Pipeline([('cvec', CountVectorizer()),\n",
    "                ('ft', FunctionTransformer(lambda x: x.todense(), accept_sparse=True)),\n",
    "                ('knn', KNeighborsClassifier())\n",
    "                ])\n",
    "\n",
    "pipe_tfidf_knn = Pipeline([('tfidf', TfidfVectorizer()),\n",
    "                ('ft', FunctionTransformer(lambda x: x.todense(), accept_sparse=True)),\n",
    "                ('bdt', KNeighborsClassifier())\n",
    "                ])\n",
    "\n",
    "pipe_cv_rf = Pipeline([('cvec', CountVectorizer()),\n",
    "                ('ft', FunctionTransformer(lambda x: x.todense(), accept_sparse=True)),\n",
    "                ('rf', RandomForestClassifier())\n",
    "                ])\n",
    "\n",
    "pipe_tfidf_rf = Pipeline([('tfidf', TfidfVectorizer()),\n",
    "                ('ft', FunctionTransformer(lambda x: x.todense(), accept_sparse=True)),\n",
    "                ('rf', RandomForestClassifier())\n",
    "                ])\n",
    "\n",
    "pipe_cv_et = Pipeline([('cvec', CountVectorizer()),\n",
    "                ('ft', FunctionTransformer(lambda x: x.todense(), accept_sparse=True)),\n",
    "                ('et', ExtraTreesClassifier())\n",
    "                ])\n",
    "\n",
    "pipe_tfidf_et = Pipeline([('tfidf', TfidfVectorizer()),\n",
    "                ('ft', FunctionTransformer(lambda x: x.todense(), accept_sparse=True)),\n",
    "                ('et', ExtraTreesClassifier())\n",
    "                ])\n",
    "\n",
    "\n",
    "# Random Forest, knn, extra tree done separately \n",
    "# model and vectorizer will reqquire individual grid searches\n"
   ]
  },
  {
   "cell_type": "code",
   "execution_count": 152,
   "metadata": {},
   "outputs": [],
   "source": [
    "pipe_params_cv = {'cvec__stop_words' : ['english', None],\n",
    "                  'cvec__max_features' : [2500,3000,3500,5000],\n",
    "                  'cvec__min_df' : [1,3,5],\n",
    "                  'cvec__max_df' : [.9,.95],\n",
    "                  'cvec__ngram_range' : [(1,1),(1,2)]}\n",
    "\n",
    "pipe_params_tdidf = {'tfidf__stop_words' : ['english', None],\n",
    "               'tfidf__max_features' : [2500,3000,3500,5000],\n",
    "                     'tfidf__min_df' : [1,3,5],\n",
    "                  'tfidf__max_df' : [.9,.95],\n",
    "              'tfidf__ngram_range' : [(1,1),(1,2)]}"
   ]
  },
  {
   "cell_type": "code",
   "execution_count": 153,
   "metadata": {},
   "outputs": [],
   "source": [
    "# Instantiate GridSearchCV.\n",
    "\n",
    "gs_cv_lr = GridSearchCV(pipe_cv_lr, # what object are we optimizing?\n",
    "                  param_grid = pipe_params_cv, # what parameters values are we searching?\n",
    "                  cv=5, n_jobs=-1) # 5-fold cross-validation.\n",
    "\n",
    "gs_tfidf_lr = GridSearchCV(pipe_tfidf_lr, # what object are we optimizing?\n",
    "                  param_grid = pipe_params_tdidf, # what parameters values are we searching?\n",
    "                  cv=5, n_jobs=-1) # 5-fold cross-validation.\n",
    "\n",
    "gs_cv_nb = GridSearchCV(pipe_cv_nb, # what object are we optimizing?\n",
    "                  param_grid = pipe_params_cv, # what parameters values are we searching?\n",
    "                  cv=5, n_jobs=-1) # 5-fold cross-validation.\n",
    "\n",
    "gs_tfidf_nb = GridSearchCV(pipe_tfidf_nb, # what object are we optimizing?\n",
    "                  param_grid = pipe_params_tdidf, # what parameters values are we searching?\n",
    "                  cv=5, n_jobs=-1) # 5-fold cross-validation.\n",
    "\n",
    "gs_tfidf_gb = GridSearchCV(pipe_tfidf_gb, # what object are we optimizing?\n",
    "                  param_grid = pipe_params_tdidf, # what parameters values are we searching?\n",
    "                  cv=5, n_jobs=-1) # 5-fold cross-validation.\n",
    "\n",
    "gs_cv_dt = GridSearchCV(pipe_cv_dt, # what object are we optimizing?\n",
    "                  param_grid = pipe_params_cv, # what parameters values are we searching?\n",
    "                  cv=5, n_jobs=-1) # 5-fold cross-validation.\n",
    "\n",
    "gs_tfidf_dt = GridSearchCV(pipe_tfidf_dt, # what object are we optimizing?\n",
    "                  param_grid = pipe_params_tdidf, # what parameters values are we searching?\n",
    "                  cv=5, n_jobs=-1) # 5-fold cross-validation.\n",
    "\n",
    "gs_cv_bdt = GridSearchCV(pipe_cv_bdt, # what object are we optimizing?\n",
    "                  param_grid = pipe_params_cv, # what parameters values are we searching?\n",
    "                  cv=5, n_jobs=-1) # 5-fold cross-validation.\n",
    "\n",
    "gs_tfidf_bdt = GridSearchCV(pipe_tfidf_bdt, # what object are we optimizing?\n",
    "                  param_grid = pipe_params_tdidf, # what parameters values are we searching?\n",
    "                  cv=5, n_jobs=-1) # 5-fold cross-validation.\n",
    "\n",
    "gs_cv_knn = GridSearchCV(pipe_cv_knn, # what object are we optimizing?\n",
    "                  param_grid = pipe_params_cv, # what parameters values are we searching?\n",
    "                  cv=5, n_jobs=-1) # 5-fold cross-validation.\n",
    "\n",
    "gs_tfidf_knn = GridSearchCV(pipe_tfidf_knn, # what object are we optimizing?\n",
    "                  param_grid = pipe_params_tdidf, # what parameters values are we searching?\n",
    "                  cv=5, n_jobs=-1) # 5-fold cross-validation.\n",
    "\n",
    "gs_cv_rf = GridSearchCV(pipe_cv_rf, # what object are we optimizing?\n",
    "                  param_grid = pipe_params_cv, # what parameters values are we searching?\n",
    "                  cv=5, n_jobs=-1) # 5-fold cross-validation.\n",
    "\n",
    "gs_tfidf_rf = GridSearchCV(pipe_tfidf_rf, # what object are we optimizing?\n",
    "                  param_grid = pipe_params_tdidf, # what parameters values are we searching?\n",
    "                  cv=5, n_jobs=-1) # 5-fold cross-validation.\n",
    "\n",
    "gs_cv_et = GridSearchCV(pipe_cv_et, # what object are we optimizing?\n",
    "                  param_grid = pipe_params_cv, # what parameters values are we searching?\n",
    "                  cv=5, n_jobs=-1) # 5-fold cross-validation.\n",
    "\n",
    "gs_tfidf_et = GridSearchCV(pipe_tfidf_et, # what object are we optimizing?\n",
    "                  param_grid = pipe_params_tdidf, # what parameters values are we searching?\n",
    "                  cv=5, n_jobs=-1) # 5-fold cross-validation."
   ]
  },
  {
   "cell_type": "code",
   "execution_count": null,
   "metadata": {},
   "outputs": [],
   "source": []
  },
  {
   "cell_type": "markdown",
   "metadata": {},
   "source": [
    "### Logistic Regression"
   ]
  },
  {
   "cell_type": "markdown",
   "metadata": {},
   "source": [
    "#### with CV"
   ]
  },
  {
   "cell_type": "code",
   "execution_count": 226,
   "metadata": {},
   "outputs": [
    {
     "name": "stdout",
     "output_type": "stream",
     "text": [
      "best Logistic Regression score with Grid Search = 0.8309963099630997\n",
      "best Logistic Regression parameters with Grid Search = {'cvec__max_df': 0.9, 'cvec__max_features': 3500, 'cvec__min_df': 1, 'cvec__ngram_range': (1, 1), 'cvec__stop_words': 'english'}\n"
     ]
    }
   ],
   "source": [
    "gs_cv_lr.fit(X_train, y_train)\n",
    "print('best Logistic Regression score with Grid Search = ' + str(gs_cv_lr.best_score_))\n",
    "print('best Logistic Regression parameters with Grid Search = ' + str(gs_cv_lr.best_params_))"
   ]
  },
  {
   "cell_type": "markdown",
   "metadata": {},
   "source": [
    "Fitting/vectorizing best parameters"
   ]
  },
  {
   "cell_type": "code",
   "execution_count": 227,
   "metadata": {},
   "outputs": [
    {
     "data": {
      "text/plain": [
       "(1355, 3500)"
      ]
     },
     "execution_count": 227,
     "metadata": {},
     "output_type": "execute_result"
    }
   ],
   "source": [
    "cvec = CountVectorizer(max_df=0.9, \n",
    "                       max_features=3500, \n",
    "                       min_df=1, \n",
    "                       ngram_range=(1,1), \n",
    "                       stop_words='english')\n",
    "\n",
    "\n",
    "X_train_cvec = cvec.fit_transform(X_train, y_train).todense()\n",
    "X_test_cvec = cvec.transform(X_test).todense()\n",
    "\n",
    "X_train_cvec.shape"
   ]
  },
  {
   "cell_type": "code",
   "execution_count": null,
   "metadata": {},
   "outputs": [],
   "source": []
  },
  {
   "cell_type": "code",
   "execution_count": 156,
   "metadata": {},
   "outputs": [
    {
     "name": "stdout",
     "output_type": "stream",
     "text": [
      "0.8324723247232473\n"
     ]
    },
    {
     "data": {
      "text/plain": [
       "{'C': 1.183673469387755}"
      ]
     },
     "execution_count": 156,
     "metadata": {},
     "output_type": "execute_result"
    }
   ],
   "source": [
    "lr = LogisticRegression()\n",
    "lr_params = {'C': np.linspace(1, 10)}\n",
    "\n",
    "\n",
    "\n",
    "gs_lr = GridSearchCV(lr, param_grid=lr_params, cv=5)\n",
    "gs_lr.fit(X_train_cvec, y_train)\n",
    "print(gs_lr.best_score_)\n",
    "gs_lr.best_params_\n",
    "\n"
   ]
  },
  {
   "cell_type": "code",
   "execution_count": null,
   "metadata": {},
   "outputs": [],
   "source": []
  },
  {
   "cell_type": "code",
   "execution_count": 157,
   "metadata": {},
   "outputs": [],
   "source": [
    "gs_cv_lr_best = gs_lr.best_estimator_"
   ]
  },
  {
   "cell_type": "code",
   "execution_count": 228,
   "metadata": {},
   "outputs": [],
   "source": [
    "# saving best estimates\n",
    "gs_cv_lr_best = LogisticRegression(C=1.1836)"
   ]
  },
  {
   "cell_type": "code",
   "execution_count": 229,
   "metadata": {},
   "outputs": [
    {
     "name": "stdout",
     "output_type": "stream",
     "text": [
      "best Logistic Regression train score with CV = 0.9845018450184502\n"
     ]
    }
   ],
   "source": [
    "gs_cv_lr_best.fit(X_train_cvec, y_train)\n",
    "print('best Logistic Regression train score with CV = ' + str(gs_cv_lr_best.score(X_train_cvec, y_train)))"
   ]
  },
  {
   "cell_type": "code",
   "execution_count": 230,
   "metadata": {},
   "outputs": [
    {
     "name": "stdout",
     "output_type": "stream",
     "text": [
      "best Logistic Regression test score with CV = 0.8407079646017699\n"
     ]
    }
   ],
   "source": [
    "print('best Logistic Regression test score with CV = ' + str(gs_cv_lr_best.score(X_test_cvec, y_test)))"
   ]
  },
  {
   "cell_type": "code",
   "execution_count": null,
   "metadata": {},
   "outputs": [],
   "source": []
  },
  {
   "cell_type": "markdown",
   "metadata": {},
   "source": [
    "#### with TFIDF"
   ]
  },
  {
   "cell_type": "code",
   "execution_count": 160,
   "metadata": {},
   "outputs": [
    {
     "name": "stdout",
     "output_type": "stream",
     "text": [
      "best Logistic Regression score with Grid Search = 0.8435424354243543\n",
      "best Logistic Regression parameters with Grid Search = {'tfidf__max_df': 0.9, 'tfidf__max_features': 2500, 'tfidf__min_df': 1, 'tfidf__ngram_range': (1, 1), 'tfidf__stop_words': None}\n"
     ]
    }
   ],
   "source": [
    "gs_tfidf_lr.fit(X_train, y_train)\n",
    "print('best Logistic Regression score with Grid Search = ' + str(gs_tfidf_lr.best_score_))\n",
    "print('best Logistic Regression parameters with Grid Search = ' + str(gs_tfidf_lr.best_params_))"
   ]
  },
  {
   "cell_type": "markdown",
   "metadata": {},
   "source": [
    "Fitting/vectorizing best parameters"
   ]
  },
  {
   "cell_type": "code",
   "execution_count": 161,
   "metadata": {},
   "outputs": [
    {
     "data": {
      "text/plain": [
       "(1355, 2500)"
      ]
     },
     "execution_count": 161,
     "metadata": {},
     "output_type": "execute_result"
    }
   ],
   "source": [
    "tfidf = TfidfVectorizer(max_df=0.9, \n",
    "                       max_features=2500, \n",
    "                       min_df=1, \n",
    "                       ngram_range=(1,1), \n",
    "                       stop_words=None)\n",
    "\n",
    "\n",
    "X_train_tfidf = tfidf.fit_transform(X_train, y_train).todense()\n",
    "X_test_tfidf = tfidf.transform(X_test).todense()\n",
    "\n",
    "X_train_tfidf.shape"
   ]
  },
  {
   "cell_type": "code",
   "execution_count": null,
   "metadata": {},
   "outputs": [],
   "source": []
  },
  {
   "cell_type": "code",
   "execution_count": 162,
   "metadata": {},
   "outputs": [
    {
     "name": "stdout",
     "output_type": "stream",
     "text": [
      "0.8420664206642066\n"
     ]
    },
    {
     "data": {
      "text/plain": [
       "{'C': 1.7346938775510203}"
      ]
     },
     "execution_count": 162,
     "metadata": {},
     "output_type": "execute_result"
    }
   ],
   "source": [
    "lr = LogisticRegression()\n",
    "\n",
    "lr_params = {'C': np.linspace(1, 10)}\n",
    "\n",
    "gs_lr = GridSearchCV(lr, param_grid=lr_params, cv=5)\n",
    "gs_lr.fit(X_train_tfidf, y_train)\n",
    "print(gs_lr.best_score_)\n",
    "gs_lr.best_params_"
   ]
  },
  {
   "cell_type": "code",
   "execution_count": null,
   "metadata": {},
   "outputs": [],
   "source": []
  },
  {
   "cell_type": "code",
   "execution_count": 163,
   "metadata": {},
   "outputs": [],
   "source": [
    "gs_tfidf_lr_best = gs_lr.best_estimator_"
   ]
  },
  {
   "cell_type": "code",
   "execution_count": 231,
   "metadata": {},
   "outputs": [],
   "source": [
    "# saving best parameters\n",
    "gs_tfidf_lr_best = LogisticRegression(C=1.7346938775510203)"
   ]
  },
  {
   "cell_type": "code",
   "execution_count": 232,
   "metadata": {},
   "outputs": [
    {
     "name": "stdout",
     "output_type": "stream",
     "text": [
      "best Logistic Regression train score with TFIDF = 0.9653136531365314\n"
     ]
    }
   ],
   "source": [
    "gs_tfidf_lr_best.fit(X_train_tfidf, y_train)\n",
    "print('best Logistic Regression train score with TFIDF = ' + str(gs_tfidf_lr_best.score(X_train_tfidf, y_train)))"
   ]
  },
  {
   "cell_type": "code",
   "execution_count": 233,
   "metadata": {},
   "outputs": [
    {
     "name": "stdout",
     "output_type": "stream",
     "text": [
      "best Logistic Regression test score with TDIDF = 0.8429203539823009\n"
     ]
    }
   ],
   "source": [
    "print('best Logistic Regression test score with TDIDF = ' + str(gs_tfidf_lr_best.score(X_test_tfidf, y_test)))"
   ]
  },
  {
   "cell_type": "code",
   "execution_count": null,
   "metadata": {},
   "outputs": [],
   "source": []
  },
  {
   "cell_type": "code",
   "execution_count": null,
   "metadata": {},
   "outputs": [],
   "source": []
  },
  {
   "cell_type": "code",
   "execution_count": 220,
   "metadata": {},
   "outputs": [],
   "source": [
    "#create mega function to draw roc curve\n",
    "def draw_roc(df, true_col, pred_prob_col, model_name):\n",
    "    # Create figure.\n",
    "    plt.figure(figsize = (10,7))\n",
    "\n",
    "    # Create threshold values. (Dashed red line in image.)\n",
    "    thresholds = np.linspace(0, 1, 200)\n",
    "\n",
    "    # Define function to calculate sensitivity. (True positive rate.)\n",
    "    def TPR(df, true_col, pred_prob_col, threshold):\n",
    "        true_positive = df[(df[true_col] == 1) & (df[pred_prob_col] >= threshold)].shape[0]\n",
    "        false_negative = df[(df[true_col] == 1) & (df[pred_prob_col] < threshold)].shape[0]\n",
    "        return true_positive / (true_positive + false_negative)\n",
    "\n",
    "    # Define function to calculate 1 - specificity. (False positive rate.)\n",
    "    def FPR(df, true_col, pred_prob_col, threshold):\n",
    "        true_negative = df[(df[true_col] == 0) & (df[pred_prob_col] <= threshold)].shape[0]\n",
    "        false_positive = df[(df[true_col] == 0) & (df[pred_prob_col] > threshold)].shape[0]\n",
    "        return 1 - (true_negative / (true_negative + false_positive))\n",
    "\n",
    "    # Calculate sensitivity & 1-specificity for each threshold between 0 and 1.\n",
    "    tpr_values = [TPR(df, true_col, pred_prob_col, prob) for prob in thresholds]\n",
    "    fpr_values = [FPR(df, true_col, pred_prob_col, prob) for prob in thresholds]\n",
    "\n",
    "    # Plot ROC curve.\n",
    "    plt.plot(fpr_values, # False Positive Rate on X-axis\n",
    "             tpr_values, # True Positive Rate on Y-axis\n",
    "             label='ROC Curve')\n",
    "\n",
    "    # Plot baseline. (Perfect overlap between the two populations.)\n",
    "    plt.plot(np.linspace(0, 1, 200),\n",
    "             np.linspace(0, 1, 200),\n",
    "             label='baseline',\n",
    "             linestyle='--')\n",
    "\n",
    "    # Label axes.\n",
    "    plt.title(f'ROC Curve with AUC = {round(roc_auc_score(df[true_col], df[pred_prob_col]),3)}\\n({model_name})',fontsize=22)\n",
    "    plt.ylabel('Sensitivity - False Positive Rate', fontsize=18)\n",
    "    plt.xlabel('1 - Specificity - True Positive Rate', fontsize=18)\n",
    "\n",
    "    # Create legend.\n",
    "    plt.legend(fontsize=16);"
   ]
  },
  {
   "cell_type": "code",
   "execution_count": 234,
   "metadata": {},
   "outputs": [],
   "source": [
    "# saving best model\n",
    "logreg = gs_tfidf_lr_best"
   ]
  },
  {
   "cell_type": "code",
   "execution_count": 236,
   "metadata": {},
   "outputs": [],
   "source": [
    "pred_proba_logreg = [i[1] for i in logreg.predict_proba(X_test_tfidf)]"
   ]
  },
  {
   "cell_type": "code",
   "execution_count": 237,
   "metadata": {},
   "outputs": [
    {
     "name": "stdout",
     "output_type": "stream",
     "text": [
      "ROC AUC Score:  0.9115418502202642\n"
     ]
    }
   ],
   "source": [
    "print(\"ROC AUC Score: \", roc_auc_score(y_test, pred_proba_logreg))"
   ]
  },
  {
   "cell_type": "code",
   "execution_count": 238,
   "metadata": {},
   "outputs": [],
   "source": [
    "#Put the actual values and predicted probabilities in a dataframe\n",
    "pred_logreg_df = pd.DataFrame({'actual': y_test, \n",
    "                               'pred': pred_proba_logreg})"
   ]
  },
  {
   "cell_type": "code",
   "execution_count": 239,
   "metadata": {},
   "outputs": [],
   "source": [
    "pred_logreg_df['predict'] = gs_cv_lr_best.predict(X_test_cvec)"
   ]
  },
  {
   "cell_type": "code",
   "execution_count": 240,
   "metadata": {},
   "outputs": [],
   "source": [
    "tn, fp, fn, tp = confusion_matrix(y_test, pred_logreg_df['predict']).ravel()"
   ]
  },
  {
   "cell_type": "code",
   "execution_count": 241,
   "metadata": {},
   "outputs": [
    {
     "name": "stdout",
     "output_type": "stream",
     "text": [
      "True Negatives: 184\n",
      "False Positives: 41\n",
      "False Negatives: 31\n",
      "True Positives: 196\n"
     ]
    }
   ],
   "source": [
    "print(\"True Negatives: %s\" % tn)\n",
    "print(\"False Positives: %s\" % fp)\n",
    "print(\"False Negatives: %s\" % fn)\n",
    "print(\"True Positives: %s\" % tp)\n"
   ]
  },
  {
   "cell_type": "code",
   "execution_count": null,
   "metadata": {},
   "outputs": [],
   "source": []
  },
  {
   "cell_type": "code",
   "execution_count": null,
   "metadata": {},
   "outputs": [],
   "source": []
  },
  {
   "cell_type": "markdown",
   "metadata": {},
   "source": [
    "### ROC Curve"
   ]
  },
  {
   "cell_type": "code",
   "execution_count": 243,
   "metadata": {},
   "outputs": [
    {
     "data": {
      "image/png": "[encoded data removed]",
      "text/plain": [
       "<Figure size 720x504 with 1 Axes>"
      ]
     },
     "metadata": {
      "needs_background": "light"
     },
     "output_type": "display_data"
    }
   ],
   "source": [
    "draw_roc(pred_logreg_df, \"actual\", \"pred\", 'Logistic Regression with TFIDF')"
   ]
  },
  {
   "cell_type": "code",
   "execution_count": null,
   "metadata": {},
   "outputs": [],
   "source": []
  },
  {
   "cell_type": "code",
   "execution_count": null,
   "metadata": {},
   "outputs": [],
   "source": []
  },
  {
   "cell_type": "markdown",
   "metadata": {},
   "source": [
    "### Multinomial Naive Base"
   ]
  },
  {
   "cell_type": "markdown",
   "metadata": {},
   "source": [
    "#### with CV "
   ]
  },
  {
   "cell_type": "code",
   "execution_count": 166,
   "metadata": {},
   "outputs": [
    {
     "name": "stdout",
     "output_type": "stream",
     "text": [
      "best Multinomial NB score with Grid Search = 0.8354243542435424\n",
      "best Multinomial NB parameters with Grid Search = {'cvec__max_df': 0.9, 'cvec__max_features': 2500, 'cvec__min_df': 1, 'cvec__ngram_range': (1, 2), 'cvec__stop_words': None}\n"
     ]
    }
   ],
   "source": [
    "gs_cv_nb.fit(X_train, y_train)\n",
    "print('best Multinomial NB score with Grid Search = ' + str(gs_cv_nb.best_score_))\n",
    "print('best Multinomial NB parameters with Grid Search = ' + str(gs_cv_nb.best_params_))"
   ]
  },
  {
   "cell_type": "markdown",
   "metadata": {},
   "source": [
    "Fitting/vectorizing best parameters"
   ]
  },
  {
   "cell_type": "code",
   "execution_count": 167,
   "metadata": {},
   "outputs": [
    {
     "data": {
      "text/plain": [
       "(1355, 2500)"
      ]
     },
     "execution_count": 167,
     "metadata": {},
     "output_type": "execute_result"
    }
   ],
   "source": [
    "cvec = CountVectorizer(max_df=0.9, \n",
    "                       max_features=2500, \n",
    "                       min_df=1, \n",
    "                       ngram_range=(1,2), \n",
    "                       stop_words=None)\n",
    "\n",
    "\n",
    "X_train_cvec = cvec.fit_transform(X_train, y_train).todense()\n",
    "X_test_cvec = cvec.transform(X_test).todense()\n",
    "\n",
    "X_train_cvec.shape"
   ]
  },
  {
   "cell_type": "code",
   "execution_count": null,
   "metadata": {},
   "outputs": [],
   "source": []
  },
  {
   "cell_type": "code",
   "execution_count": 168,
   "metadata": {},
   "outputs": [
    {
     "name": "stdout",
     "output_type": "stream",
     "text": [
      "best Multinomial NB train score with CV = 0.9416974169741698\n"
     ]
    }
   ],
   "source": [
    "nb = MultinomialNB()\n",
    "\n",
    "nb.fit(X_train_cvec, y_train)\n",
    "print('best Multinomial NB train score with CV = ' + str(nb.score(X_train_cvec, y_train)))"
   ]
  },
  {
   "cell_type": "code",
   "execution_count": 169,
   "metadata": {},
   "outputs": [
    {
     "name": "stdout",
     "output_type": "stream",
     "text": [
      "best Multinomial NB test score with CV = 0.834070796460177\n"
     ]
    }
   ],
   "source": [
    "print('best Multinomial NB test score with CV = ' + str(nb.score(X_test_cvec, y_test)))"
   ]
  },
  {
   "cell_type": "code",
   "execution_count": null,
   "metadata": {},
   "outputs": [],
   "source": []
  },
  {
   "cell_type": "markdown",
   "metadata": {},
   "source": [
    "#### with TFIDF"
   ]
  },
  {
   "cell_type": "code",
   "execution_count": 170,
   "metadata": {},
   "outputs": [
    {
     "name": "stdout",
     "output_type": "stream",
     "text": [
      "best Multinomial NB score with Grid Search = 0.8236162361623615\n",
      "best Multinomial NB parameters with Grid Search = {'tfidf__max_df': 0.9, 'tfidf__max_features': 3500, 'tfidf__min_df': 1, 'tfidf__ngram_range': (1, 2), 'tfidf__stop_words': 'english'}\n"
     ]
    }
   ],
   "source": [
    "gs_tfidf_nb.fit(X_train, y_train)\n",
    "print('best Multinomial NB score with Grid Search = ' + str(gs_tfidf_nb.best_score_))\n",
    "print('best Multinomial NB parameters with Grid Search = ' + str(gs_tfidf_nb.best_params_))"
   ]
  },
  {
   "cell_type": "markdown",
   "metadata": {},
   "source": [
    "Fitting/vectorizing best parameters"
   ]
  },
  {
   "cell_type": "code",
   "execution_count": 171,
   "metadata": {},
   "outputs": [
    {
     "data": {
      "text/plain": [
       "(1355, 3500)"
      ]
     },
     "execution_count": 171,
     "metadata": {},
     "output_type": "execute_result"
    }
   ],
   "source": [
    "tfidf = TfidfVectorizer(max_df=0.9, \n",
    "                       max_features=3500, \n",
    "                       min_df=1, \n",
    "                       ngram_range=(1,2), \n",
    "                       stop_words='english')\n",
    "\n",
    "\n",
    "X_train_tfidf = tfidf.fit_transform(X_train, y_train).todense()\n",
    "X_test_tfidf = tfidf.transform(X_test).todense()\n",
    "\n",
    "X_train_tfidf.shape"
   ]
  },
  {
   "cell_type": "code",
   "execution_count": null,
   "metadata": {},
   "outputs": [],
   "source": []
  },
  {
   "cell_type": "code",
   "execution_count": 172,
   "metadata": {},
   "outputs": [
    {
     "name": "stdout",
     "output_type": "stream",
     "text": [
      "best Multinomial NB train score with TFIDF = 0.9623616236162361\n"
     ]
    }
   ],
   "source": [
    "nb = MultinomialNB()\n",
    "\n",
    "nb.fit(X_train_tfidf, y_train)\n",
    "print('best Multinomial NB train score with TFIDF = ' + str(nb.score(X_train_tfidf, y_train)))"
   ]
  },
  {
   "cell_type": "code",
   "execution_count": null,
   "metadata": {},
   "outputs": [],
   "source": []
  },
  {
   "cell_type": "code",
   "execution_count": 173,
   "metadata": {},
   "outputs": [
    {
     "name": "stdout",
     "output_type": "stream",
     "text": [
      "best Multinomial NB test score with TFIDF = 0.838495575221239\n"
     ]
    }
   ],
   "source": [
    "print('best Multinomial NB test score with TFIDF = ' + str(nb.score(X_test_tfidf, y_test)))"
   ]
  },
  {
   "cell_type": "code",
   "execution_count": null,
   "metadata": {},
   "outputs": [],
   "source": []
  },
  {
   "cell_type": "code",
   "execution_count": null,
   "metadata": {},
   "outputs": [],
   "source": []
  },
  {
   "cell_type": "code",
   "execution_count": 244,
   "metadata": {},
   "outputs": [],
   "source": [
    "#get list of predictions\n",
    "pred = nb.predict(X_test_cvec)"
   ]
  },
  {
   "cell_type": "code",
   "execution_count": 245,
   "metadata": {},
   "outputs": [],
   "source": [
    "tn, fp, fn, tp = confusion_matrix(y_test, pred).ravel()"
   ]
  },
  {
   "cell_type": "code",
   "execution_count": 246,
   "metadata": {},
   "outputs": [
    {
     "name": "stdout",
     "output_type": "stream",
     "text": [
      "True Negatives: 99\n",
      "False Positives: 126\n",
      "False Negatives: 94\n",
      "True Positives: 133\n"
     ]
    }
   ],
   "source": [
    "print(\"True Negatives: %s\" % tn)\n",
    "print(\"False Positives: %s\" % fp)\n",
    "print(\"False Negatives: %s\" % fn)\n",
    "print(\"True Positives: %s\" % tp)"
   ]
  },
  {
   "cell_type": "code",
   "execution_count": 247,
   "metadata": {},
   "outputs": [],
   "source": [
    "#construct list of probabilities\n",
    "pred_proba = [i[1] for i in nb.predict_proba(X_test_cvec)]"
   ]
  },
  {
   "cell_type": "code",
   "execution_count": 248,
   "metadata": {},
   "outputs": [],
   "source": [
    "# Put the actual values and predicted probabilities in a dataframe\n",
    "pred_nb_df = pd.DataFrame({'actual': y_test, \n",
    "                           'pred': pred_proba})"
   ]
  },
  {
   "cell_type": "code",
   "execution_count": 249,
   "metadata": {},
   "outputs": [
    {
     "name": "stdout",
     "output_type": "stream",
     "text": [
      "ROC AUC Score:  0.5151639745472345\n"
     ]
    }
   ],
   "source": [
    "print(\"ROC AUC Score: \", roc_auc_score(y_test, pred_proba))"
   ]
  },
  {
   "cell_type": "code",
   "execution_count": null,
   "metadata": {},
   "outputs": [],
   "source": []
  },
  {
   "cell_type": "markdown",
   "metadata": {},
   "source": [
    "### ROC Curve"
   ]
  },
  {
   "cell_type": "code",
   "execution_count": 250,
   "metadata": {},
   "outputs": [
    {
     "data": {
      "image/png": "[encoded data removed]",
      "text/plain": [
       "<Figure size 720x504 with 1 Axes>"
      ]
     },
     "metadata": {
      "needs_background": "light"
     },
     "output_type": "display_data"
    }
   ],
   "source": [
    "draw_roc(pred_nb_df, \"actual\", \"pred\", \"Multinomial Naive-Bayes with TFIDF\")"
   ]
  },
  {
   "cell_type": "code",
   "execution_count": null,
   "metadata": {},
   "outputs": [],
   "source": []
  },
  {
   "cell_type": "code",
   "execution_count": null,
   "metadata": {},
   "outputs": [],
   "source": []
  },
  {
   "cell_type": "code",
   "execution_count": null,
   "metadata": {},
   "outputs": [],
   "source": []
  },
  {
   "cell_type": "markdown",
   "metadata": {},
   "source": [
    "### Gaussian Naive Base"
   ]
  },
  {
   "cell_type": "markdown",
   "metadata": {},
   "source": [
    "#### with TFIDF"
   ]
  },
  {
   "cell_type": "markdown",
   "metadata": {},
   "source": [
    "Gaussian is done only with TFIDF as CV is not applicable to it"
   ]
  },
  {
   "cell_type": "code",
   "execution_count": 174,
   "metadata": {},
   "outputs": [
    {
     "name": "stdout",
     "output_type": "stream",
     "text": [
      "best Gaussian NB score with Grid Search = 0.7763837638376383\n",
      "best Gaussian NB parameters with Grid Search = {'tfidf__max_df': 0.9, 'tfidf__max_features': 2500, 'tfidf__min_df': 1, 'tfidf__ngram_range': (1, 2), 'tfidf__stop_words': 'english'}\n"
     ]
    }
   ],
   "source": [
    "gs_tfidf_gb.fit(X_train, y_train)\n",
    "print('best Gaussian NB score with Grid Search = ' + str(gs_tfidf_gb.best_score_))\n",
    "print('best Gaussian NB parameters with Grid Search = ' + str(gs_tfidf_gb.best_params_))"
   ]
  },
  {
   "cell_type": "markdown",
   "metadata": {},
   "source": [
    "Fitting/vectorizing best parameters"
   ]
  },
  {
   "cell_type": "code",
   "execution_count": 175,
   "metadata": {},
   "outputs": [
    {
     "data": {
      "text/plain": [
       "(1355, 2500)"
      ]
     },
     "execution_count": 175,
     "metadata": {},
     "output_type": "execute_result"
    }
   ],
   "source": [
    "tfidf = TfidfVectorizer(max_df=0.9, \n",
    "                       max_features=2500, \n",
    "                       min_df=1, \n",
    "                       ngram_range=(1,2), \n",
    "                       stop_words='english')\n",
    "\n",
    "\n",
    "X_train_tfidf = tfidf.fit_transform(X_train, y_train).todense()\n",
    "X_test_tfidf = tfidf.transform(X_test).todense()\n",
    "\n",
    "X_train_tfidf.shape"
   ]
  },
  {
   "cell_type": "code",
   "execution_count": null,
   "metadata": {},
   "outputs": [],
   "source": []
  },
  {
   "cell_type": "code",
   "execution_count": 176,
   "metadata": {},
   "outputs": [
    {
     "name": "stdout",
     "output_type": "stream",
     "text": [
      "best Gaussian NB train score with TFIDF = 0.9365313653136531\n"
     ]
    }
   ],
   "source": [
    "gb = GaussianNB()\n",
    "\n",
    "gb.fit(X_train_tfidf, y_train)\n",
    "print('best Gaussian NB train score with TFIDF = ' + str(gb.score(X_train_tfidf, y_train)))"
   ]
  },
  {
   "cell_type": "code",
   "execution_count": null,
   "metadata": {},
   "outputs": [],
   "source": []
  },
  {
   "cell_type": "code",
   "execution_count": 177,
   "metadata": {},
   "outputs": [
    {
     "name": "stdout",
     "output_type": "stream",
     "text": [
      "best Gaussian NB test score with TFIDF = 0.7522123893805309\n"
     ]
    }
   ],
   "source": [
    "print('best Gaussian NB test score with TFIDF = ' + str(gb.score(X_test_tfidf, y_test)))"
   ]
  },
  {
   "cell_type": "code",
   "execution_count": null,
   "metadata": {},
   "outputs": [],
   "source": []
  },
  {
   "cell_type": "code",
   "execution_count": null,
   "metadata": {},
   "outputs": [],
   "source": []
  },
  {
   "cell_type": "code",
   "execution_count": null,
   "metadata": {},
   "outputs": [],
   "source": []
  },
  {
   "cell_type": "code",
   "execution_count": 254,
   "metadata": {},
   "outputs": [
    {
     "name": "stdout",
     "output_type": "stream",
     "text": [
      "True Negatives: 124\n",
      "False Positives: 101\n",
      "False Negatives: 130\n",
      "True Positives: 97\n"
     ]
    }
   ],
   "source": [
    "#get list of predictions\n",
    "pred = gb.predict(X_test_tfidf)\n",
    "\n",
    "tn, fp, fn, tp = confusion_matrix(y_test, pred).ravel()\n",
    "\n",
    "print(\"True Negatives: %s\" % tn)\n",
    "print(\"False Positives: %s\" % fp)\n",
    "print(\"False Negatives: %s\" % fn)\n",
    "print(\"True Positives: %s\" % tp)"
   ]
  },
  {
   "cell_type": "code",
   "execution_count": 256,
   "metadata": {},
   "outputs": [],
   "source": [
    "#construct list of probabilities\n",
    "pred_proba = [i[1] for i in gb.predict_proba(X_test_tfidf)]"
   ]
  },
  {
   "cell_type": "code",
   "execution_count": 257,
   "metadata": {},
   "outputs": [],
   "source": [
    "# Put the actual values and predicted probabilities in a dataframe\n",
    "pred_gb_df = pd.DataFrame({'actual': y_test, \n",
    "                           'pred': pred_proba})"
   ]
  },
  {
   "cell_type": "code",
   "execution_count": 258,
   "metadata": {},
   "outputs": [
    {
     "name": "stdout",
     "output_type": "stream",
     "text": [
      "ROC AUC Score:  0.4866666666666666\n"
     ]
    }
   ],
   "source": [
    "print(\"ROC AUC Score: \", roc_auc_score(y_test, pred_proba))"
   ]
  },
  {
   "cell_type": "code",
   "execution_count": null,
   "metadata": {},
   "outputs": [],
   "source": []
  },
  {
   "cell_type": "markdown",
   "metadata": {},
   "source": [
    "### ROC Curve"
   ]
  },
  {
   "cell_type": "code",
   "execution_count": 259,
   "metadata": {},
   "outputs": [
    {
     "data": {
      "image/png": "[encoded data removed]",
      "text/plain": [
       "<Figure size 720x504 with 1 Axes>"
      ]
     },
     "metadata": {
      "needs_background": "light"
     },
     "output_type": "display_data"
    }
   ],
   "source": [
    "draw_roc(pred_gb_df, \"actual\", \"pred\", \"Gaussian Naive-Bayes with TFIDF\")"
   ]
  },
  {
   "cell_type": "code",
   "execution_count": null,
   "metadata": {},
   "outputs": [],
   "source": []
  },
  {
   "cell_type": "code",
   "execution_count": null,
   "metadata": {},
   "outputs": [],
   "source": []
  },
  {
   "cell_type": "code",
   "execution_count": null,
   "metadata": {},
   "outputs": [],
   "source": []
  },
  {
   "cell_type": "markdown",
   "metadata": {},
   "source": [
    "### Decision Tree Classifier"
   ]
  },
  {
   "cell_type": "markdown",
   "metadata": {},
   "source": [
    "#### with CV"
   ]
  },
  {
   "cell_type": "code",
   "execution_count": 178,
   "metadata": {},
   "outputs": [
    {
     "name": "stdout",
     "output_type": "stream",
     "text": [
      "best Decision Tree score with Grid Search = 0.7749077490774907\n",
      "best Decision Tree parameters with Grid Search = {'cvec__max_df': 0.9, 'cvec__max_features': 5000, 'cvec__min_df': 1, 'cvec__ngram_range': (1, 1), 'cvec__stop_words': 'english'}\n"
     ]
    }
   ],
   "source": [
    "gs_cv_dt.fit(X_train, y_train)\n",
    "print('best Decision Tree score with Grid Search = ' + str(gs_cv_dt.best_score_))\n",
    "print('best Decision Tree parameters with Grid Search = ' + str(gs_cv_dt.best_params_))"
   ]
  },
  {
   "cell_type": "markdown",
   "metadata": {},
   "source": [
    "Fitting/vectorizing best parameters"
   ]
  },
  {
   "cell_type": "code",
   "execution_count": 181,
   "metadata": {},
   "outputs": [
    {
     "data": {
      "text/plain": [
       "(1355, 3858)"
      ]
     },
     "execution_count": 181,
     "metadata": {},
     "output_type": "execute_result"
    }
   ],
   "source": [
    "cvec = CountVectorizer(max_df=0.9, \n",
    "                       max_features=5000, \n",
    "                       min_df=1, \n",
    "                       ngram_range=(1,1), \n",
    "                       stop_words='english')\n",
    "\n",
    "\n",
    "X_train_cvec = cvec.fit_transform(X_train, y_train).todense()\n",
    "X_test_cvec = cvec.transform(X_test).todense()\n",
    "\n",
    "X_train_cvec.shape"
   ]
  },
  {
   "cell_type": "code",
   "execution_count": null,
   "metadata": {},
   "outputs": [],
   "source": []
  },
  {
   "cell_type": "code",
   "execution_count": 182,
   "metadata": {},
   "outputs": [
    {
     "name": "stdout",
     "output_type": "stream",
     "text": [
      "0.7985239852398524\n"
     ]
    },
    {
     "data": {
      "text/plain": [
       "{'max_depth': 23, 'min_samples_leaf': 5, 'min_samples_split': 7}"
      ]
     },
     "execution_count": 182,
     "metadata": {},
     "output_type": "execute_result"
    }
   ],
   "source": [
    "dt = DecisionTreeClassifier()\n",
    "dt_params = {'max_depth':[10, 13, 17, 20, 23],\n",
    "             'min_samples_split':[2,3,5,7,10],\n",
    "             'min_samples_leaf':[2,3,4,5]}\n",
    "\n",
    "\n",
    "gs_dt = GridSearchCV(dt, param_grid=dt_params, cv=5)\n",
    "gs_dt.fit(X_train_cvec, y_train)\n",
    "print(gs_dt.best_score_)\n",
    "gs_dt.best_params_\n",
    "\n"
   ]
  },
  {
   "cell_type": "code",
   "execution_count": null,
   "metadata": {},
   "outputs": [],
   "source": []
  },
  {
   "cell_type": "code",
   "execution_count": 183,
   "metadata": {},
   "outputs": [],
   "source": [
    "gs_cv_dt_best = gs_dt.best_estimator_"
   ]
  },
  {
   "cell_type": "code",
   "execution_count": 260,
   "metadata": {},
   "outputs": [],
   "source": [
    "# saving best estimator parameters\n",
    "gs_cv_dt_best = DecisionTreeClassifier(max_depth=23,\n",
    "                                      min_samples_leaf=5,\n",
    "                                      min_samples_split=7)"
   ]
  },
  {
   "cell_type": "code",
   "execution_count": 261,
   "metadata": {},
   "outputs": [
    {
     "name": "stdout",
     "output_type": "stream",
     "text": [
      "best Decision Tree train score with CV = 0.8361623616236162\n",
      "best Decision Tree test score with CV = 0.7964601769911505\n"
     ]
    }
   ],
   "source": [
    "gs_cv_dt_best.fit(X_train_cvec, y_train)\n",
    "print('best Decision Tree train score with CV = ' + str(gs_cv_dt_best.score(X_train_cvec, y_train)))\n",
    "print('best Decision Tree test score with CV = ' + str(gs_cv_dt_best.score(X_test_cvec, y_test)))"
   ]
  },
  {
   "cell_type": "code",
   "execution_count": null,
   "metadata": {},
   "outputs": [],
   "source": []
  },
  {
   "cell_type": "markdown",
   "metadata": {},
   "source": [
    "#### with TFIDF"
   ]
  },
  {
   "cell_type": "code",
   "execution_count": 186,
   "metadata": {},
   "outputs": [
    {
     "name": "stdout",
     "output_type": "stream",
     "text": [
      "best Decision Tree score with Grid Search = 0.7778597785977859\n",
      "best Decision Tree parameters with Grid Search = {'tfidf__max_df': 0.95, 'tfidf__max_features': 5000, 'tfidf__min_df': 1, 'tfidf__ngram_range': (1, 1), 'tfidf__stop_words': None}\n"
     ]
    }
   ],
   "source": [
    "gs_tfidf_dt.fit(X_train, y_train)\n",
    "print('best Decision Tree score with Grid Search = ' + str(gs_tfidf_dt.best_score_))\n",
    "print('best Decision Tree parameters with Grid Search = ' + str(gs_tfidf_dt.best_params_))"
   ]
  },
  {
   "cell_type": "markdown",
   "metadata": {},
   "source": [
    "Fitting/vectorizing best parameters"
   ]
  },
  {
   "cell_type": "code",
   "execution_count": 187,
   "metadata": {},
   "outputs": [
    {
     "data": {
      "text/plain": [
       "(1355, 3947)"
      ]
     },
     "execution_count": 187,
     "metadata": {},
     "output_type": "execute_result"
    }
   ],
   "source": [
    "tfidf = TfidfVectorizer(max_df=0.95, \n",
    "                       max_features=5000, \n",
    "                       min_df=1, \n",
    "                       ngram_range=(1,1), \n",
    "                       stop_words=None)\n",
    "\n",
    "\n",
    "X_train_tfidf = tfidf.fit_transform(X_train, y_train).todense()\n",
    "X_test_tfidf = tfidf.transform(X_test).todense()\n",
    "\n",
    "X_train_tfidf.shape"
   ]
  },
  {
   "cell_type": "code",
   "execution_count": null,
   "metadata": {},
   "outputs": [],
   "source": []
  },
  {
   "cell_type": "code",
   "execution_count": 188,
   "metadata": {},
   "outputs": [
    {
     "name": "stdout",
     "output_type": "stream",
     "text": [
      "0.8118081180811808\n"
     ]
    },
    {
     "data": {
      "text/plain": [
       "{'max_depth': 30, 'min_samples_leaf': 4, 'min_samples_split': 10}"
      ]
     },
     "execution_count": 188,
     "metadata": {},
     "output_type": "execute_result"
    }
   ],
   "source": [
    "dt = DecisionTreeClassifier()\n",
    "dt_params = {'max_depth':[17, 20, 23, 27, 30, 35],\n",
    "             'min_samples_split':[7,10,13],\n",
    "             'min_samples_leaf':[3,4,5]}\n",
    "\n",
    "\n",
    "gs_dt = GridSearchCV(dt, param_grid=dt_params, cv=5)\n",
    "gs_dt.fit(X_train_tfidf, y_train)\n",
    "print(gs_dt.best_score_)\n",
    "gs_dt.best_params_"
   ]
  },
  {
   "cell_type": "code",
   "execution_count": null,
   "metadata": {},
   "outputs": [],
   "source": []
  },
  {
   "cell_type": "code",
   "execution_count": 189,
   "metadata": {},
   "outputs": [],
   "source": [
    "gs_tfidf_dt_best = gs_dt.best_estimator_"
   ]
  },
  {
   "cell_type": "code",
   "execution_count": 262,
   "metadata": {},
   "outputs": [],
   "source": [
    "# saving best estimator params\n",
    "gs_tfidf_dt_best = DecisionTreeClassifier(max_depth=30,\n",
    "                                         min_samples_leaf=4,\n",
    "                                         min_samples_split=10)"
   ]
  },
  {
   "cell_type": "code",
   "execution_count": 263,
   "metadata": {},
   "outputs": [
    {
     "name": "stdout",
     "output_type": "stream",
     "text": [
      "best Decision Tree train score with TFIDF = 0.8671586715867159\n",
      "best Decision Tree test score with TDIDF = 0.7898230088495575\n"
     ]
    }
   ],
   "source": [
    "gs_tfidf_dt_best.fit(X_train_tfidf, y_train)\n",
    "print('best Decision Tree train score with TFIDF = ' + str(gs_tfidf_dt_best.score(X_train_tfidf, y_train)))\n",
    "print('best Decision Tree test score with TDIDF = ' + str(gs_tfidf_dt_best.score(X_test_tfidf, y_test)))"
   ]
  },
  {
   "cell_type": "code",
   "execution_count": null,
   "metadata": {},
   "outputs": [],
   "source": []
  },
  {
   "cell_type": "code",
   "execution_count": null,
   "metadata": {},
   "outputs": [],
   "source": []
  },
  {
   "cell_type": "code",
   "execution_count": 264,
   "metadata": {},
   "outputs": [],
   "source": [
    "# save best estimator\n",
    "dectree = gs_cv_dt_best"
   ]
  },
  {
   "cell_type": "code",
   "execution_count": 266,
   "metadata": {},
   "outputs": [
    {
     "name": "stdout",
     "output_type": "stream",
     "text": [
      "True Negatives: 163\n",
      "False Positives: 62\n",
      "False Negatives: 30\n",
      "True Positives: 197\n"
     ]
    }
   ],
   "source": [
    "#get list of predictions\n",
    "pred = dectree.predict(X_test_cvec)\n",
    "\n",
    "tn, fp, fn, tp = confusion_matrix(y_test, pred).ravel()\n",
    "print(\"True Negatives: %s\" % tn)\n",
    "print(\"False Positives: %s\" % fp)\n",
    "print(\"False Negatives: %s\" % fn)\n",
    "print(\"True Positives: %s\" % tp)"
   ]
  },
  {
   "cell_type": "code",
   "execution_count": null,
   "metadata": {},
   "outputs": [],
   "source": []
  },
  {
   "cell_type": "code",
   "execution_count": null,
   "metadata": {},
   "outputs": [],
   "source": []
  },
  {
   "cell_type": "code",
   "execution_count": 267,
   "metadata": {},
   "outputs": [],
   "source": [
    "#construct list of probabilities\n",
    "pred_proba = [i[1] for i in dectree.predict_proba(X_test_cvec)]"
   ]
  },
  {
   "cell_type": "code",
   "execution_count": 268,
   "metadata": {},
   "outputs": [],
   "source": [
    "# Put the actual values and predicted probabilities in a dataframe\n",
    "pred_gs_cv_dt_best_df = pd.DataFrame({'actual': y_test,\n",
    "                                      'pred': pred_proba})"
   ]
  },
  {
   "cell_type": "code",
   "execution_count": 269,
   "metadata": {},
   "outputs": [
    {
     "name": "stdout",
     "output_type": "stream",
     "text": [
      "ROC AUC Score:  0.8261184532550171\n"
     ]
    }
   ],
   "source": [
    "print(\"ROC AUC Score: \", roc_auc_score(y_test, pred_proba))"
   ]
  },
  {
   "cell_type": "code",
   "execution_count": null,
   "metadata": {},
   "outputs": [],
   "source": []
  },
  {
   "cell_type": "markdown",
   "metadata": {},
   "source": [
    "### ROC Curve"
   ]
  },
  {
   "cell_type": "code",
   "execution_count": 270,
   "metadata": {},
   "outputs": [
    {
     "data": {
      "image/png": "[encoded data removed]",
      "text/plain": [
       "<Figure size 720x504 with 1 Axes>"
      ]
     },
     "metadata": {
      "needs_background": "light"
     },
     "output_type": "display_data"
    }
   ],
   "source": [
    "draw_roc(pred_gs_cv_dt_best_df, \"actual\", \"pred\", \"Decision Tree with CV\")"
   ]
  },
  {
   "cell_type": "code",
   "execution_count": null,
   "metadata": {},
   "outputs": [],
   "source": []
  },
  {
   "cell_type": "code",
   "execution_count": null,
   "metadata": {},
   "outputs": [],
   "source": []
  },
  {
   "cell_type": "code",
   "execution_count": null,
   "metadata": {},
   "outputs": [],
   "source": []
  },
  {
   "cell_type": "markdown",
   "metadata": {},
   "source": [
    "### KNearest Neighbours Classifier"
   ]
  },
  {
   "cell_type": "markdown",
   "metadata": {},
   "source": [
    "#### with CV"
   ]
  },
  {
   "cell_type": "code",
   "execution_count": 192,
   "metadata": {},
   "outputs": [
    {
     "name": "stdout",
     "output_type": "stream",
     "text": [
      "best KNN Classifier score with Grid Search = 0.7239852398523985\n",
      "best KNN parameters with Grid Search = {'cvec__max_df': 0.9, 'cvec__max_features': 2500, 'cvec__min_df': 5, 'cvec__ngram_range': (1, 2), 'cvec__stop_words': 'english'}\n"
     ]
    }
   ],
   "source": [
    "gs_cv_knn.fit(X_train, y_train)\n",
    "print('best KNN Classifier score with Grid Search = ' + str(gs_cv_knn.best_score_))\n",
    "print('best KNN parameters with Grid Search = ' + str(gs_cv_knn.best_params_))"
   ]
  },
  {
   "cell_type": "markdown",
   "metadata": {},
   "source": [
    "Fitting/vectorizing best parameters"
   ]
  },
  {
   "cell_type": "code",
   "execution_count": 193,
   "metadata": {},
   "outputs": [
    {
     "data": {
      "text/plain": [
       "(1355, 572)"
      ]
     },
     "execution_count": 193,
     "metadata": {},
     "output_type": "execute_result"
    }
   ],
   "source": [
    "cvec = CountVectorizer(max_df=0.9, \n",
    "                       max_features=2500, \n",
    "                       min_df=5, \n",
    "                       ngram_range=(1,2), \n",
    "                       stop_words='english')\n",
    "\n",
    "\n",
    "X_train_cvec = cvec.fit_transform(X_train, y_train).todense()\n",
    "X_test_cvec = cvec.transform(X_test).todense()\n",
    "\n",
    "X_train_cvec.shape"
   ]
  },
  {
   "cell_type": "code",
   "execution_count": null,
   "metadata": {},
   "outputs": [],
   "source": []
  },
  {
   "cell_type": "code",
   "execution_count": 194,
   "metadata": {},
   "outputs": [
    {
     "name": "stdout",
     "output_type": "stream",
     "text": [
      "0.7225092250922509\n"
     ]
    },
    {
     "data": {
      "text/plain": [
       "{'n_neighbors': 21, 'p': 1, 'weights': 'distance'}"
      ]
     },
     "execution_count": 194,
     "metadata": {},
     "output_type": "execute_result"
    }
   ],
   "source": [
    "knn = KNeighborsClassifier()\n",
    "knn_params = {\n",
    "    'n_neighbors': range(1, 101, 10),\n",
    "    'p': [1,2,3,4,5],\n",
    "    'weights': ['uniform', 'distance']\n",
    "}\n",
    "\n",
    "gs_knn = GridSearchCV(knn, param_grid=knn_params, cv=5)\n",
    "gs_knn.fit(X_train_cvec, y_train)\n",
    "print(gs_knn.best_score_)\n",
    "gs_knn.best_params_"
   ]
  },
  {
   "cell_type": "code",
   "execution_count": null,
   "metadata": {},
   "outputs": [],
   "source": []
  },
  {
   "cell_type": "code",
   "execution_count": 195,
   "metadata": {},
   "outputs": [],
   "source": [
    "gs_cv_knn_best = gs_knn.best_estimator_"
   ]
  },
  {
   "cell_type": "code",
   "execution_count": 275,
   "metadata": {},
   "outputs": [],
   "source": [
    "# saving best estimator params:\n",
    "gs_cv_knn_best = KNeighborsClassifier(n_neighbors=21,\n",
    "                                     p=1,\n",
    "                                     weights='distance',\n",
    "                                     n_jobs=-1)"
   ]
  },
  {
   "cell_type": "code",
   "execution_count": 276,
   "metadata": {},
   "outputs": [
    {
     "name": "stdout",
     "output_type": "stream",
     "text": [
      "best KNN train score with CV = 0.9992619926199262\n",
      "best Logistic Regression test score with CV = 0.5066371681415929\n"
     ]
    }
   ],
   "source": [
    "gs_cv_knn_best.fit(X_train_cvec, y_train)\n",
    "print('best KNN train score with CV = ' + str(gs_cv_knn_best.score(X_train_cvec, y_train)))\n",
    "print('best Logistic Regression test score with CV = ' + str(gs_cv_knn_best.score(X_test_cvec, y_test)))"
   ]
  },
  {
   "cell_type": "code",
   "execution_count": 197,
   "metadata": {},
   "outputs": [
    {
     "name": "stdout",
     "output_type": "stream",
     "text": [
      "best Logistic Regression test score with CV = 0.7168141592920354\n"
     ]
    }
   ],
   "source": []
  },
  {
   "cell_type": "code",
   "execution_count": null,
   "metadata": {},
   "outputs": [],
   "source": []
  },
  {
   "cell_type": "markdown",
   "metadata": {},
   "source": [
    "#### with TFIDF"
   ]
  },
  {
   "cell_type": "code",
   "execution_count": 198,
   "metadata": {},
   "outputs": [
    {
     "name": "stdout",
     "output_type": "stream",
     "text": [
      "best Logistic Regression score with Grid Search = 0.7535055350553506\n",
      "best Logistic Regression parameters with Grid Search = {'tfidf__max_df': 0.9, 'tfidf__max_features': 2500, 'tfidf__min_df': 1, 'tfidf__ngram_range': (1, 1), 'tfidf__stop_words': 'english'}\n"
     ]
    }
   ],
   "source": [
    "gs_tfidf_knn.fit(X_train, y_train)\n",
    "print('best Logistic Regression score with Grid Search = ' + str(gs_tfidf_knn.best_score_))\n",
    "print('best Logistic Regression parameters with Grid Search = ' + str(gs_tfidf_knn.best_params_))"
   ]
  },
  {
   "cell_type": "markdown",
   "metadata": {},
   "source": [
    "Fitting/vectorizing best parameters"
   ]
  },
  {
   "cell_type": "code",
   "execution_count": 199,
   "metadata": {},
   "outputs": [
    {
     "data": {
      "text/plain": [
       "(1355, 2500)"
      ]
     },
     "execution_count": 199,
     "metadata": {},
     "output_type": "execute_result"
    }
   ],
   "source": [
    "tfidf = TfidfVectorizer(max_df=0.9, \n",
    "                       max_features=2500, \n",
    "                       min_df=1, \n",
    "                       ngram_range=(1,1), \n",
    "                       stop_words='english')\n",
    "\n",
    "\n",
    "X_train_tfidf = tfidf.fit_transform(X_train, y_train).todense()\n",
    "X_test_tfidf = tfidf.transform(X_test).todense()\n",
    "\n",
    "X_train_tfidf.shape"
   ]
  },
  {
   "cell_type": "code",
   "execution_count": null,
   "metadata": {},
   "outputs": [],
   "source": []
  },
  {
   "cell_type": "markdown",
   "metadata": {},
   "source": [
    "_This next cell will take too long to run.\n",
    "<br>\n",
    "Faster to run with these best parameters:\n",
    "<br>_\n",
    "\n",
    "* _n neighbors = 61_\n",
    "* _p = 2_\n",
    "* _weights = distance_"
   ]
  },
  {
   "cell_type": "code",
   "execution_count": 202,
   "metadata": {},
   "outputs": [
    {
     "name": "stdout",
     "output_type": "stream",
     "text": [
      "0.7985239852398525\n"
     ]
    },
    {
     "data": {
      "text/plain": [
       "{'n_neighbors': 61, 'p': 2, 'weights': 'distance'}"
      ]
     },
     "execution_count": 202,
     "metadata": {},
     "output_type": "execute_result"
    }
   ],
   "source": [
    "knn = KNeighborsClassifier()\n",
    "knn_params = {\n",
    "    'n_neighbors': range(1, 101, 10),\n",
    "    'p': [1,2,3,4,5],\n",
    "    'weights': ['uniform', 'distance']\n",
    "}\n",
    "\n",
    "\n",
    "gs_knn = GridSearchCV(knn, param_grid=knn_params, cv=5)\n",
    "gs_knn.fit(X_train_tfidf, y_train)\n",
    "print(gs_knn.best_score_)\n",
    "gs_knn.best_params_"
   ]
  },
  {
   "cell_type": "code",
   "execution_count": null,
   "metadata": {},
   "outputs": [],
   "source": []
  },
  {
   "cell_type": "code",
   "execution_count": 203,
   "metadata": {},
   "outputs": [],
   "source": [
    "gs_tfidf_knn_best = gs_knn.best_estimator_"
   ]
  },
  {
   "cell_type": "code",
   "execution_count": 277,
   "metadata": {},
   "outputs": [],
   "source": [
    "# save best estimator:\n",
    "gs_tfidf_knn_best = KNeighborsClassifier(n_neighbors=61,\n",
    "                                        p=2,\n",
    "                                        weights='distance',\n",
    "                                        n_jobs=-1)"
   ]
  },
  {
   "cell_type": "code",
   "execution_count": 278,
   "metadata": {},
   "outputs": [
    {
     "name": "stdout",
     "output_type": "stream",
     "text": [
      "best KNN train score with TFIDF = 0.9985239852398524\n",
      "best KNN test score with TFIDF = 0.8053097345132744\n"
     ]
    }
   ],
   "source": [
    "gs_tfidf_knn_best.fit(X_train_tfidf, y_train)\n",
    "print('best KNN train score with TFIDF = ' + str(gs_tfidf_knn_best.score(X_train_tfidf, y_train)))\n",
    "print('best KNN test score with TFIDF = ' + str(gs_tfidf_knn_best.score(X_test_tfidf, y_test)))"
   ]
  },
  {
   "cell_type": "code",
   "execution_count": null,
   "metadata": {},
   "outputs": [],
   "source": []
  },
  {
   "cell_type": "code",
   "execution_count": null,
   "metadata": {},
   "outputs": [],
   "source": []
  },
  {
   "cell_type": "code",
   "execution_count": null,
   "metadata": {},
   "outputs": [],
   "source": []
  },
  {
   "cell_type": "code",
   "execution_count": 279,
   "metadata": {},
   "outputs": [],
   "source": [
    "# save best estimator:\n",
    "knn_best = gs_tfidf_knn_best"
   ]
  },
  {
   "cell_type": "code",
   "execution_count": 283,
   "metadata": {},
   "outputs": [
    {
     "name": "stdout",
     "output_type": "stream",
     "text": [
      "True Negatives: 209\n",
      "False Positives: 16\n",
      "False Negatives: 72\n",
      "True Positives: 155\n"
     ]
    }
   ],
   "source": [
    "#get list of predictions\n",
    "pred = knn_best.predict(X_test_tfidf)\n",
    "\n",
    "tn, fp, fn, tp = confusion_matrix(y_test, pred).ravel()\n",
    "print(\"True Negatives: %s\" % tn)\n",
    "print(\"False Positives: %s\" % fp)\n",
    "print(\"False Negatives: %s\" % fn)\n",
    "print(\"True Positives: %s\" % tp)\n"
   ]
  },
  {
   "cell_type": "code",
   "execution_count": 281,
   "metadata": {},
   "outputs": [],
   "source": []
  },
  {
   "cell_type": "code",
   "execution_count": null,
   "metadata": {},
   "outputs": [],
   "source": []
  },
  {
   "cell_type": "code",
   "execution_count": 284,
   "metadata": {},
   "outputs": [],
   "source": [
    "#construct list of probabilities\n",
    "pred_proba = [i[1] for i in knn_best.predict_proba(X_test_tfidf)]"
   ]
  },
  {
   "cell_type": "code",
   "execution_count": 285,
   "metadata": {},
   "outputs": [],
   "source": [
    "# Put the actual values and predicted probabilities in a dataframe\n",
    "pred_gb_df = pd.DataFrame({'actual': y_test, \n",
    "                           'pred': pred_proba})"
   ]
  },
  {
   "cell_type": "code",
   "execution_count": 286,
   "metadata": {},
   "outputs": [
    {
     "name": "stdout",
     "output_type": "stream",
     "text": [
      "ROC AUC Score:  0.8840332843857073\n"
     ]
    }
   ],
   "source": [
    "print(\"ROC AUC Score: \", roc_auc_score(y_test, pred_proba))"
   ]
  },
  {
   "cell_type": "code",
   "execution_count": null,
   "metadata": {},
   "outputs": [],
   "source": []
  },
  {
   "cell_type": "markdown",
   "metadata": {},
   "source": [
    "### ROC Curve"
   ]
  },
  {
   "cell_type": "code",
   "execution_count": 287,
   "metadata": {},
   "outputs": [
    {
     "data": {
      "image/png": "[encoded data removed]",
      "text/plain": [
       "<Figure size 720x504 with 1 Axes>"
      ]
     },
     "metadata": {
      "needs_background": "light"
     },
     "output_type": "display_data"
    }
   ],
   "source": [
    "draw_roc(pred_gb_df, \"actual\", \"pred\", \"KNN Classifier with \")"
   ]
  },
  {
   "cell_type": "code",
   "execution_count": null,
   "metadata": {},
   "outputs": [],
   "source": []
  },
  {
   "cell_type": "code",
   "execution_count": null,
   "metadata": {},
   "outputs": [],
   "source": []
  },
  {
   "cell_type": "code",
   "execution_count": null,
   "metadata": {},
   "outputs": [],
   "source": []
  },
  {
   "cell_type": "markdown",
   "metadata": {},
   "source": [
    "### Random Forest"
   ]
  },
  {
   "cell_type": "markdown",
   "metadata": {},
   "source": [
    "#### with CV"
   ]
  },
  {
   "cell_type": "code",
   "execution_count": 288,
   "metadata": {},
   "outputs": [
    {
     "name": "stdout",
     "output_type": "stream",
     "text": [
      "best Random Forest score with Grid Search = 0.8302583025830259\n",
      "best Random Forest parameters with Grid Search = {'cvec__max_df': 0.9, 'cvec__max_features': 5000, 'cvec__min_df': 1, 'cvec__ngram_range': (1, 1), 'cvec__stop_words': 'english'}\n"
     ]
    }
   ],
   "source": [
    "gs_cv_rf.fit(X_train, y_train)\n",
    "print('best Random Forest score with Grid Search = ' + str(gs_cv_rf.best_score_))\n",
    "print('best Random Forest parameters with Grid Search = ' + str(gs_cv_rf.best_params_))"
   ]
  },
  {
   "cell_type": "markdown",
   "metadata": {},
   "source": [
    "Fitting/vectorizing best parameters"
   ]
  },
  {
   "cell_type": "code",
   "execution_count": 289,
   "metadata": {},
   "outputs": [
    {
     "data": {
      "text/plain": [
       "(1355, 3858)"
      ]
     },
     "execution_count": 289,
     "metadata": {},
     "output_type": "execute_result"
    }
   ],
   "source": [
    "cvec = CountVectorizer(max_df=0.9, \n",
    "                       max_features=5000, \n",
    "                       min_df=1, \n",
    "                       ngram_range=(1,1), \n",
    "                       stop_words='english')\n",
    "\n",
    "\n",
    "X_train_cvec = cvec.fit_transform(X_train, y_train).todense()\n",
    "X_test_cvec = cvec.transform(X_test).todense()\n",
    "\n",
    "X_train_cvec.shape"
   ]
  },
  {
   "cell_type": "code",
   "execution_count": null,
   "metadata": {},
   "outputs": [],
   "source": []
  },
  {
   "cell_type": "code",
   "execution_count": null,
   "metadata": {},
   "outputs": [],
   "source": [
    "rf = RandomForestClassifier()\n",
    "rf_params = {\n",
    "    'n_estimators':[100,150,200],\n",
    "    'max_depth': [None,1,2,3,4,5]\n",
    "}\n",
    "\n",
    "\n",
    "\n",
    "gs_rf = GridSearchCV(rf, param_grid=rf_params, cv=5)\n",
    "gs_rf.fit(X_train_cvec, y_train)\n",
    "print(gs_rf.best_score_)\n",
    "gs_rf.best_params_\n",
    "\n"
   ]
  },
  {
   "cell_type": "code",
   "execution_count": null,
   "metadata": {},
   "outputs": [],
   "source": []
  },
  {
   "cell_type": "code",
   "execution_count": 63,
   "metadata": {},
   "outputs": [],
   "source": [
    "gs_cv_rf_best = gs_rf.best_estimator_"
   ]
  },
  {
   "cell_type": "code",
   "execution_count": 69,
   "metadata": {},
   "outputs": [
    {
     "name": "stdout",
     "output_type": "stream",
     "text": [
      "best Logistic Regression train score with CV = 0.9845018450184502\n"
     ]
    }
   ],
   "source": [
    "gs_cv_rf_best.fit(X_train_cvec, y_train)\n",
    "print('best Random Forest train score with CV = ' + str(gs_cv_rf_best.score(X_train_cvec, y_train)))"
   ]
  },
  {
   "cell_type": "code",
   "execution_count": 70,
   "metadata": {},
   "outputs": [
    {
     "name": "stdout",
     "output_type": "stream",
     "text": [
      "best Logistic Regression test score with CV = 0.9823008849557522\n"
     ]
    }
   ],
   "source": [
    "gs_cv_rf_best.fit(X_test_cvec, y_test)\n",
    "print('best Random Forest test score with CV = ' + str(gs_cv_rf_best.score(X_test_cvec, y_test)))"
   ]
  },
  {
   "cell_type": "code",
   "execution_count": null,
   "metadata": {},
   "outputs": [],
   "source": []
  },
  {
   "cell_type": "markdown",
   "metadata": {},
   "source": [
    "#### with TFIDF"
   ]
  },
  {
   "cell_type": "code",
   "execution_count": 71,
   "metadata": {},
   "outputs": [
    {
     "name": "stdout",
     "output_type": "stream",
     "text": [
      "best Logistic Regression score with Grid Search = 0.8435424354243543\n",
      "best Logistic Regression parameters with Grid Search = {'tfidf__max_df': 0.9, 'tfidf__max_features': 2500, 'tfidf__min_df': 1, 'tfidf__ngram_range': (1, 1), 'tfidf__stop_words': None}\n"
     ]
    }
   ],
   "source": [
    "gs_tfidf_rf.fit(X_train, y_train)\n",
    "print('best Random Forest score with Grid Search = ' + str(gs_tfidf_rf.best_score_))\n",
    "print('best Random Forest parameters with Grid Search = ' + str(gs_tfidf_rf.best_params_))"
   ]
  },
  {
   "cell_type": "markdown",
   "metadata": {},
   "source": [
    "Fitting/vectorizing best parameters"
   ]
  },
  {
   "cell_type": "code",
   "execution_count": 72,
   "metadata": {},
   "outputs": [
    {
     "data": {
      "text/plain": [
       "(1355, 2500)"
      ]
     },
     "execution_count": 72,
     "metadata": {},
     "output_type": "execute_result"
    }
   ],
   "source": [
    "tfidf = TfidfVectorizer(max_df=0.9, \n",
    "                       max_features=2500, \n",
    "                       min_df=1, \n",
    "                       ngram_range=(1,1), \n",
    "                       stop_words=None)\n",
    "\n",
    "\n",
    "X_train_tfidf = tfidf.fit_transform(X_train, y_train).todense()\n",
    "X_test_tfidf = tfidf.transform(X_test).todense()\n",
    "\n",
    "X_train_tfidf.shape"
   ]
  },
  {
   "cell_type": "code",
   "execution_count": null,
   "metadata": {},
   "outputs": [],
   "source": []
  },
  {
   "cell_type": "code",
   "execution_count": 74,
   "metadata": {},
   "outputs": [
    {
     "name": "stdout",
     "output_type": "stream",
     "text": [
      "0.8420664206642066\n"
     ]
    },
    {
     "data": {
      "text/plain": [
       "{'C': 1.7346938775510203}"
      ]
     },
     "execution_count": 74,
     "metadata": {},
     "output_type": "execute_result"
    }
   ],
   "source": [
    "rf = LogisticRegression()\n",
    "rf_params = {\n",
    "    'n_estimators':[100,150,200],\n",
    "    'max_depth': [None,1,2,3,4,5]\n",
    "}\n",
    "\n",
    "\n",
    "gs_rf = GridSearchCV(rf, param_grid=rf_params, cv=5)\n",
    "gs_rf.fit(X_train_tfidf, y_train)\n",
    "print(gs_rf.best_score_)\n",
    "gs_rf.best_params_"
   ]
  },
  {
   "cell_type": "code",
   "execution_count": null,
   "metadata": {},
   "outputs": [],
   "source": []
  },
  {
   "cell_type": "code",
   "execution_count": 76,
   "metadata": {},
   "outputs": [],
   "source": [
    "gs_tfidf_rf_best = gs_rf.best_estimator_"
   ]
  },
  {
   "cell_type": "code",
   "execution_count": 77,
   "metadata": {},
   "outputs": [
    {
     "name": "stdout",
     "output_type": "stream",
     "text": [
      "best Logistic Regression train score with TFIDF = 0.9638376383763838\n"
     ]
    }
   ],
   "source": [
    "gs_tfidf_rf_best.fit(X_train_tfidf, y_train)\n",
    "print('best Random Forest train score with TFIDF = ' + str(gs_tfidf_rf_best.score(X_train_tfidf, y_train)))"
   ]
  },
  {
   "cell_type": "code",
   "execution_count": 78,
   "metadata": {},
   "outputs": [
    {
     "name": "stdout",
     "output_type": "stream",
     "text": [
      "best Logistic Regression test score with TDIDF = 0.9867256637168141\n"
     ]
    }
   ],
   "source": [
    "print('best Random Forest test score with TFIDF = ' + str(gs_tfidf_rf_best.score(X_test_tfidf, y_test)))"
   ]
  },
  {
   "cell_type": "code",
   "execution_count": null,
   "metadata": {},
   "outputs": [],
   "source": []
  },
  {
   "cell_type": "code",
   "execution_count": null,
   "metadata": {},
   "outputs": [],
   "source": []
  },
  {
   "cell_type": "code",
   "execution_count": null,
   "metadata": {},
   "outputs": [],
   "source": []
  },
  {
   "cell_type": "code",
   "execution_count": null,
   "metadata": {},
   "outputs": [],
   "source": [
    "#get list of predictions\n",
    "pred = gb.predict(X_test_cvec)"
   ]
  },
  {
   "cell_type": "code",
   "execution_count": null,
   "metadata": {},
   "outputs": [],
   "source": [
    "tn, fp, fn, tp = confusion_matrix(y_test, pred).ravel()"
   ]
  },
  {
   "cell_type": "code",
   "execution_count": null,
   "metadata": {},
   "outputs": [],
   "source": [
    "print(\"True Negatives: %s\" % tn)\n",
    "print(\"False Positives: %s\" % fp)\n",
    "print(\"False Negatives: %s\" % fn)\n",
    "print(\"True Positives: %s\" % tp)"
   ]
  },
  {
   "cell_type": "code",
   "execution_count": null,
   "metadata": {},
   "outputs": [],
   "source": [
    "#construct list of probabilities\n",
    "pred_proba = [i[1] for i in gb.predict_proba(X_test_cvec)]"
   ]
  },
  {
   "cell_type": "code",
   "execution_count": null,
   "metadata": {},
   "outputs": [],
   "source": [
    "# Put the actual values and predicted probabilities in a dataframe\n",
    "pred_gb_df = pd.DataFrame({'actual': y_test, \n",
    "                           'pred': pred_proba})"
   ]
  },
  {
   "cell_type": "code",
   "execution_count": null,
   "metadata": {},
   "outputs": [],
   "source": [
    "print(\"ROC AUC Score: \", roc_auc_score(y_test, pred_proba))"
   ]
  },
  {
   "cell_type": "code",
   "execution_count": null,
   "metadata": {},
   "outputs": [],
   "source": []
  },
  {
   "cell_type": "markdown",
   "metadata": {},
   "source": [
    "### ROC Curve"
   ]
  },
  {
   "cell_type": "code",
   "execution_count": null,
   "metadata": {},
   "outputs": [],
   "source": [
    "draw_roc(pred_gb_df, \"actual\", \"pred\", \"Random Forest with \")"
   ]
  },
  {
   "cell_type": "code",
   "execution_count": null,
   "metadata": {},
   "outputs": [],
   "source": []
  },
  {
   "cell_type": "code",
   "execution_count": null,
   "metadata": {},
   "outputs": [],
   "source": []
  },
  {
   "cell_type": "code",
   "execution_count": null,
   "metadata": {},
   "outputs": [],
   "source": []
  },
  {
   "cell_type": "markdown",
   "metadata": {},
   "source": [
    "### Extra Tree"
   ]
  },
  {
   "cell_type": "markdown",
   "metadata": {},
   "source": [
    "#### with CV"
   ]
  },
  {
   "cell_type": "code",
   "execution_count": 52,
   "metadata": {},
   "outputs": [
    {
     "name": "stdout",
     "output_type": "stream",
     "text": [
      "best Logistic Regression score with Grid Search = 0.8309963099630997\n",
      "best Logistic Regression parameters with Grid Search = {'cvec__max_df': 0.9, 'cvec__max_features': 3500, 'cvec__min_df': 1, 'cvec__ngram_range': (1, 1), 'cvec__stop_words': 'english'}\n"
     ]
    }
   ],
   "source": [
    "gs_cv_et.fit(X_train, y_train)\n",
    "print('best Extra Tree score with Grid Search = ' + str(gs_cv_et.best_score_))\n",
    "print('best Extra Tree parameters with Grid Search = ' + str(gs_cv_et.best_params_))"
   ]
  },
  {
   "cell_type": "markdown",
   "metadata": {},
   "source": [
    "Fitting/vectorizing best parameters"
   ]
  },
  {
   "cell_type": "code",
   "execution_count": 53,
   "metadata": {},
   "outputs": [
    {
     "data": {
      "text/plain": [
       "(1355, 3500)"
      ]
     },
     "execution_count": 53,
     "metadata": {},
     "output_type": "execute_result"
    }
   ],
   "source": [
    "cvec = CountVectorizer(max_df=0.9, \n",
    "                       max_features=3500, \n",
    "                       min_df=1, \n",
    "                       ngram_range=(1,1), \n",
    "                       stop_words='english')\n",
    "\n",
    "\n",
    "X_train_cvec = cvec.fit_transform(X_train, y_train).todense()\n",
    "X_test_cvec = cvec.transform(X_test).todense()\n",
    "\n",
    "X_train_cvec.shape"
   ]
  },
  {
   "cell_type": "code",
   "execution_count": null,
   "metadata": {},
   "outputs": [],
   "source": []
  },
  {
   "cell_type": "code",
   "execution_count": 60,
   "metadata": {},
   "outputs": [
    {
     "name": "stdout",
     "output_type": "stream",
     "text": [
      "0.8324723247232473\n"
     ]
    },
    {
     "data": {
      "text/plain": [
       "{'C': 1.183673469387755}"
      ]
     },
     "execution_count": 60,
     "metadata": {},
     "output_type": "execute_result"
    }
   ],
   "source": [
    "et = E()\n",
    "et_params = {\n",
    "    'n_estimators':[100,150,200],\n",
    "    'max_depth': [None,1,2,3,4,5]\n",
    "}\n",
    "\n",
    "\n",
    "\n",
    "gs_et = GridSearchCV(et, param_grid=et_params, cv=5)\n",
    "gs_et.fit(X_train_cvec, y_train)\n",
    "print(gs_et.best_score_)\n",
    "gs_et.best_params_\n",
    "\n"
   ]
  },
  {
   "cell_type": "code",
   "execution_count": null,
   "metadata": {},
   "outputs": [],
   "source": []
  },
  {
   "cell_type": "code",
   "execution_count": 63,
   "metadata": {},
   "outputs": [],
   "source": [
    "gs_cv_et_best = gs_et.best_estimator_"
   ]
  },
  {
   "cell_type": "code",
   "execution_count": 69,
   "metadata": {},
   "outputs": [
    {
     "name": "stdout",
     "output_type": "stream",
     "text": [
      "best Logistic Regression train score with CV = 0.9845018450184502\n"
     ]
    }
   ],
   "source": [
    "gs_cv_et_best.fit(X_train_cvec, y_train)\n",
    "print('best Extra Tree train score with CV = ' + str(gs_cv_lr_best.score(X_train_cvec, y_train)))"
   ]
  },
  {
   "cell_type": "code",
   "execution_count": 70,
   "metadata": {},
   "outputs": [
    {
     "name": "stdout",
     "output_type": "stream",
     "text": [
      "best Logistic Regression test score with CV = 0.9823008849557522\n"
     ]
    }
   ],
   "source": [
    "print('best Extra Tree test score with CV = ' + str(gs_cv_et_best.score(X_test_cvec, y_test)))"
   ]
  },
  {
   "cell_type": "code",
   "execution_count": null,
   "metadata": {},
   "outputs": [],
   "source": []
  },
  {
   "cell_type": "markdown",
   "metadata": {},
   "source": [
    "#### with TFIDF"
   ]
  },
  {
   "cell_type": "code",
   "execution_count": 71,
   "metadata": {},
   "outputs": [
    {
     "name": "stdout",
     "output_type": "stream",
     "text": [
      "best Logistic Regression score with Grid Search = 0.8435424354243543\n",
      "best Logistic Regression parameters with Grid Search = {'tfidf__max_df': 0.9, 'tfidf__max_features': 2500, 'tfidf__min_df': 1, 'tfidf__ngram_range': (1, 1), 'tfidf__stop_words': None}\n"
     ]
    }
   ],
   "source": [
    "gs_tfidf_et.fit(X_train, y_train)\n",
    "print('best Extra Tree score with Grid Search = ' + str(gs_tfidf_lr.best_score_))\n",
    "print('best Extra Tree parameters with Grid Search = ' + str(gs_tfidf_lr.best_params_))"
   ]
  },
  {
   "cell_type": "markdown",
   "metadata": {},
   "source": [
    "Fitting/vectorizing best parameters"
   ]
  },
  {
   "cell_type": "code",
   "execution_count": 72,
   "metadata": {},
   "outputs": [
    {
     "data": {
      "text/plain": [
       "(1355, 2500)"
      ]
     },
     "execution_count": 72,
     "metadata": {},
     "output_type": "execute_result"
    }
   ],
   "source": [
    "tfidf = TfidfVectorizer(max_df=0.9, \n",
    "                       max_features=2500, \n",
    "                       min_df=1, \n",
    "                       ngram_range=(1,1), \n",
    "                       stop_words=None)\n",
    "\n",
    "\n",
    "X_train_tfidf = tfidf.fit_transform(X_train, y_train).todense()\n",
    "X_test_tfidf = tfidf.transform(X_test).todense()\n",
    "\n",
    "X_train_tfidf.shape"
   ]
  },
  {
   "cell_type": "code",
   "execution_count": null,
   "metadata": {},
   "outputs": [],
   "source": []
  },
  {
   "cell_type": "code",
   "execution_count": 74,
   "metadata": {},
   "outputs": [
    {
     "name": "stdout",
     "output_type": "stream",
     "text": [
      "0.8420664206642066\n"
     ]
    },
    {
     "data": {
      "text/plain": [
       "{'C': 1.7346938775510203}"
      ]
     },
     "execution_count": 74,
     "metadata": {},
     "output_type": "execute_result"
    }
   ],
   "source": [
    "et = E()\n",
    "et_params = {\n",
    "    'n_estimators':[100,150,200],\n",
    "    'max_depth': [None,1,2,3,4,5]\n",
    "}\n",
    "\n",
    "gs_et = GridSearchCV(et, param_grid=et_params, cv=5)\n",
    "gs_et.fit(X_train_tfidf, y_train)\n",
    "print(gs_et.best_score_)\n",
    "gs_et.best_params_"
   ]
  },
  {
   "cell_type": "code",
   "execution_count": null,
   "metadata": {},
   "outputs": [],
   "source": []
  },
  {
   "cell_type": "code",
   "execution_count": 76,
   "metadata": {},
   "outputs": [],
   "source": [
    "gs_tfidf_et_best = gs_et.best_estimator_"
   ]
  },
  {
   "cell_type": "code",
   "execution_count": 77,
   "metadata": {},
   "outputs": [
    {
     "name": "stdout",
     "output_type": "stream",
     "text": [
      "best Logistic Regression train score with TFIDF = 0.9638376383763838\n"
     ]
    }
   ],
   "source": [
    "gs_tfidf_et_best.fit(X_train_tfidf, y_train)\n",
    "print('best Extra Tree train score with TFIDF = ' + str(gs_tfidf_et_best.score(X_train_tfidf, y_train)))"
   ]
  },
  {
   "cell_type": "code",
   "execution_count": 78,
   "metadata": {},
   "outputs": [
    {
     "name": "stdout",
     "output_type": "stream",
     "text": [
      "best Logistic Regression test score with TDIDF = 0.9867256637168141\n"
     ]
    }
   ],
   "source": [
    "print('best Extra Tree test score with TFIDF = ' + str(gs_tfidf_et_best.score(X_test_tfidf, y_test)))"
   ]
  },
  {
   "cell_type": "code",
   "execution_count": null,
   "metadata": {},
   "outputs": [],
   "source": []
  },
  {
   "cell_type": "code",
   "execution_count": null,
   "metadata": {},
   "outputs": [],
   "source": []
  },
  {
   "cell_type": "code",
   "execution_count": null,
   "metadata": {},
   "outputs": [],
   "source": []
  },
  {
   "cell_type": "code",
   "execution_count": null,
   "metadata": {},
   "outputs": [],
   "source": [
    "#get list of predictions\n",
    "pred = gb.predict(X_test_cvec)"
   ]
  },
  {
   "cell_type": "code",
   "execution_count": null,
   "metadata": {},
   "outputs": [],
   "source": [
    "tn, fp, fn, tp = confusion_matrix(y_test, pred).ravel()"
   ]
  },
  {
   "cell_type": "code",
   "execution_count": null,
   "metadata": {},
   "outputs": [],
   "source": [
    "print(\"True Negatives: %s\" % tn)\n",
    "print(\"False Positives: %s\" % fp)\n",
    "print(\"False Negatives: %s\" % fn)\n",
    "print(\"True Positives: %s\" % tp)"
   ]
  },
  {
   "cell_type": "code",
   "execution_count": null,
   "metadata": {},
   "outputs": [],
   "source": [
    "#construct list of probabilities\n",
    "pred_proba = [i[1] for i in gb.predict_proba(X_test_cvec)]"
   ]
  },
  {
   "cell_type": "code",
   "execution_count": null,
   "metadata": {},
   "outputs": [],
   "source": [
    "# Put the actual values and predicted probabilities in a dataframe\n",
    "pred_gb_df = pd.DataFrame({'actual': y_test, \n",
    "                           'pred': pred_proba})"
   ]
  },
  {
   "cell_type": "code",
   "execution_count": null,
   "metadata": {},
   "outputs": [],
   "source": [
    "print(\"ROC AUC Score: \", roc_auc_score(y_test, pred_proba))"
   ]
  },
  {
   "cell_type": "code",
   "execution_count": null,
   "metadata": {},
   "outputs": [],
   "source": []
  },
  {
   "cell_type": "markdown",
   "metadata": {},
   "source": [
    "### ROC Curve"
   ]
  },
  {
   "cell_type": "code",
   "execution_count": null,
   "metadata": {},
   "outputs": [],
   "source": [
    "draw_roc(pred_gb_df, \"actual\", \"pred\", \"Extra Tree with \")"
   ]
  },
  {
   "cell_type": "code",
   "execution_count": null,
   "metadata": {},
   "outputs": [],
   "source": []
  },
  {
   "cell_type": "code",
   "execution_count": null,
   "metadata": {},
   "outputs": [],
   "source": []
  },
  {
   "cell_type": "code",
   "execution_count": null,
   "metadata": {},
   "outputs": [],
   "source": []
  },
  {
   "cell_type": "code",
   "execution_count": null,
   "metadata": {},
   "outputs": [],
   "source": []
  },
  {
   "cell_type": "code",
   "execution_count": null,
   "metadata": {},
   "outputs": [],
   "source": [
    "# Evaluate.\n",
    "print('Linear Regression train score ' + str(pipelr.score(X_train,y_train)))\n",
    "print('KNN train score ' + str(pipeknn.score(X_train,y_train)))\n",
    "print('Decision Tree train score ' + str(pipedt.score(X_train,y_train)))\n",
    "print('Bagged Decision Tree train score ' + str(pipebdt.score(X_train,y_train)))\n",
    "print('\\n')\n",
    "print('Linear Regression test score ' + str(pipelr.score(X_test,y_test)))\n",
    "print('KNN score test score' + str(pipeknn.score(X_test,y_test)))\n",
    "print('Decision Tree test score ' + str(pipedt.score(X_test,y_test)))\n",
    "print('Bagged Decision Tree test score ' + str(pipebdt.score(X_test,y_test)))"
   ]
  },
  {
   "cell_type": "code",
   "execution_count": null,
   "metadata": {},
   "outputs": [],
   "source": []
  },
  {
   "cell_type": "code",
   "execution_count": null,
   "metadata": {},
   "outputs": [],
   "source": []
  },
  {
   "cell_type": "code",
   "execution_count": null,
   "metadata": {},
   "outputs": [],
   "source": []
  },
  {
   "cell_type": "code",
   "execution_count": null,
   "metadata": {},
   "outputs": [],
   "source": []
  },
  {
   "cell_type": "code",
   "execution_count": null,
   "metadata": {},
   "outputs": [],
   "source": []
  },
  {
   "cell_type": "markdown",
   "metadata": {},
   "source": [
    "# Summary"
   ]
  },
  {
   "cell_type": "code",
   "execution_count": null,
   "metadata": {},
   "outputs": [],
   "source": []
  },
  {
   "cell_type": "code",
   "execution_count": null,
   "metadata": {},
   "outputs": [],
   "source": []
  },
  {
   "cell_type": "markdown",
   "metadata": {},
   "source": [
    "## Best model for classifing Fake News:"
   ]
  },
  {
   "cell_type": "code",
   "execution_count": null,
   "metadata": {},
   "outputs": [],
   "source": []
  },
  {
   "cell_type": "code",
   "execution_count": null,
   "metadata": {},
   "outputs": [],
   "source": []
  },
  {
   "cell_type": "markdown",
   "metadata": {},
   "source": [
    "## Recommendations"
   ]
  },
  {
   "cell_type": "code",
   "execution_count": null,
   "metadata": {},
   "outputs": [],
   "source": []
  }
 ],
 "metadata": {
  "kernelspec": {
   "display_name": "Python 3",
   "language": "python",
   "name": "python3"
  },
  "language_info": {
   "codemirror_mode": {
    "name": "ipython",
    "version": 3
   },
   "file_extension": ".py",
   "mimetype": "text/x-python",
   "name": "python",
   "nbconvert_exporter": "python",
   "pygments_lexer": "ipython3",
   "version": "3.7.5"
  }
 },
 "nbformat": 4,
 "nbformat_minor": 4
}
