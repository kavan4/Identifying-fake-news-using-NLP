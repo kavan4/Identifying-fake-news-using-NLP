{
 "cells": [
  {
   "cell_type": "markdown",
   "metadata": {},
   "source": [
    "# Subreddit Classification using NLP"
   ]
  },
  {
   "cell_type": "markdown",
   "metadata": {},
   "source": [
    "## 4. Modelling"
   ]
  },
  {
   "cell_type": "markdown",
   "metadata": {},
   "source": [
    "### Imports"
   ]
  },
  {
   "cell_type": "code",
   "execution_count": 728,
   "metadata": {},
   "outputs": [],
   "source": [
    "import pandas as pd\n",
    "import numpy as np\n",
    "\n",
    "from sklearn.model_selection import train_test_split, GridSearchCV, RandomizedSearchCV, cross_val_score\n",
    "from sklearn.feature_extraction.text import CountVectorizer, TfidfVectorizer\n",
    "from sklearn.pipeline import Pipeline\n",
    "from sklearn.linear_model import LogisticRegression\n",
    "from sklearn.metrics import confusion_matrix\n",
    "from sklearn.neighbors import KNeighborsClassifier\n",
    "from sklearn.tree import DecisionTreeClassifier\n",
    "from sklearn.ensemble import AdaBoostClassifier,BaggingClassifier, RandomForestClassifier, ExtraTreesClassifier\n",
    "from sklearn.metrics import f1_score, roc_auc_score, plot_confusion_matrix\n",
    "from sklearn.svm import SVC\n",
    "\n",
    "from sklearn.preprocessing import FunctionTransformer\n",
    "\n",
    "#Import Library of Gaussian Naive Bayes model\n",
    "from sklearn.naive_bayes import GaussianNB, MultinomialNB, BernoulliNB\n",
    "\n",
    "from nltk.classify import NaiveBayesClassifier\n",
    "from nltk import WordNetLemmatizer\n",
    "from nltk.tokenize import RegexpTokenizer, word_tokenize\n",
    "from nltk.stem import WordNetLemmatizer\n",
    "from nltk.stem.porter import PorterStemmer\n",
    "\n",
    "\n",
    "import seaborn as sns\n",
    "import matplotlib.pyplot as plt\n"
   ]
  },
  {
   "cell_type": "code",
   "execution_count": 729,
   "metadata": {},
   "outputs": [],
   "source": [
    "df = pd.read_csv('../datasets/clean_data_lemstemed.csv')"
   ]
  },
  {
   "cell_type": "code",
   "execution_count": 730,
   "metadata": {},
   "outputs": [
    {
     "data": {
      "text/html": [
       "<div>\n",
       "<style scoped>\n",
       "    .dataframe tbody tr th:only-of-type {\n",
       "        vertical-align: middle;\n",
       "    }\n",
       "\n",
       "    .dataframe tbody tr th {\n",
       "        vertical-align: top;\n",
       "    }\n",
       "\n",
       "    .dataframe thead th {\n",
       "        text-align: right;\n",
       "    }\n",
       "</style>\n",
       "<table border=\"1\" class=\"dataframe\">\n",
       "  <thead>\n",
       "    <tr style=\"text-align: right;\">\n",
       "      <th></th>\n",
       "      <th>title</th>\n",
       "      <th>Target</th>\n",
       "      <th>clean_title</th>\n",
       "      <th>tokens</th>\n",
       "      <th>lemstem_text</th>\n",
       "    </tr>\n",
       "  </thead>\n",
       "  <tbody>\n",
       "    <tr>\n",
       "      <th>0</th>\n",
       "      <td>Deadly Virus Sweeping China Is Just Olympic Fever</td>\n",
       "      <td>1</td>\n",
       "      <td>deadly virus sweeping china olympic fever</td>\n",
       "      <td>['deadly', 'virus', 'sweeping', 'china', 'olym...</td>\n",
       "      <td>deadli viru sweep china olymp fever</td>\n",
       "    </tr>\n",
       "    <tr>\n",
       "      <th>1</th>\n",
       "      <td>Southern Governors Argue Covid-19 Good Christi...</td>\n",
       "      <td>1</td>\n",
       "      <td>southern governors argue covid 19 good christi...</td>\n",
       "      <td>['southern', 'governors', 'argue', 'covid', '1...</td>\n",
       "      <td>southern governor argu covid 19 good christian...</td>\n",
       "    </tr>\n",
       "    <tr>\n",
       "      <th>2</th>\n",
       "      <td>‘They’re Doing Something To The Street,’ Repor...</td>\n",
       "      <td>1</td>\n",
       "      <td>something street reports nation staring window</td>\n",
       "      <td>['something', 'street', 'reports', 'nation', '...</td>\n",
       "      <td>someth street report nation stare window</td>\n",
       "    </tr>\n",
       "    <tr>\n",
       "      <th>3</th>\n",
       "      <td>I miss the old onion.</td>\n",
       "      <td>1</td>\n",
       "      <td>miss old onion</td>\n",
       "      <td>['miss', 'old', 'onion']</td>\n",
       "      <td>miss old onion</td>\n",
       "    </tr>\n",
       "    <tr>\n",
       "      <th>4</th>\n",
       "      <td>Animals Spread Disease Constantly - Horrifying...</td>\n",
       "      <td>1</td>\n",
       "      <td>animals spread disease constantly horrifying p...</td>\n",
       "      <td>['animals', 'spread', 'disease', 'constantly',...</td>\n",
       "      <td>anim spread diseas constantli horrifi planet ep 7</td>\n",
       "    </tr>\n",
       "  </tbody>\n",
       "</table>\n",
       "</div>"
      ],
      "text/plain": [
       "                                               title  Target  \\\n",
       "0  Deadly Virus Sweeping China Is Just Olympic Fever       1   \n",
       "1  Southern Governors Argue Covid-19 Good Christi...       1   \n",
       "2  ‘They’re Doing Something To The Street,’ Repor...       1   \n",
       "3                              I miss the old onion.       1   \n",
       "4  Animals Spread Disease Constantly - Horrifying...       1   \n",
       "\n",
       "                                         clean_title  \\\n",
       "0          deadly virus sweeping china olympic fever   \n",
       "1  southern governors argue covid 19 good christi...   \n",
       "2     something street reports nation staring window   \n",
       "3                                     miss old onion   \n",
       "4  animals spread disease constantly horrifying p...   \n",
       "\n",
       "                                              tokens  \\\n",
       "0  ['deadly', 'virus', 'sweeping', 'china', 'olym...   \n",
       "1  ['southern', 'governors', 'argue', 'covid', '1...   \n",
       "2  ['something', 'street', 'reports', 'nation', '...   \n",
       "3                           ['miss', 'old', 'onion']   \n",
       "4  ['animals', 'spread', 'disease', 'constantly',...   \n",
       "\n",
       "                                        lemstem_text  \n",
       "0                deadli viru sweep china olymp fever  \n",
       "1  southern governor argu covid 19 good christian...  \n",
       "2           someth street report nation stare window  \n",
       "3                                     miss old onion  \n",
       "4  anim spread diseas constantli horrifi planet ep 7  "
      ]
     },
     "execution_count": 730,
     "metadata": {},
     "output_type": "execute_result"
    }
   ],
   "source": [
    "df.head()"
   ]
  },
  {
   "cell_type": "markdown",
   "metadata": {},
   "source": [
    "# Modelling"
   ]
  },
  {
   "cell_type": "markdown",
   "metadata": {},
   "source": [
    "### Baseline Accuracy"
   ]
  },
  {
   "cell_type": "code",
   "execution_count": 731,
   "metadata": {},
   "outputs": [
    {
     "data": {
      "text/plain": [
       "1    0.503044\n",
       "0    0.496956\n",
       "Name: Target, dtype: float64"
      ]
     },
     "execution_count": 731,
     "metadata": {},
     "output_type": "execute_result"
    }
   ],
   "source": [
    "df['Target'].value_counts(normalize=True)"
   ]
  },
  {
   "cell_type": "code",
   "execution_count": 732,
   "metadata": {},
   "outputs": [],
   "source": [
    "# Converting to string. Without this tokenizer giving error\n",
    "df['lemstem_text'] = df['lemstem_text'].apply(str)"
   ]
  },
  {
   "cell_type": "code",
   "execution_count": null,
   "metadata": {},
   "outputs": [],
   "source": []
  },
  {
   "cell_type": "code",
   "execution_count": 733,
   "metadata": {},
   "outputs": [],
   "source": [
    "X = df['lemstem_text']\n",
    "y = df['Target']"
   ]
  },
  {
   "cell_type": "code",
   "execution_count": 734,
   "metadata": {},
   "outputs": [
    {
     "data": {
      "text/plain": [
       "0                  deadli viru sweep china olymp fever\n",
       "1    southern governor argu covid 19 good christian...\n",
       "2             someth street report nation stare window\n",
       "3                                       miss old onion\n",
       "4    anim spread diseas constantli horrifi planet ep 7\n",
       "Name: lemstem_text, dtype: object"
      ]
     },
     "execution_count": 734,
     "metadata": {},
     "output_type": "execute_result"
    }
   ],
   "source": [
    "X.head()"
   ]
  },
  {
   "cell_type": "code",
   "execution_count": 735,
   "metadata": {},
   "outputs": [
    {
     "data": {
      "text/plain": [
       "(1807,)"
      ]
     },
     "execution_count": 735,
     "metadata": {},
     "output_type": "execute_result"
    }
   ],
   "source": [
    "X.shape"
   ]
  },
  {
   "cell_type": "code",
   "execution_count": 736,
   "metadata": {},
   "outputs": [
    {
     "data": {
      "text/plain": [
       "(1807,)"
      ]
     },
     "execution_count": 736,
     "metadata": {},
     "output_type": "execute_result"
    }
   ],
   "source": [
    "y.shape"
   ]
  },
  {
   "cell_type": "markdown",
   "metadata": {},
   "source": [
    "## Train Test Split"
   ]
  },
  {
   "cell_type": "code",
   "execution_count": 737,
   "metadata": {},
   "outputs": [],
   "source": [
    "X_train, X_test, y_train, y_test = train_test_split(X, y, \n",
    "                                                    stratify=y, \n",
    "                                                    random_state = 42)"
   ]
  },
  {
   "cell_type": "code",
   "execution_count": 738,
   "metadata": {},
   "outputs": [
    {
     "data": {
      "text/plain": [
       "(1355,)"
      ]
     },
     "execution_count": 738,
     "metadata": {},
     "output_type": "execute_result"
    }
   ],
   "source": [
    "X_train.shape"
   ]
  },
  {
   "cell_type": "code",
   "execution_count": 739,
   "metadata": {},
   "outputs": [
    {
     "data": {
      "text/plain": [
       "(1355,)"
      ]
     },
     "execution_count": 739,
     "metadata": {},
     "output_type": "execute_result"
    }
   ],
   "source": [
    "y_train.shape"
   ]
  },
  {
   "cell_type": "markdown",
   "metadata": {},
   "source": [
    "## Pipelines"
   ]
  },
  {
   "cell_type": "code",
   "execution_count": 740,
   "metadata": {},
   "outputs": [],
   "source": [
    "pipe_cv_lr = Pipeline([('cvec', CountVectorizer()),\n",
    "                ('ft', FunctionTransformer(lambda x: x.todense(), accept_sparse=True)),\n",
    "                ('lr', LogisticRegression())\n",
    "                ])\n",
    "\n",
    "pipe_tfidf_lr = Pipeline([('tfidf', TfidfVectorizer()),\n",
    "                ('ft', FunctionTransformer(lambda x: x.todense(), accept_sparse=True)),\n",
    "                ('lr', LogisticRegression())\n",
    "                ])\n",
    "\n",
    "pipe_cv_nb = Pipeline([('cvec', CountVectorizer()),\n",
    "                ('ft', FunctionTransformer(lambda x: x.todense(), accept_sparse=True)),\n",
    "                ('nb', MultinomialNB())\n",
    "                ])\n",
    "\n",
    "pipe_tfidf_nb = Pipeline([('tfidf', TfidfVectorizer()),\n",
    "                ('ft', FunctionTransformer(lambda x: x.todense(), accept_sparse=True)),\n",
    "                ('nb', MultinomialNB())\n",
    "                ])\n",
    "\n",
    "pipe_tfidf_gb = Pipeline([('tfidf', TfidfVectorizer()),\n",
    "                ('ft', FunctionTransformer(lambda x: x.todense(), accept_sparse=True)),\n",
    "                ('gb', GaussianNB())\n",
    "                ])\n",
    "\n",
    "pipe_cv_dt = Pipeline([('cvec', CountVectorizer()),\n",
    "                ('ft', FunctionTransformer(lambda x: x.todense(), accept_sparse=True)),\n",
    "                ('dt', DecisionTreeClassifier())\n",
    "                ])\n",
    "\n",
    "pipe_tfidf_dt = Pipeline([('tfidf', TfidfVectorizer()),\n",
    "                ('ft', FunctionTransformer(lambda x: x.todense(), accept_sparse=True)),\n",
    "                ('dt', DecisionTreeClassifier())\n",
    "                ])\n",
    "\n",
    "pipe_cv_bdt = Pipeline([('cvec', CountVectorizer()),\n",
    "                ('ft', FunctionTransformer(lambda x: x.todense(), accept_sparse=True)),\n",
    "                ('bdt', BaggingClassifier())\n",
    "                ])\n",
    "\n",
    "pipe_tfidf_bdt = Pipeline([('tfidf', TfidfVectorizer()),\n",
    "                ('ft', FunctionTransformer(lambda x: x.todense(), accept_sparse=True)),\n",
    "                ('bdt', BaggingClassifier())\n",
    "                ])\n",
    "\n",
    "pipe_cv_knn= Pipeline([('cvec', CountVectorizer()),\n",
    "                ('ft', FunctionTransformer(lambda x: x.todense(), accept_sparse=True)),\n",
    "                ('knn', KNeighborsClassifier())\n",
    "                ])\n",
    "\n",
    "pipe_tfidf_knn = Pipeline([('tfidf', TfidfVectorizer()),\n",
    "                ('ft', FunctionTransformer(lambda x: x.todense(), accept_sparse=True)),\n",
    "                ('bdt', KNeighborsClassifier())\n",
    "                ])\n",
    "\n",
    "pipe_cv_rf = Pipeline([('cvec', CountVectorizer()),\n",
    "                ('ft', FunctionTransformer(lambda x: x.todense(), accept_sparse=True)),\n",
    "                ('rf', RandomForestClassifier())\n",
    "                ])\n",
    "\n",
    "pipe_tfidf_rf = Pipeline([('tfidf', TfidfVectorizer()),\n",
    "                ('ft', FunctionTransformer(lambda x: x.todense(), accept_sparse=True)),\n",
    "                ('rf', RandomForestClassifier())\n",
    "                ])\n",
    "\n",
    "pipe_cv_et = Pipeline([('cvec', CountVectorizer()),\n",
    "                ('ft', FunctionTransformer(lambda x: x.todense(), accept_sparse=True)),\n",
    "                ('et', ExtraTreesClassifier())\n",
    "                ])\n",
    "\n",
    "pipe_tfidf_et = Pipeline([('tfidf', TfidfVectorizer()),\n",
    "                ('ft', FunctionTransformer(lambda x: x.todense(), accept_sparse=True)),\n",
    "                ('et', ExtraTreesClassifier())\n",
    "                ])\n",
    "\n",
    "pipe_cv_svc = Pipeline([('cvec', CountVectorizer()),\n",
    "                ('ft', FunctionTransformer(lambda x: x.todense(), accept_sparse=True)),\n",
    "                ('svc', SVC())\n",
    "                ])\n",
    "\n",
    "pipe_tfidf_svc = Pipeline([('tfidf', TfidfVectorizer()),\n",
    "                ('ft', FunctionTransformer(lambda x: x.todense(), accept_sparse=True)),\n",
    "                ('svc', SVC())\n",
    "                ])"
   ]
  },
  {
   "cell_type": "code",
   "execution_count": 741,
   "metadata": {},
   "outputs": [],
   "source": [
    "pipe_params_cv = {'cvec__stop_words' : ['english', None],\n",
    "                  'cvec__max_features' : [2500,3000,3500,5000],\n",
    "                  'cvec__min_df' : [1,3,5],\n",
    "                  'cvec__max_df' : [.9,.95],\n",
    "                  'cvec__ngram_range' : [(1,1),(1,2)]}\n",
    "\n",
    "pipe_params_tdidf = {'tfidf__stop_words' : ['english', None],\n",
    "               'tfidf__max_features' : [2500,3000,3500,5000],\n",
    "                     'tfidf__min_df' : [1,3,5],\n",
    "                  'tfidf__max_df' : [.9,.95],\n",
    "              'tfidf__ngram_range' : [(1,1),(1,2)]}"
   ]
  },
  {
   "cell_type": "code",
   "execution_count": 742,
   "metadata": {},
   "outputs": [],
   "source": [
    "# Instantiate GridSearchCV.\n",
    "\n",
    "gs_cv_lr = GridSearchCV(pipe_cv_lr, # what object are we optimizing?\n",
    "                  param_grid = pipe_params_cv, # what parameters values are we searching?\n",
    "                  cv=5, n_jobs=-1) # 5-fold cross-validation.\n",
    "\n",
    "gs_tfidf_lr = GridSearchCV(pipe_tfidf_lr, # what object are we optimizing?\n",
    "                  param_grid = pipe_params_tdidf, # what parameters values are we searching?\n",
    "                  cv=5, n_jobs=-1) # 5-fold cross-validation.\n",
    "\n",
    "gs_cv_nb = GridSearchCV(pipe_cv_nb, # what object are we optimizing?\n",
    "                  param_grid = pipe_params_cv, # what parameters values are we searching?\n",
    "                  cv=5, n_jobs=-1) # 5-fold cross-validation.\n",
    "\n",
    "gs_tfidf_nb = GridSearchCV(pipe_tfidf_nb, # what object are we optimizing?\n",
    "                  param_grid = pipe_params_tdidf, # what parameters values are we searching?\n",
    "                  cv=5, n_jobs=-1) # 5-fold cross-validation.\n",
    "\n",
    "gs_tfidf_gb = GridSearchCV(pipe_tfidf_gb, # what object are we optimizing?\n",
    "                  param_grid = pipe_params_tdidf, # what parameters values are we searching?\n",
    "                  cv=5, n_jobs=-1) # 5-fold cross-validation.\n",
    "\n",
    "gs_cv_dt = GridSearchCV(pipe_cv_dt, # what object are we optimizing?\n",
    "                  param_grid = pipe_params_cv, # what parameters values are we searching?\n",
    "                  cv=5, n_jobs=-1) # 5-fold cross-validation.\n",
    "\n",
    "gs_tfidf_dt = GridSearchCV(pipe_tfidf_dt, # what object are we optimizing?\n",
    "                  param_grid = pipe_params_tdidf, # what parameters values are we searching?\n",
    "                  cv=5, n_jobs=-1) # 5-fold cross-validation.\n",
    "\n",
    "gs_cv_bdt = GridSearchCV(pipe_cv_bdt, # what object are we optimizing?\n",
    "                  param_grid = pipe_params_cv, # what parameters values are we searching?\n",
    "                  cv=5, n_jobs=-1) # 5-fold cross-validation.\n",
    "\n",
    "gs_tfidf_bdt = GridSearchCV(pipe_tfidf_bdt, # what object are we optimizing?\n",
    "                  param_grid = pipe_params_tdidf, # what parameters values are we searching?\n",
    "                  cv=5, n_jobs=-1) # 5-fold cross-validation.\n",
    "\n",
    "gs_cv_knn = GridSearchCV(pipe_cv_knn, # what object are we optimizing?\n",
    "                  param_grid = pipe_params_cv, # what parameters values are we searching?\n",
    "                  cv=5, n_jobs=-1) # 5-fold cross-validation.\n",
    "\n",
    "gs_tfidf_knn = GridSearchCV(pipe_tfidf_knn, # what object are we optimizing?\n",
    "                  param_grid = pipe_params_tdidf, # what parameters values are we searching?\n",
    "                  cv=5, n_jobs=-1) # 5-fold cross-validation.\n",
    "\n",
    "gs_cv_rf = GridSearchCV(pipe_cv_rf, # what object are we optimizing?\n",
    "                  param_grid = pipe_params_cv, # what parameters values are we searching?\n",
    "                  cv=5, n_jobs=-1) # 5-fold cross-validation.\n",
    "\n",
    "gs_tfidf_rf = GridSearchCV(pipe_tfidf_rf, # what object are we optimizing?\n",
    "                  param_grid = pipe_params_tdidf, # what parameters values are we searching?\n",
    "                  cv=5, n_jobs=-1) # 5-fold cross-validation.\n",
    "\n",
    "gs_cv_et = GridSearchCV(pipe_cv_et, # what object are we optimizing?\n",
    "                  param_grid = pipe_params_cv, # what parameters values are we searching?\n",
    "                  cv=5, n_jobs=-1) # 5-fold cross-validation.\n",
    "\n",
    "gs_tfidf_et = GridSearchCV(pipe_tfidf_et, # what object are we optimizing?\n",
    "                  param_grid = pipe_params_tdidf, # what parameters values are we searching?\n",
    "                  cv=5, n_jobs=-1) # 5-fold cross-validation.\n",
    "\n",
    "gs_cv_svc = GridSearchCV(pipe_cv_svc, # what object are we optimizing?\n",
    "                  param_grid = pipe_params_cv, # what parameters values are we searching?\n",
    "                  cv=5, n_jobs=-1) # 5-fold cross-validation.\n",
    "\n",
    "gs_tfidf_svc = GridSearchCV(pipe_tfidf_svc, # what object are we optimizing?\n",
    "                  param_grid = pipe_params_tdidf, # what parameters values are we searching?\n",
    "                  cv=5, n_jobs=-1) # 5-fold cross-validation.\n"
   ]
  },
  {
   "cell_type": "markdown",
   "metadata": {},
   "source": [
    "### Logistic Regression"
   ]
  },
  {
   "cell_type": "markdown",
   "metadata": {},
   "source": [
    "#### with CV"
   ]
  },
  {
   "cell_type": "code",
   "execution_count": 743,
   "metadata": {},
   "outputs": [],
   "source": [
    "# grid search for best Transformer params: \n",
    "# commented out as running takes a while\n",
    "\n",
    "# gs_cv_lr.fit(X_train, y_train)\n",
    "# print('best Logistic Regression score with Grid Search = ' + str(gs_cv_lr.best_score_))\n",
    "# print('best Logistic Regression parameters with Grid Search = ' + str(gs_cv_lr.best_params_))"
   ]
  },
  {
   "cell_type": "markdown",
   "metadata": {},
   "source": [
    "Fitting/vectorizing best parameters"
   ]
  },
  {
   "cell_type": "code",
   "execution_count": 744,
   "metadata": {},
   "outputs": [
    {
     "data": {
      "text/plain": [
       "(1355, 3500)"
      ]
     },
     "execution_count": 744,
     "metadata": {},
     "output_type": "execute_result"
    }
   ],
   "source": [
    "# Fitting and transforing best Transformer params:\n",
    "\n",
    "cvec = CountVectorizer(max_df=0.9, \n",
    "                       max_features=3500, \n",
    "                       min_df=1, \n",
    "                       ngram_range=(1,1), \n",
    "                       stop_words='english')\n",
    "\n",
    "\n",
    "X_train_cvec = cvec.fit_transform(X_train, y_train).todense()\n",
    "X_test_cvec = cvec.transform(X_test).todense()\n",
    "\n",
    "X_train_cvec.shape"
   ]
  },
  {
   "cell_type": "code",
   "execution_count": 745,
   "metadata": {},
   "outputs": [],
   "source": [
    "# grid search for best estimator params:\n",
    "# commented out as running takes a while\n",
    "\n",
    "# lr = LogisticRegression()\n",
    "# lr_params = {'C': np.linspace(1, 10),\n",
    "#             'penalty' : ['l1', 'l2'],\n",
    "# #              'C' : [0.0001, 0.001, 0.01, 0.1, 1, 10, 100, 1000],\n",
    "#              'class_weight' : [{1:0.5, 0:0.5}, {1:0.4, 0:0.6}, {1:0.6, 0:0.4}, {1:0.7, 0:0.3}],\n",
    "#              'solver' : ['liblinear', 'saga'],\n",
    "#              'max_iter' : [1000]}\n",
    "\n",
    "\n",
    "\n",
    "# gs_lr = GridSearchCV(lr, param_grid=lr_params, cv=5, n_jobs=-1)\n",
    "# gs_lr.fit(X_train_cvec, y_train)\n",
    "# print(gs_lr.best_score_)\n",
    "# gs_lr.best_params_\n",
    "\n"
   ]
  },
  {
   "cell_type": "code",
   "execution_count": 746,
   "metadata": {},
   "outputs": [],
   "source": [
    "# gs_cv_lr_best = gs_lr.best_estimator_"
   ]
  },
  {
   "cell_type": "code",
   "execution_count": 747,
   "metadata": {},
   "outputs": [],
   "source": [
    "# saving best estimates:\n",
    "\n",
    "gs_cv_lr_best = LogisticRegression(C=2.2857142857142856,\n",
    "                                  class_weight={1: 0.4, 0: 0.6},\n",
    "                                  max_iter=1000,\n",
    "                                  penalty='l2',\n",
    "                                  solver='saga',\n",
    "                                  n_jobs=-1)"
   ]
  },
  {
   "cell_type": "code",
   "execution_count": 748,
   "metadata": {},
   "outputs": [
    {
     "name": "stdout",
     "output_type": "stream",
     "text": [
      "best Logistic Regression train score with CV = 0.9837638376383764\n",
      "best Logistic Regression test score with CV = 0.834070796460177\n"
     ]
    }
   ],
   "source": [
    "# fit model and print scores:\n",
    "\n",
    "gs_cv_lr_best.fit(X_train_cvec, y_train)\n",
    "print('best Logistic Regression train score with CV = ' + str(gs_cv_lr_best.score(X_train_cvec, y_train)))\n",
    "print('best Logistic Regression test score with CV = ' + str(gs_cv_lr_best.score(X_test_cvec, y_test)))"
   ]
  },
  {
   "cell_type": "markdown",
   "metadata": {},
   "source": [
    "#### with TFIDF"
   ]
  },
  {
   "cell_type": "code",
   "execution_count": 749,
   "metadata": {},
   "outputs": [],
   "source": [
    "# grid search for best Transformer params:\n",
    "# commented out as running takes a while\n",
    "\n",
    "# gs_tfidf_lr.fit(X_train, y_train)\n",
    "# print('best Logistic Regression score with Grid Search = ' + str(gs_tfidf_lr.best_score_))\n",
    "# print('best Logistic Regression parameters with Grid Search = ' + str(gs_tfidf_lr.best_params_))"
   ]
  },
  {
   "cell_type": "markdown",
   "metadata": {},
   "source": [
    "Fitting/vectorizing best parameters"
   ]
  },
  {
   "cell_type": "code",
   "execution_count": 750,
   "metadata": {},
   "outputs": [
    {
     "data": {
      "text/plain": [
       "(1355, 2500)"
      ]
     },
     "execution_count": 750,
     "metadata": {},
     "output_type": "execute_result"
    }
   ],
   "source": [
    "# fit and transform with best Transformer params:\n",
    "\n",
    "tfidf = TfidfVectorizer(max_df=0.9, \n",
    "                       max_features=2500, \n",
    "                       min_df=1, \n",
    "                       ngram_range=(1,1), \n",
    "                       stop_words=None)\n",
    "\n",
    "\n",
    "X_train_tfidf = tfidf.fit_transform(X_train, y_train).todense()\n",
    "X_test_tfidf = tfidf.transform(X_test).todense()\n",
    "\n",
    "X_train_tfidf.shape"
   ]
  },
  {
   "cell_type": "code",
   "execution_count": 751,
   "metadata": {},
   "outputs": [],
   "source": [
    "# randomsearch for best estimator params:\n",
    "# using randomsearch instead of gridsearch to save time\n",
    "# commented out as running takes a while\n",
    "\n",
    "# lr = LogisticRegression()\n",
    "\n",
    "# lr_params = {'C': np.linspace(1, 10),\n",
    "#             'penalty' : ['l1', 'l2'],\n",
    "# #              'C' : [0.0001, 0.001, 0.01, 0.1, 1, 10, 100, 1000],\n",
    "#              'class_weight' : [{1:0.5, 0:0.5}, {1:0.4, 0:0.6}, {1:0.6, 0:0.4}, {1:0.7, 0:0.3}],\n",
    "#              'solver' : ['liblinear', 'saga'],\n",
    "#              'max_iter' : [1000]}\n",
    "\n",
    "# gs_lr = RandomizedSearchCV(lr, param_distributions=lr_params, cv=5, n_jobs=-1)\n",
    "# gs_lr.fit(X_train_tfidf, y_train)\n",
    "# print(gs_lr.best_score_)\n",
    "# gs_lr.best_params_"
   ]
  },
  {
   "cell_type": "code",
   "execution_count": 752,
   "metadata": {},
   "outputs": [],
   "source": [
    "# gs_tfidf_lr_best = gs_lr.best_estimator_"
   ]
  },
  {
   "cell_type": "code",
   "execution_count": 753,
   "metadata": {},
   "outputs": [],
   "source": [
    "# saving best parameters:\n",
    "\n",
    "gs_tfidf_lr_best = LogisticRegression(solver= 'saga',\n",
    "                                      penalty='l2',\n",
    "                                      max_iter=1000,\n",
    "                                      class_weight={1: 0.5, 0: 0.5},\n",
    "                                      C=3.5714285714285716, \n",
    "                                      n_jobs=-1)"
   ]
  },
  {
   "cell_type": "code",
   "execution_count": 754,
   "metadata": {},
   "outputs": [
    {
     "name": "stdout",
     "output_type": "stream",
     "text": [
      "best Logistic Regression train score with TFIDF = 0.966789667896679\n",
      "best Logistic Regression test score with TDIDF = 0.8362831858407079\n"
     ]
    }
   ],
   "source": [
    "gs_tfidf_lr_best.fit(X_train_tfidf, y_train)\n",
    "print('best Logistic Regression train score with TFIDF = ' + str(gs_tfidf_lr_best.score(X_train_tfidf, y_train)))\n",
    "print('best Logistic Regression test score with TDIDF = ' + str(gs_tfidf_lr_best.score(X_test_tfidf, y_test)))"
   ]
  },
  {
   "cell_type": "code",
   "execution_count": 755,
   "metadata": {},
   "outputs": [],
   "source": [
    "#create mega function to draw roc curve\n",
    "def draw_roc(df, true_col, pred_prob_col, model_name):\n",
    "    # Create figure.\n",
    "    plt.figure(figsize = (10,7))\n",
    "\n",
    "    # Create threshold values. (Dashed red line in image.)\n",
    "    thresholds = np.linspace(0, 1, 200)\n",
    "\n",
    "    # Define function to calculate sensitivity. (True positive rate.)\n",
    "    def TPR(df, true_col, pred_prob_col, threshold):\n",
    "        true_positive = df[(df[true_col] == 1) & (df[pred_prob_col] >= threshold)].shape[0]\n",
    "        false_negative = df[(df[true_col] == 1) & (df[pred_prob_col] < threshold)].shape[0]\n",
    "        return true_positive / (true_positive + false_negative)\n",
    "\n",
    "    # Define function to calculate 1 - specificity. (False positive rate.)\n",
    "    def FPR(df, true_col, pred_prob_col, threshold):\n",
    "        true_negative = df[(df[true_col] == 0) & (df[pred_prob_col] <= threshold)].shape[0]\n",
    "        false_positive = df[(df[true_col] == 0) & (df[pred_prob_col] > threshold)].shape[0]\n",
    "        return 1 - (true_negative / (true_negative + false_positive))\n",
    "\n",
    "    # Calculate sensitivity & 1-specificity for each threshold between 0 and 1.\n",
    "    tpr_values = [TPR(df, true_col, pred_prob_col, prob) for prob in thresholds]\n",
    "    fpr_values = [FPR(df, true_col, pred_prob_col, prob) for prob in thresholds]\n",
    "\n",
    "    # Plot ROC curve.\n",
    "    plt.plot(fpr_values, # False Positive Rate on X-axis\n",
    "             tpr_values, # True Positive Rate on Y-axis\n",
    "             label='ROC Curve')\n",
    "\n",
    "    # Plot baseline. (Perfect overlap between the two populations.)\n",
    "    plt.plot(np.linspace(0, 1, 200),\n",
    "             np.linspace(0, 1, 200),\n",
    "             label='baseline',\n",
    "             linestyle='--')\n",
    "\n",
    "    # Label axes.\n",
    "    plt.title(f'ROC Curve with AUC = {round(roc_auc_score(df[true_col], df[pred_prob_col]),3)}\\n({model_name})',fontsize=22)\n",
    "    plt.ylabel('Sensitivity - False Positive Rate', fontsize=18)\n",
    "    plt.xlabel('1 - Specificity - True Positive Rate', fontsize=18)\n",
    "\n",
    "    # Create legend.\n",
    "    plt.legend(fontsize=16);"
   ]
  },
  {
   "cell_type": "code",
   "execution_count": 756,
   "metadata": {},
   "outputs": [],
   "source": [
    "# saving best model\n",
    "logreg = gs_cv_lr_best"
   ]
  },
  {
   "cell_type": "code",
   "execution_count": 757,
   "metadata": {},
   "outputs": [],
   "source": [
    "pred_proba_logreg = [i[1] for i in logreg.predict_proba(X_test_cvec)]"
   ]
  },
  {
   "cell_type": "code",
   "execution_count": 758,
   "metadata": {},
   "outputs": [
    {
     "name": "stdout",
     "output_type": "stream",
     "text": [
      "ROC AUC Score:  0.9130690161527166\n"
     ]
    }
   ],
   "source": [
    "print(\"ROC AUC Score: \", roc_auc_score(y_test, pred_proba_logreg))"
   ]
  },
  {
   "cell_type": "code",
   "execution_count": 759,
   "metadata": {},
   "outputs": [],
   "source": [
    "#Put the actual values and predicted probabilities in a dataframe\n",
    "pred_logreg_df = pd.DataFrame({'actual': y_test, \n",
    "                               'pred': pred_proba_logreg})"
   ]
  },
  {
   "cell_type": "code",
   "execution_count": 760,
   "metadata": {},
   "outputs": [],
   "source": [
    "pred_logreg_df['predict'] = gs_cv_lr_best.predict(X_test_cvec)"
   ]
  },
  {
   "cell_type": "code",
   "execution_count": 761,
   "metadata": {},
   "outputs": [],
   "source": [
    "tn, fp, fn, tp = confusion_matrix(y_test, pred_logreg_df['predict']).ravel()"
   ]
  },
  {
   "cell_type": "code",
   "execution_count": 762,
   "metadata": {},
   "outputs": [
    {
     "name": "stdout",
     "output_type": "stream",
     "text": [
      "True Negatives: 197\n",
      "False Positives: 28\n",
      "False Negatives: 47\n",
      "True Positives: 180\n"
     ]
    }
   ],
   "source": [
    "print(\"True Negatives: %s\" % tn)\n",
    "print(\"False Positives: %s\" % fp)\n",
    "print(\"False Negatives: %s\" % fn)\n",
    "print(\"True Positives: %s\" % tp)\n"
   ]
  },
  {
   "cell_type": "markdown",
   "metadata": {},
   "source": [
    "Confusion Matrix"
   ]
  },
  {
   "cell_type": "code",
   "execution_count": 763,
   "metadata": {},
   "outputs": [
    {
     "data": {
      "image/png": "[encoded data removed]",
      "text/plain": [
       "<Figure size 432x288 with 2 Axes>"
      ]
     },
     "metadata": {
      "needs_background": "light"
     },
     "output_type": "display_data"
    }
   ],
   "source": [
    "disp = plot_confusion_matrix(logreg, X_test_cvec, y_test, cmap='Blues', values_format='.3g')"
   ]
  },
  {
   "cell_type": "markdown",
   "metadata": {},
   "source": [
    "### ROC Curve"
   ]
  },
  {
   "cell_type": "code",
   "execution_count": 764,
   "metadata": {},
   "outputs": [
    {
     "data": {
      "image/png": "[encoded data removed]",
      "text/plain": [
       "<Figure size 720x504 with 1 Axes>"
      ]
     },
     "metadata": {
      "needs_background": "light"
     },
     "output_type": "display_data"
    }
   ],
   "source": [
    "draw_roc(pred_logreg_df, \"actual\", \"pred\", 'Logistic Regression with TFIDF')"
   ]
  },
  {
   "cell_type": "markdown",
   "metadata": {},
   "source": [
    "### Multinomial Naive Base"
   ]
  },
  {
   "cell_type": "markdown",
   "metadata": {},
   "source": [
    "#### with CV "
   ]
  },
  {
   "cell_type": "code",
   "execution_count": 765,
   "metadata": {},
   "outputs": [],
   "source": [
    "# commented out as running takes a while\n",
    "\n",
    "# gs_cv_nb.fit(X_train, y_train)\n",
    "# print('best Multinomial NB score with Grid Search = ' + str(gs_cv_nb.best_score_))\n",
    "# print('best Multinomial NB parameters with Grid Search = ' + str(gs_cv_nb.best_params_))"
   ]
  },
  {
   "cell_type": "markdown",
   "metadata": {},
   "source": [
    "Fitting/vectorizing best parameters"
   ]
  },
  {
   "cell_type": "code",
   "execution_count": 766,
   "metadata": {},
   "outputs": [
    {
     "data": {
      "text/plain": [
       "(1355, 2500)"
      ]
     },
     "execution_count": 766,
     "metadata": {},
     "output_type": "execute_result"
    }
   ],
   "source": [
    "cvec = CountVectorizer(max_df=0.9, \n",
    "                       max_features=2500, \n",
    "                       min_df=1, \n",
    "                       ngram_range=(1,2), \n",
    "                       stop_words=None)\n",
    "\n",
    "\n",
    "X_train_cvec = cvec.fit_transform(X_train, y_train).todense()\n",
    "X_test_cvec = cvec.transform(X_test).todense()\n",
    "\n",
    "X_train_cvec.shape"
   ]
  },
  {
   "cell_type": "code",
   "execution_count": 767,
   "metadata": {},
   "outputs": [
    {
     "name": "stdout",
     "output_type": "stream",
     "text": [
      "best Multinomial NB train score with CV = 0.9416974169741698\n",
      "best Multinomial NB test score with CV = 0.834070796460177\n"
     ]
    }
   ],
   "source": [
    "nb = MultinomialNB()\n",
    "\n",
    "nb.fit(X_train_cvec, y_train)\n",
    "print('best Multinomial NB train score with CV = ' + str(nb.score(X_train_cvec, y_train)))\n",
    "print('best Multinomial NB test score with CV = ' + str(nb.score(X_test_cvec, y_test)))"
   ]
  },
  {
   "cell_type": "markdown",
   "metadata": {},
   "source": [
    "#### with TFIDF"
   ]
  },
  {
   "cell_type": "code",
   "execution_count": 768,
   "metadata": {},
   "outputs": [],
   "source": [
    "# Gridsearch for best Transformer params:\n",
    "# commented out as running takes a while\n",
    "\n",
    "# gs_tfidf_nb.fit(X_train, y_train)\n",
    "# print('best Multinomial NB score with Grid Search = ' + str(gs_tfidf_nb.best_score_))\n",
    "# print('best Multinomial NB parameters with Grid Search = ' + str(gs_tfidf_nb.best_params_))"
   ]
  },
  {
   "cell_type": "markdown",
   "metadata": {},
   "source": [
    "Fitting/vectorizing best parameters"
   ]
  },
  {
   "cell_type": "code",
   "execution_count": 769,
   "metadata": {},
   "outputs": [
    {
     "data": {
      "text/plain": [
       "(1355, 3500)"
      ]
     },
     "execution_count": 769,
     "metadata": {},
     "output_type": "execute_result"
    }
   ],
   "source": [
    "# Fit and transform data with best transformer:\n",
    "\n",
    "tfidf = TfidfVectorizer(max_df=0.9, \n",
    "                       max_features=3500, \n",
    "                       min_df=1, \n",
    "                       ngram_range=(1,2), \n",
    "                       stop_words='english')\n",
    "\n",
    "\n",
    "X_train_tfidf = tfidf.fit_transform(X_train, y_train).todense()\n",
    "X_test_tfidf = tfidf.transform(X_test).todense()\n",
    "\n",
    "X_train_tfidf.shape"
   ]
  },
  {
   "cell_type": "code",
   "execution_count": 770,
   "metadata": {},
   "outputs": [
    {
     "name": "stdout",
     "output_type": "stream",
     "text": [
      "best Multinomial NB train score with TFIDF = 0.9623616236162361\n",
      "best Multinomial NB test score with TFIDF = 0.838495575221239\n"
     ]
    }
   ],
   "source": [
    "# Fit model and check scores:\n",
    "\n",
    "nb = MultinomialNB()\n",
    "\n",
    "nb.fit(X_train_tfidf, y_train)\n",
    "print('best Multinomial NB train score with TFIDF = ' + str(nb.score(X_train_tfidf, y_train)))\n",
    "print('best Multinomial NB test score with TFIDF = ' + str(nb.score(X_test_tfidf, y_test)))"
   ]
  },
  {
   "cell_type": "code",
   "execution_count": 771,
   "metadata": {},
   "outputs": [
    {
     "name": "stdout",
     "output_type": "stream",
     "text": [
      "True Negatives: 200\n",
      "False Positives: 25\n",
      "False Negatives: 48\n",
      "True Positives: 179\n"
     ]
    }
   ],
   "source": [
    "#get list of predictions and print tn,fp,fn,tp\n",
    "\n",
    "pred = nb.predict(X_test_tfidf)\n",
    "\n",
    "tn, fp, fn, tp = confusion_matrix(y_test, pred).ravel()\n",
    "print(\"True Negatives: %s\" % tn)\n",
    "print(\"False Positives: %s\" % fp)\n",
    "print(\"False Negatives: %s\" % fn)\n",
    "print(\"True Positives: %s\" % tp)"
   ]
  },
  {
   "cell_type": "markdown",
   "metadata": {},
   "source": [
    "Confusion Matrix"
   ]
  },
  {
   "cell_type": "code",
   "execution_count": 772,
   "metadata": {
    "scrolled": false
   },
   "outputs": [
    {
     "data": {
      "image/png": "[encoded data removed]",
      "text/plain": [
       "<Figure size 432x288 with 2 Axes>"
      ]
     },
     "metadata": {
      "needs_background": "light"
     },
     "output_type": "display_data"
    }
   ],
   "source": [
    "disp = plot_confusion_matrix(nb, X_test_tfidf, y_test, cmap='Blues', values_format='.3g')"
   ]
  },
  {
   "cell_type": "code",
   "execution_count": 773,
   "metadata": {},
   "outputs": [],
   "source": [
    "#construct list of probabilities\n",
    "pred_proba = [i[1] for i in nb.predict_proba(X_test_tfidf)]"
   ]
  },
  {
   "cell_type": "code",
   "execution_count": 774,
   "metadata": {},
   "outputs": [],
   "source": [
    "# Put the actual values and predicted probabilities in a dataframe\n",
    "pred_nb_df = pd.DataFrame({'actual': y_test, \n",
    "                           'pred': pred_proba})"
   ]
  },
  {
   "cell_type": "code",
   "execution_count": 775,
   "metadata": {},
   "outputs": [
    {
     "name": "stdout",
     "output_type": "stream",
     "text": [
      "ROC AUC Score:  0.9183259911894274\n"
     ]
    }
   ],
   "source": [
    "print(\"ROC AUC Score: \", roc_auc_score(y_test, pred_proba))"
   ]
  },
  {
   "cell_type": "markdown",
   "metadata": {},
   "source": [
    "### ROC Curve"
   ]
  },
  {
   "cell_type": "code",
   "execution_count": 776,
   "metadata": {},
   "outputs": [
    {
     "data": {
      "image/png": "[encoded data removed]",
      "text/plain": [
       "<Figure size 720x504 with 1 Axes>"
      ]
     },
     "metadata": {
      "needs_background": "light"
     },
     "output_type": "display_data"
    }
   ],
   "source": [
    "draw_roc(pred_nb_df, \"actual\", \"pred\", \"Multinomial Naive-Bayes with TFIDF\")"
   ]
  },
  {
   "cell_type": "markdown",
   "metadata": {},
   "source": [
    "### Gaussian Naive Base"
   ]
  },
  {
   "cell_type": "markdown",
   "metadata": {},
   "source": [
    "#### with TFIDF"
   ]
  },
  {
   "cell_type": "markdown",
   "metadata": {},
   "source": [
    "Gaussian is done only with TFIDF as CV is not applicable to it"
   ]
  },
  {
   "cell_type": "code",
   "execution_count": 777,
   "metadata": {},
   "outputs": [],
   "source": [
    "# commented out as running takes a while:\n",
    "\n",
    "# gs_tfidf_gb.fit(X_train, y_train)\n",
    "# print('best Gaussian NB score with Grid Search = ' + str(gs_tfidf_gb.best_score_))\n",
    "# print('best Gaussian NB parameters with Grid Search = ' + str(gs_tfidf_gb.best_params_))"
   ]
  },
  {
   "cell_type": "markdown",
   "metadata": {},
   "source": [
    "Fitting/vectorizing best parameters"
   ]
  },
  {
   "cell_type": "code",
   "execution_count": 778,
   "metadata": {},
   "outputs": [
    {
     "data": {
      "text/plain": [
       "(1355, 2500)"
      ]
     },
     "execution_count": 778,
     "metadata": {},
     "output_type": "execute_result"
    }
   ],
   "source": [
    "tfidf = TfidfVectorizer(max_df=0.9, \n",
    "                       max_features=2500, \n",
    "                       min_df=1, \n",
    "                       ngram_range=(1,2), \n",
    "                       stop_words='english')\n",
    "\n",
    "\n",
    "X_train_tfidf = tfidf.fit_transform(X_train, y_train).todense()\n",
    "X_test_tfidf = tfidf.transform(X_test).todense()\n",
    "\n",
    "X_train_tfidf.shape"
   ]
  },
  {
   "cell_type": "code",
   "execution_count": 779,
   "metadata": {},
   "outputs": [
    {
     "name": "stdout",
     "output_type": "stream",
     "text": [
      "best Gaussian NB train score with TFIDF = 0.9365313653136531\n",
      "best Gaussian NB test score with TFIDF = 0.7522123893805309\n"
     ]
    }
   ],
   "source": [
    "gb = GaussianNB()\n",
    "\n",
    "gb.fit(X_train_tfidf, y_train)\n",
    "print('best Gaussian NB train score with TFIDF = ' + str(gb.score(X_train_tfidf, y_train)))\n",
    "print('best Gaussian NB test score with TFIDF = ' + str(gb.score(X_test_tfidf, y_test)))"
   ]
  },
  {
   "cell_type": "code",
   "execution_count": 780,
   "metadata": {},
   "outputs": [
    {
     "name": "stdout",
     "output_type": "stream",
     "text": [
      "True Negatives: 152\n",
      "False Positives: 73\n",
      "False Negatives: 39\n",
      "True Positives: 188\n"
     ]
    }
   ],
   "source": [
    "#get list of predictions\n",
    "pred = gb.predict(X_test_tfidf)\n",
    "\n",
    "tn, fp, fn, tp = confusion_matrix(y_test, pred).ravel()\n",
    "\n",
    "print(\"True Negatives: %s\" % tn)\n",
    "print(\"False Positives: %s\" % fp)\n",
    "print(\"False Negatives: %s\" % fn)\n",
    "print(\"True Positives: %s\" % tp)"
   ]
  },
  {
   "cell_type": "markdown",
   "metadata": {},
   "source": [
    "Confusion Matrix"
   ]
  },
  {
   "cell_type": "code",
   "execution_count": 781,
   "metadata": {
    "scrolled": false
   },
   "outputs": [
    {
     "data": {
      "image/png": "[encoded data removed]",
      "text/plain": [
       "<Figure size 432x288 with 2 Axes>"
      ]
     },
     "metadata": {
      "needs_background": "light"
     },
     "output_type": "display_data"
    }
   ],
   "source": [
    "disp = plot_confusion_matrix(gb, X_test_tfidf, y_test, cmap='Blues', values_format='.3g')"
   ]
  },
  {
   "cell_type": "code",
   "execution_count": 782,
   "metadata": {},
   "outputs": [],
   "source": [
    "#construct list of probabilities\n",
    "pred_proba = [i[1] for i in gb.predict_proba(X_test_tfidf)]"
   ]
  },
  {
   "cell_type": "code",
   "execution_count": 783,
   "metadata": {},
   "outputs": [],
   "source": [
    "# Put the actual values and predicted probabilities in a dataframe\n",
    "pred_gb_df = pd.DataFrame({'actual': y_test, \n",
    "                           'pred': pred_proba})"
   ]
  },
  {
   "cell_type": "code",
   "execution_count": 784,
   "metadata": {},
   "outputs": [
    {
     "name": "stdout",
     "output_type": "stream",
     "text": [
      "ROC AUC Score:  0.7529319627998042\n"
     ]
    }
   ],
   "source": [
    "print(\"ROC AUC Score: \", roc_auc_score(y_test, pred_proba))"
   ]
  },
  {
   "cell_type": "markdown",
   "metadata": {},
   "source": [
    "### ROC Curve"
   ]
  },
  {
   "cell_type": "code",
   "execution_count": 785,
   "metadata": {},
   "outputs": [
    {
     "data": {
      "image/png": "[encoded data removed]",
      "text/plain": [
       "<Figure size 720x504 with 1 Axes>"
      ]
     },
     "metadata": {
      "needs_background": "light"
     },
     "output_type": "display_data"
    }
   ],
   "source": [
    "draw_roc(pred_gb_df, \"actual\", \"pred\", \"Gaussian Naive-Bayes with TFIDF\")"
   ]
  },
  {
   "cell_type": "code",
   "execution_count": 786,
   "metadata": {},
   "outputs": [],
   "source": [
    "# I am not sure what happened there or how to interpret that"
   ]
  },
  {
   "cell_type": "markdown",
   "metadata": {},
   "source": [
    "### Decision Tree Classifier"
   ]
  },
  {
   "cell_type": "markdown",
   "metadata": {},
   "source": [
    "#### with CV"
   ]
  },
  {
   "cell_type": "code",
   "execution_count": 787,
   "metadata": {},
   "outputs": [],
   "source": [
    "# Gridsearch for best Transformer parameters\n",
    "# commented out as running takes a while\n",
    "\n",
    "# gs_cv_dt.fit(X_train, y_train)\n",
    "# print('best Decision Tree score with Grid Search = ' + str(gs_cv_dt.best_score_))\n",
    "# print('best Decision Tree parameters with Grid Search = ' + str(gs_cv_dt.best_params_))"
   ]
  },
  {
   "cell_type": "markdown",
   "metadata": {},
   "source": [
    "Fitting/vectorizing best parameters"
   ]
  },
  {
   "cell_type": "code",
   "execution_count": 788,
   "metadata": {},
   "outputs": [
    {
     "data": {
      "text/plain": [
       "(1355, 3858)"
      ]
     },
     "execution_count": 788,
     "metadata": {},
     "output_type": "execute_result"
    }
   ],
   "source": [
    "cvec = CountVectorizer(max_df=0.9, \n",
    "                       max_features=5000, \n",
    "                       min_df=1, \n",
    "                       ngram_range=(1,1), \n",
    "                       stop_words='english')\n",
    "\n",
    "\n",
    "X_train_cvec = cvec.fit_transform(X_train, y_train).todense()\n",
    "X_test_cvec = cvec.transform(X_test).todense()\n",
    "\n",
    "X_train_cvec.shape"
   ]
  },
  {
   "cell_type": "code",
   "execution_count": 789,
   "metadata": {},
   "outputs": [],
   "source": [
    "# Gridsearch for best estimator params:\n",
    "# commented out as running takes a while\n",
    "\n",
    "# dt = DecisionTreeClassifier()\n",
    "# dt_params = {'max_depth':[10, 13, 17, 20, 23],\n",
    "#              'min_samples_split':[2,3,5,7,10],\n",
    "#              'min_samples_leaf':[2,3,4,5]}\n",
    "\n",
    "\n",
    "# gs_dt = GridSearchCV(dt, param_grid=dt_params, cv=5)\n",
    "# gs_dt.fit(X_train_cvec, y_train)\n",
    "# print(gs_dt.best_score_)\n",
    "# gs_dt.best_params_\n",
    "\n"
   ]
  },
  {
   "cell_type": "code",
   "execution_count": 790,
   "metadata": {},
   "outputs": [],
   "source": [
    "# gs_cv_dt_best = gs_dt.best_estimator_"
   ]
  },
  {
   "cell_type": "code",
   "execution_count": 791,
   "metadata": {},
   "outputs": [],
   "source": [
    "# saving best estimator parameters\n",
    "gs_cv_dt_best = DecisionTreeClassifier(max_depth=23,\n",
    "                                      min_samples_leaf=5,\n",
    "                                      min_samples_split=7)"
   ]
  },
  {
   "cell_type": "code",
   "execution_count": 792,
   "metadata": {},
   "outputs": [
    {
     "name": "stdout",
     "output_type": "stream",
     "text": [
      "best Decision Tree train score with CV = 0.8361623616236162\n",
      "best Decision Tree test score with CV = 0.7964601769911505\n"
     ]
    }
   ],
   "source": [
    "gs_cv_dt_best.fit(X_train_cvec, y_train)\n",
    "print('best Decision Tree train score with CV = ' + str(gs_cv_dt_best.score(X_train_cvec, y_train)))\n",
    "print('best Decision Tree test score with CV = ' + str(gs_cv_dt_best.score(X_test_cvec, y_test)))"
   ]
  },
  {
   "cell_type": "markdown",
   "metadata": {},
   "source": [
    "#### with TFIDF"
   ]
  },
  {
   "cell_type": "code",
   "execution_count": 793,
   "metadata": {},
   "outputs": [],
   "source": [
    "# gridsearch for best transformer params:\n",
    "# commented out as running takes a while\n",
    "\n",
    "# gs_tfidf_dt.fit(X_train, y_train)\n",
    "# print('best Decision Tree score with Grid Search = ' + str(gs_tfidf_dt.best_score_))\n",
    "# print('best Decision Tree parameters with Grid Search = ' + str(gs_tfidf_dt.best_params_))"
   ]
  },
  {
   "cell_type": "markdown",
   "metadata": {},
   "source": [
    "Fitting/vectorizing best parameters"
   ]
  },
  {
   "cell_type": "code",
   "execution_count": 794,
   "metadata": {},
   "outputs": [
    {
     "data": {
      "text/plain": [
       "(1355, 3947)"
      ]
     },
     "execution_count": 794,
     "metadata": {},
     "output_type": "execute_result"
    }
   ],
   "source": [
    "tfidf = TfidfVectorizer(max_df=0.95, \n",
    "                       max_features=5000, \n",
    "                       min_df=1, \n",
    "                       ngram_range=(1,1), \n",
    "                       stop_words=None)\n",
    "\n",
    "\n",
    "X_train_tfidf = tfidf.fit_transform(X_train, y_train).todense()\n",
    "X_test_tfidf = tfidf.transform(X_test).todense()\n",
    "\n",
    "X_train_tfidf.shape"
   ]
  },
  {
   "cell_type": "code",
   "execution_count": 795,
   "metadata": {},
   "outputs": [],
   "source": [
    "# Gridsearch for best estimator params:\n",
    "# commented out as running takes a while\n",
    "\n",
    "# dt = DecisionTreeClassifier()\n",
    "# dt_params = {'max_depth':[17, 20, 23, 27, 30, 35],\n",
    "#              'min_samples_split':[7,10,13],\n",
    "#              'min_samples_leaf':[3,4,5]}\n",
    "\n",
    "\n",
    "# gs_dt = GridSearchCV(dt, param_grid=dt_params, cv=5)\n",
    "# gs_dt.fit(X_train_tfidf, y_train)\n",
    "# print(gs_dt.best_score_)\n",
    "# gs_dt.best_params_"
   ]
  },
  {
   "cell_type": "code",
   "execution_count": 796,
   "metadata": {},
   "outputs": [],
   "source": [
    "# gs_tfidf_dt_best = gs_dt.best_estimator_"
   ]
  },
  {
   "cell_type": "code",
   "execution_count": 797,
   "metadata": {},
   "outputs": [],
   "source": [
    "# saving best estimator params\n",
    "gs_tfidf_dt_best = DecisionTreeClassifier(max_depth=30,\n",
    "                                         min_samples_leaf=4,\n",
    "                                         min_samples_split=10)"
   ]
  },
  {
   "cell_type": "code",
   "execution_count": 798,
   "metadata": {},
   "outputs": [
    {
     "name": "stdout",
     "output_type": "stream",
     "text": [
      "best Decision Tree train score with TFIDF = 0.8678966789667897\n",
      "best Decision Tree test score with TDIDF = 0.7787610619469026\n"
     ]
    }
   ],
   "source": [
    "gs_tfidf_dt_best.fit(X_train_tfidf, y_train)\n",
    "print('best Decision Tree train score with TFIDF = ' + str(gs_tfidf_dt_best.score(X_train_tfidf, y_train)))\n",
    "print('best Decision Tree test score with TDIDF = ' + str(gs_tfidf_dt_best.score(X_test_tfidf, y_test)))"
   ]
  },
  {
   "cell_type": "code",
   "execution_count": 799,
   "metadata": {},
   "outputs": [],
   "source": [
    "# save best estimator\n",
    "dectree = gs_cv_dt_best"
   ]
  },
  {
   "cell_type": "code",
   "execution_count": 800,
   "metadata": {},
   "outputs": [
    {
     "name": "stdout",
     "output_type": "stream",
     "text": [
      "True Negatives: 163\n",
      "False Positives: 62\n",
      "False Negatives: 30\n",
      "True Positives: 197\n"
     ]
    }
   ],
   "source": [
    "#get list of predictions\n",
    "pred = dectree.predict(X_test_cvec)\n",
    "\n",
    "tn, fp, fn, tp = confusion_matrix(y_test, pred).ravel()\n",
    "print(\"True Negatives: %s\" % tn)\n",
    "print(\"False Positives: %s\" % fp)\n",
    "print(\"False Negatives: %s\" % fn)\n",
    "print(\"True Positives: %s\" % tp)"
   ]
  },
  {
   "cell_type": "markdown",
   "metadata": {},
   "source": [
    "Confusion Matrix"
   ]
  },
  {
   "cell_type": "code",
   "execution_count": 801,
   "metadata": {
    "scrolled": false
   },
   "outputs": [
    {
     "data": {
      "image/png": "[encoded data removed]",
      "text/plain": [
       "<Figure size 432x288 with 2 Axes>"
      ]
     },
     "metadata": {
      "needs_background": "light"
     },
     "output_type": "display_data"
    }
   ],
   "source": [
    "disp = plot_confusion_matrix(dectree, X_test_cvec, y_test, cmap='Blues', values_format='.3g')"
   ]
  },
  {
   "cell_type": "code",
   "execution_count": 802,
   "metadata": {},
   "outputs": [],
   "source": [
    "#construct list of probabilities\n",
    "pred_proba = [i[1] for i in dectree.predict_proba(X_test_cvec)]"
   ]
  },
  {
   "cell_type": "code",
   "execution_count": 803,
   "metadata": {},
   "outputs": [],
   "source": [
    "# Put the actual values and predicted probabilities in a dataframe\n",
    "pred_gs_cv_dt_best_df = pd.DataFrame({'actual': y_test,\n",
    "                                      'pred': pred_proba})"
   ]
  },
  {
   "cell_type": "code",
   "execution_count": 804,
   "metadata": {},
   "outputs": [
    {
     "name": "stdout",
     "output_type": "stream",
     "text": [
      "ROC AUC Score:  0.8244346549192364\n"
     ]
    }
   ],
   "source": [
    "print(\"ROC AUC Score: \", roc_auc_score(y_test, pred_proba))"
   ]
  },
  {
   "cell_type": "markdown",
   "metadata": {},
   "source": [
    "### ROC Curve"
   ]
  },
  {
   "cell_type": "code",
   "execution_count": 805,
   "metadata": {},
   "outputs": [
    {
     "data": {
      "image/png": "[encoded data removed]",
      "text/plain": [
       "<Figure size 720x504 with 1 Axes>"
      ]
     },
     "metadata": {
      "needs_background": "light"
     },
     "output_type": "display_data"
    }
   ],
   "source": [
    "draw_roc(pred_gs_cv_dt_best_df, \"actual\", \"pred\", \"Decision Tree with CV\")"
   ]
  },
  {
   "cell_type": "markdown",
   "metadata": {},
   "source": [
    "### Bagged Decision Tree Classifier"
   ]
  },
  {
   "cell_type": "markdown",
   "metadata": {},
   "source": [
    "#### with CV"
   ]
  },
  {
   "cell_type": "code",
   "execution_count": 806,
   "metadata": {},
   "outputs": [],
   "source": [
    "# gridsearch for best Transformer params\n",
    "# commented out as running takes a while\n",
    "\n",
    "# gs_cv_bdt.fit(X_train, y_train)\n",
    "# print('best Bagged Decision Tree score with Grid Search = ' + str(gs_cv_bdt.best_score_))\n",
    "# print('best Bagged Decision Tree parameters with Grid Search = ' + str(gs_cv_bdt.best_params_))"
   ]
  },
  {
   "cell_type": "markdown",
   "metadata": {},
   "source": [
    "Fitting/vectorizing best parameters"
   ]
  },
  {
   "cell_type": "code",
   "execution_count": 807,
   "metadata": {},
   "outputs": [
    {
     "data": {
      "text/plain": [
       "(1355, 3500)"
      ]
     },
     "execution_count": 807,
     "metadata": {},
     "output_type": "execute_result"
    }
   ],
   "source": [
    "# Fit and transform data with best transformer params:\n",
    "\n",
    "cvec = CountVectorizer(max_df=0.9, \n",
    "                       max_features=3500, \n",
    "                       min_df=1, \n",
    "                       ngram_range=(1,1), \n",
    "                       stop_words=None)\n",
    "\n",
    "\n",
    "X_train_cvec = cvec.fit_transform(X_train, y_train).todense()\n",
    "X_test_cvec = cvec.transform(X_test).todense()\n",
    "\n",
    "X_train_cvec.shape"
   ]
  },
  {
   "cell_type": "code",
   "execution_count": 808,
   "metadata": {},
   "outputs": [],
   "source": [
    "# instantiate estimator:\n",
    "\n",
    "bdt_cvec = BaggingClassifier()"
   ]
  },
  {
   "cell_type": "code",
   "execution_count": 809,
   "metadata": {},
   "outputs": [
    {
     "name": "stdout",
     "output_type": "stream",
     "text": [
      "best Bagged Decision Tree train score with CV = 0.9756457564575646\n",
      "best Bagged Decision Tree test score with CV = 0.7831858407079646\n"
     ]
    }
   ],
   "source": [
    "# Fit estimator to training data and print scores\n",
    "\n",
    "bdt_cvec.fit(X_train_cvec, y_train)\n",
    "print('best Bagged Decision Tree train score with CV = ' + str(bdt_cvec.score(X_train_cvec, y_train)))\n",
    "print('best Bagged Decision Tree test score with CV = ' + str(bdt_cvec.score(X_test_cvec, y_test)))"
   ]
  },
  {
   "cell_type": "markdown",
   "metadata": {},
   "source": [
    "#### with TFIDF"
   ]
  },
  {
   "cell_type": "code",
   "execution_count": 810,
   "metadata": {},
   "outputs": [],
   "source": [
    "# grid search for best Transformer params:\n",
    "# commented out as running takes a while\n",
    "\n",
    "# gs_tfidf_bdt.fit(X_train, y_train)\n",
    "# print('best Decision Tree score with Grid Search = ' + str(gs_tfidf_bdt.best_score_))\n",
    "# print('best Decision Tree parameters with Grid Search = ' + str(gs_tfidf_bdt.best_params_))"
   ]
  },
  {
   "cell_type": "markdown",
   "metadata": {},
   "source": [
    "Fitting/vectorizing best parameters"
   ]
  },
  {
   "cell_type": "code",
   "execution_count": 811,
   "metadata": {},
   "outputs": [
    {
     "data": {
      "text/plain": [
       "(1355, 572)"
      ]
     },
     "execution_count": 811,
     "metadata": {},
     "output_type": "execute_result"
    }
   ],
   "source": [
    "# Fit and Transform data with best Transformer params:\n",
    "\n",
    "tfidf = TfidfVectorizer(max_df=0.95, \n",
    "                       max_features=5000, \n",
    "                       min_df=5, \n",
    "                       ngram_range=(1,2), \n",
    "                       stop_words='english')\n",
    "\n",
    "\n",
    "X_train_tfidf = tfidf.fit_transform(X_train, y_train).todense()\n",
    "X_test_tfidf = tfidf.transform(X_test).todense()\n",
    "\n",
    "X_train_tfidf.shape"
   ]
  },
  {
   "cell_type": "code",
   "execution_count": 812,
   "metadata": {},
   "outputs": [],
   "source": [
    "# instantiate estimator\n",
    "\n",
    "bdt_tfidf = DecisionTreeClassifier()\n"
   ]
  },
  {
   "cell_type": "code",
   "execution_count": 813,
   "metadata": {},
   "outputs": [
    {
     "name": "stdout",
     "output_type": "stream",
     "text": [
      "best Decision Tree train score with TFIDF = 0.988929889298893\n",
      "best Decision Tree test score with TDIDF = 0.7964601769911505\n"
     ]
    }
   ],
   "source": [
    "# fit estimator to training data and check scores:\n",
    "\n",
    "bdt_tfidf.fit(X_train_tfidf, y_train)\n",
    "print('best Decision Tree train score with TFIDF = ' + str(bdt_tfidf.score(X_train_tfidf, y_train)))\n",
    "print('best Decision Tree test score with TDIDF = ' + str(bdt_tfidf.score(X_test_tfidf, y_test)))"
   ]
  },
  {
   "cell_type": "code",
   "execution_count": 814,
   "metadata": {},
   "outputs": [],
   "source": [
    "# save best estimator\n",
    "bagtree = bdt_cvec"
   ]
  },
  {
   "cell_type": "code",
   "execution_count": 815,
   "metadata": {},
   "outputs": [
    {
     "name": "stdout",
     "output_type": "stream",
     "text": [
      "True Negatives: 175\n",
      "False Positives: 50\n",
      "False Negatives: 48\n",
      "True Positives: 179\n"
     ]
    }
   ],
   "source": [
    "#get list of predictions\n",
    "pred = bagtree.predict(X_test_cvec)\n",
    "\n",
    "tn, fp, fn, tp = confusion_matrix(y_test, pred).ravel()\n",
    "print(\"True Negatives: %s\" % tn)\n",
    "print(\"False Positives: %s\" % fp)\n",
    "print(\"False Negatives: %s\" % fn)\n",
    "print(\"True Positives: %s\" % tp)"
   ]
  },
  {
   "cell_type": "markdown",
   "metadata": {},
   "source": [
    "Confusion Matrix"
   ]
  },
  {
   "cell_type": "code",
   "execution_count": 816,
   "metadata": {
    "scrolled": false
   },
   "outputs": [
    {
     "data": {
      "image/png": "[encoded data removed]",
      "text/plain": [
       "<Figure size 432x288 with 2 Axes>"
      ]
     },
     "metadata": {
      "needs_background": "light"
     },
     "output_type": "display_data"
    }
   ],
   "source": [
    "disp = plot_confusion_matrix(bagtree, X_test_cvec, y_test, cmap='Blues', values_format='.3g')"
   ]
  },
  {
   "cell_type": "code",
   "execution_count": 817,
   "metadata": {},
   "outputs": [],
   "source": [
    "#construct list of probabilities\n",
    "pred_proba = [i[1] for i in bagtree.predict_proba(X_test_cvec)]"
   ]
  },
  {
   "cell_type": "code",
   "execution_count": 818,
   "metadata": {},
   "outputs": [],
   "source": [
    "# Put the actual values and predicted probabilities in a dataframe\n",
    "pred_bagtree_df = pd.DataFrame({'actual': y_test,\n",
    "                                      'pred': pred_proba})"
   ]
  },
  {
   "cell_type": "code",
   "execution_count": 819,
   "metadata": {},
   "outputs": [
    {
     "name": "stdout",
     "output_type": "stream",
     "text": [
      "ROC AUC Score:  0.8502594224180128\n"
     ]
    }
   ],
   "source": [
    "print(\"ROC AUC Score: \", roc_auc_score(y_test, pred_proba))"
   ]
  },
  {
   "cell_type": "markdown",
   "metadata": {},
   "source": [
    "### ROC Curve"
   ]
  },
  {
   "cell_type": "code",
   "execution_count": 820,
   "metadata": {},
   "outputs": [
    {
     "data": {
      "image/png": "[encoded data removed]",
      "text/plain": [
       "<Figure size 720x504 with 1 Axes>"
      ]
     },
     "metadata": {
      "needs_background": "light"
     },
     "output_type": "display_data"
    }
   ],
   "source": [
    "draw_roc(pred_bagtree_df, \"actual\", \"pred\", \"Decision Tree with CV\")"
   ]
  },
  {
   "cell_type": "markdown",
   "metadata": {},
   "source": [
    "### KNearest Neighbours Classifier"
   ]
  },
  {
   "cell_type": "markdown",
   "metadata": {},
   "source": [
    "#### with CV"
   ]
  },
  {
   "cell_type": "code",
   "execution_count": 821,
   "metadata": {},
   "outputs": [],
   "source": [
    "# Grid Search for best Transformer params:\n",
    "# commented out as running takes a while\n",
    "\n",
    "# gs_cv_knn.fit(X_train, y_train)\n",
    "# print('best KNN Classifier score with Grid Search = ' + str(gs_cv_knn.best_score_))\n",
    "# print('best KNN parameters with Grid Search = ' + str(gs_cv_knn.best_params_))"
   ]
  },
  {
   "cell_type": "markdown",
   "metadata": {},
   "source": [
    "Fitting/vectorizing best parameters"
   ]
  },
  {
   "cell_type": "code",
   "execution_count": 822,
   "metadata": {},
   "outputs": [
    {
     "data": {
      "text/plain": [
       "(1355, 572)"
      ]
     },
     "execution_count": 822,
     "metadata": {},
     "output_type": "execute_result"
    }
   ],
   "source": [
    "# Fit Transformer with best params:\n",
    "\n",
    "cvec = CountVectorizer(max_df=0.9, \n",
    "                       max_features=2500, \n",
    "                       min_df=5, \n",
    "                       ngram_range=(1,2), \n",
    "                       stop_words='english')\n",
    "\n",
    "\n",
    "X_train_cvec = cvec.fit_transform(X_train, y_train).todense()\n",
    "X_test_cvec = cvec.transform(X_test).todense()\n",
    "\n",
    "X_train_cvec.shape"
   ]
  },
  {
   "cell_type": "code",
   "execution_count": 823,
   "metadata": {},
   "outputs": [],
   "source": [
    "# Grid Search for best estimator params:\n",
    "# commented out as running takes a while\n",
    "\n",
    "# knn = KNeighborsClassifier()\n",
    "# knn_params = {\n",
    "#     'n_neighbors': range(1, 101, 10),\n",
    "#     'p': [1,2,3,4,5],\n",
    "#     'weights': ['uniform', 'distance']\n",
    "# }\n",
    "\n",
    "# gs_knn = GridSearchCV(knn, param_grid=knn_params, cv=5)\n",
    "# gs_knn.fit(X_train_cvec, y_train)\n",
    "# print(gs_knn.best_score_)\n",
    "# gs_knn.best_params_"
   ]
  },
  {
   "cell_type": "code",
   "execution_count": 824,
   "metadata": {},
   "outputs": [],
   "source": [
    "# gs_cv_knn_best = gs_knn.best_estimator_"
   ]
  },
  {
   "cell_type": "code",
   "execution_count": 825,
   "metadata": {},
   "outputs": [],
   "source": [
    "# saving best estimator params:\n",
    "\n",
    "gs_cv_knn_best = KNeighborsClassifier(n_neighbors=21,\n",
    "                                     p=1,\n",
    "                                     weights='distance',\n",
    "                                     n_jobs=-1)"
   ]
  },
  {
   "cell_type": "code",
   "execution_count": 826,
   "metadata": {},
   "outputs": [
    {
     "name": "stdout",
     "output_type": "stream",
     "text": [
      "best KNN train score with CV = 0.988929889298893\n",
      "best KNN test score with CV = 0.7168141592920354\n"
     ]
    }
   ],
   "source": [
    "# fit best estimator and print scores:\n",
    "\n",
    "gs_cv_knn_best.fit(X_train_cvec, y_train)\n",
    "print('best KNN train score with CV = ' + str(gs_cv_knn_best.score(X_train_cvec, y_train)))\n",
    "print('best KNN test score with CV = ' + str(gs_cv_knn_best.score(X_test_cvec, y_test)))"
   ]
  },
  {
   "cell_type": "markdown",
   "metadata": {},
   "source": [
    "#### with TFIDF"
   ]
  },
  {
   "cell_type": "code",
   "execution_count": 827,
   "metadata": {},
   "outputs": [],
   "source": [
    "# Gridsearch for best Transformer params:\n",
    "# commented out as running takes a while\n",
    "\n",
    "# gs_tfidf_knn.fit(X_train, y_train)\n",
    "# print('best Logistic Regression score with Grid Search = ' + str(gs_tfidf_knn.best_score_))\n",
    "# print('best Logistic Regression parameters with Grid Search = ' + str(gs_tfidf_knn.best_params_))"
   ]
  },
  {
   "cell_type": "markdown",
   "metadata": {},
   "source": [
    "Fitting/vectorizing best parameters"
   ]
  },
  {
   "cell_type": "code",
   "execution_count": 828,
   "metadata": {},
   "outputs": [
    {
     "data": {
      "text/plain": [
       "(1355, 2500)"
      ]
     },
     "execution_count": 828,
     "metadata": {},
     "output_type": "execute_result"
    }
   ],
   "source": [
    "# Fit and transform data with best Transformer params:\n",
    "\n",
    "tfidf = TfidfVectorizer(max_df=0.9, \n",
    "                       max_features=2500, \n",
    "                       min_df=1, \n",
    "                       ngram_range=(1,1), \n",
    "                       stop_words='english')\n",
    "\n",
    "\n",
    "X_train_tfidf = tfidf.fit_transform(X_train, y_train).todense()\n",
    "X_test_tfidf = tfidf.transform(X_test).todense()\n",
    "\n",
    "X_train_tfidf.shape"
   ]
  },
  {
   "cell_type": "markdown",
   "metadata": {},
   "source": [
    "_This next cell will take too long to run.\n",
    "<br>\n",
    "Faster to run with these best parameters:\n",
    "<br>_\n",
    "\n",
    "* _n neighbors = 61_\n",
    "* _p = 2_\n",
    "* _weights = distance_"
   ]
  },
  {
   "cell_type": "code",
   "execution_count": 829,
   "metadata": {},
   "outputs": [],
   "source": [
    "# Gridsearch for best estimator params:\n",
    "# commented out as running takes a while\n",
    "\n",
    "# knn = KNeighborsClassifier()\n",
    "# knn_params = {\n",
    "#     'n_neighbors': range(1, 101, 10),\n",
    "#     'p': [1,2,3,4,5],\n",
    "#     'weights': ['uniform', 'distance']\n",
    "# }\n",
    "\n",
    "\n",
    "# gs_knn = GridSearchCV(knn, param_grid=knn_params, cv=5, n_jobs=-1)\n",
    "# gs_knn.fit(X_train_tfidf, y_train)\n",
    "# print(gs_knn.best_score_)\n",
    "# gs_knn.best_params_"
   ]
  },
  {
   "cell_type": "code",
   "execution_count": 830,
   "metadata": {},
   "outputs": [],
   "source": [
    "# gs_tfidf_knn_best = gs_knn.best_estimator_"
   ]
  },
  {
   "cell_type": "code",
   "execution_count": 831,
   "metadata": {},
   "outputs": [],
   "source": [
    "# save best estimator:\n",
    "\n",
    "gs_tfidf_knn_best = KNeighborsClassifier(n_neighbors=61,\n",
    "                                        p=2,\n",
    "                                        weights='distance',\n",
    "                                        n_jobs=-1)"
   ]
  },
  {
   "cell_type": "code",
   "execution_count": 832,
   "metadata": {},
   "outputs": [
    {
     "name": "stdout",
     "output_type": "stream",
     "text": [
      "best KNN train score with TFIDF = 0.9985239852398524\n",
      "best KNN test score with TFIDF = 0.8053097345132744\n"
     ]
    }
   ],
   "source": [
    "# fit best estimator on train data and print scores\n",
    "\n",
    "gs_tfidf_knn_best.fit(X_train_tfidf, y_train)\n",
    "print('best KNN train score with TFIDF = ' + str(gs_tfidf_knn_best.score(X_train_tfidf, y_train)))\n",
    "print('best KNN test score with TFIDF = ' + str(gs_tfidf_knn_best.score(X_test_tfidf, y_test)))"
   ]
  },
  {
   "cell_type": "code",
   "execution_count": 833,
   "metadata": {},
   "outputs": [],
   "source": [
    "# save best estimator:\n",
    "\n",
    "knn_best = gs_tfidf_knn_best"
   ]
  },
  {
   "cell_type": "code",
   "execution_count": 834,
   "metadata": {},
   "outputs": [
    {
     "name": "stdout",
     "output_type": "stream",
     "text": [
      "True Negatives: 209\n",
      "False Positives: 16\n",
      "False Negatives: 72\n",
      "True Positives: 155\n"
     ]
    }
   ],
   "source": [
    "#get list of predictions and print tn,fp,fn,tp\n",
    "\n",
    "pred = knn_best.predict(X_test_tfidf)\n",
    "\n",
    "tn, fp, fn, tp = confusion_matrix(y_test, pred).ravel()\n",
    "print(\"True Negatives: %s\" % tn)\n",
    "print(\"False Positives: %s\" % fp)\n",
    "print(\"False Negatives: %s\" % fn)\n",
    "print(\"True Positives: %s\" % tp)\n"
   ]
  },
  {
   "cell_type": "markdown",
   "metadata": {},
   "source": [
    "Confusion Matrix"
   ]
  },
  {
   "cell_type": "code",
   "execution_count": 835,
   "metadata": {
    "scrolled": false
   },
   "outputs": [
    {
     "data": {
      "image/png": "[encoded data removed]",
      "text/plain": [
       "<Figure size 432x288 with 2 Axes>"
      ]
     },
     "metadata": {
      "needs_background": "light"
     },
     "output_type": "display_data"
    }
   ],
   "source": [
    "disp = plot_confusion_matrix(knn_best, X_test_tfidf, y_test, cmap='Blues', values_format='.3g')"
   ]
  },
  {
   "cell_type": "code",
   "execution_count": 836,
   "metadata": {},
   "outputs": [],
   "source": [
    "#construct list of probabilities:\n",
    "\n",
    "pred_proba = [i[1] for i in knn_best.predict_proba(X_test_tfidf)]"
   ]
  },
  {
   "cell_type": "code",
   "execution_count": 837,
   "metadata": {},
   "outputs": [],
   "source": [
    "# Put the actual values and predicted probabilities in a dataframe:\n",
    "\n",
    "pred_knn_df = pd.DataFrame({'actual': y_test, \n",
    "                           'pred': pred_proba})"
   ]
  },
  {
   "cell_type": "code",
   "execution_count": 838,
   "metadata": {},
   "outputs": [
    {
     "name": "stdout",
     "output_type": "stream",
     "text": [
      "ROC AUC Score:  0.8840332843857073\n"
     ]
    }
   ],
   "source": [
    "print(\"ROC AUC Score: \", roc_auc_score(y_test, pred_proba))"
   ]
  },
  {
   "cell_type": "markdown",
   "metadata": {},
   "source": [
    "### ROC Curve"
   ]
  },
  {
   "cell_type": "code",
   "execution_count": 839,
   "metadata": {},
   "outputs": [
    {
     "data": {
      "image/png": "[encoded data removed]",
      "text/plain": [
       "<Figure size 720x504 with 1 Axes>"
      ]
     },
     "metadata": {
      "needs_background": "light"
     },
     "output_type": "display_data"
    }
   ],
   "source": [
    "draw_roc(pred_knn_df, \"actual\", \"pred\", \"KNN Classifier with TFIDF\")"
   ]
  },
  {
   "cell_type": "markdown",
   "metadata": {},
   "source": [
    "### Random Forest"
   ]
  },
  {
   "cell_type": "markdown",
   "metadata": {},
   "source": [
    "#### with CV"
   ]
  },
  {
   "cell_type": "code",
   "execution_count": 840,
   "metadata": {},
   "outputs": [],
   "source": [
    "# Gridsearch for best estimator:\n",
    "# commented out as running takes a while\n",
    "\n",
    "# gs_cv_rf.fit(X_train, y_train)\n",
    "# print('best Random Forest score with Grid Search = ' + str(gs_cv_rf.best_score_))\n",
    "# print('best Random Forest parameters with Grid Search = ' + str(gs_cv_rf.best_params_))"
   ]
  },
  {
   "cell_type": "markdown",
   "metadata": {},
   "source": [
    "Fitting/vectorizing best parameters"
   ]
  },
  {
   "cell_type": "code",
   "execution_count": 841,
   "metadata": {},
   "outputs": [
    {
     "data": {
      "text/plain": [
       "(1355, 3858)"
      ]
     },
     "execution_count": 841,
     "metadata": {},
     "output_type": "execute_result"
    }
   ],
   "source": [
    "# Fit and transform data with best transformer params:\n",
    "\n",
    "cvec = CountVectorizer(max_df=0.9, \n",
    "                       max_features=5000, \n",
    "                       min_df=1, \n",
    "                       ngram_range=(1,1), \n",
    "                       stop_words='english')\n",
    "\n",
    "\n",
    "X_train_cvec = cvec.fit_transform(X_train, y_train).todense()\n",
    "X_test_cvec = cvec.transform(X_test).todense()\n",
    "\n",
    "X_train_cvec.shape"
   ]
  },
  {
   "cell_type": "code",
   "execution_count": 842,
   "metadata": {},
   "outputs": [],
   "source": [
    "# gridsearch for best estimator params:\n",
    "# commented out as running takes a while\n",
    "\n",
    "# rf = RandomForestClassifier()\n",
    "# rf_params = {\n",
    "#     'n_estimators':[100,150,200],\n",
    "#     'max_depth': [None,1,2,3,4,5]\n",
    "# }\n",
    "\n",
    "\n",
    "\n",
    "# gs_rf = GridSearchCV(rf, param_grid=rf_params, cv=5, n_jobs=-1)\n",
    "# gs_rf.fit(X_train_cvec, y_train)\n",
    "# print(gs_rf.best_score_)\n",
    "# gs_rf.best_params_\n",
    "\n"
   ]
  },
  {
   "cell_type": "code",
   "execution_count": 843,
   "metadata": {},
   "outputs": [],
   "source": [
    "# gs_cv_rf_best = gs_rf.best_estimator_"
   ]
  },
  {
   "cell_type": "code",
   "execution_count": 844,
   "metadata": {},
   "outputs": [],
   "source": [
    "# save best estimator params:\n",
    "gs_cv_rf_best = RandomForestClassifier(max_depth=None, n_estimators=200, n_jobs=-1)"
   ]
  },
  {
   "cell_type": "code",
   "execution_count": 845,
   "metadata": {},
   "outputs": [
    {
     "name": "stdout",
     "output_type": "stream",
     "text": [
      "best Random Forest train score with CV = 0.9992619926199262\n",
      "best Random Forest test score with CV = 0.8207964601769911\n"
     ]
    }
   ],
   "source": [
    "gs_cv_rf_best.fit(X_train_cvec, y_train)\n",
    "print('best Random Forest train score with CV = ' + str(gs_cv_rf_best.score(X_train_cvec, y_train)))\n",
    "print('best Random Forest test score with CV = ' + str(gs_cv_rf_best.score(X_test_cvec, y_test)))"
   ]
  },
  {
   "cell_type": "markdown",
   "metadata": {},
   "source": [
    "#### with TFIDF"
   ]
  },
  {
   "cell_type": "code",
   "execution_count": 846,
   "metadata": {},
   "outputs": [],
   "source": [
    "# gridsearch for best transformer params:\n",
    "# commented out as running takes a while\n",
    "\n",
    "# gs_tfidf_rf.fit(X_train, y_train)\n",
    "# print('best Random Forest score with Grid Search = ' + str(gs_tfidf_rf.best_score_))\n",
    "# print('best Random Forest parameters with Grid Search = ' + str(gs_tfidf_rf.best_params_))"
   ]
  },
  {
   "cell_type": "markdown",
   "metadata": {},
   "source": [
    "Fitting/vectorizing best parameters"
   ]
  },
  {
   "cell_type": "code",
   "execution_count": 847,
   "metadata": {},
   "outputs": [
    {
     "data": {
      "text/plain": [
       "(1355, 2500)"
      ]
     },
     "execution_count": 847,
     "metadata": {},
     "output_type": "execute_result"
    }
   ],
   "source": [
    "# fit and transform data with best transformer params:\n",
    "\n",
    "tfidf = TfidfVectorizer(max_df=0.9, \n",
    "                       max_features=2500, \n",
    "                       min_df=1, \n",
    "                       ngram_range=(1,1), \n",
    "                       stop_words=None)\n",
    "\n",
    "\n",
    "X_train_tfidf = tfidf.fit_transform(X_train, y_train).todense()\n",
    "X_test_tfidf = tfidf.transform(X_test).todense()\n",
    "\n",
    "X_train_tfidf.shape"
   ]
  },
  {
   "cell_type": "code",
   "execution_count": 848,
   "metadata": {},
   "outputs": [],
   "source": [
    "# initiating estimator:\n",
    "# commented out as running takes a while\n",
    "\n",
    "# rf = RandomForestClassifier()\n",
    "# rf_params = {\n",
    "#     'n_estimators':[100,150,200],\n",
    "#     'max_depth': [None,1,2,3,4,5]\n",
    "# }\n",
    "\n",
    "# # initiating grid search for best estimator:\n",
    "# gs_rf = GridSearchCV(rf, param_grid=rf_params, cv=5, n_jobs=-1)\n",
    "# gs_rf.fit(X_train_tfidf, y_train)\n",
    "# print(gs_rf.best_score_)\n",
    "# gs_rf.best_params_"
   ]
  },
  {
   "cell_type": "code",
   "execution_count": 849,
   "metadata": {},
   "outputs": [],
   "source": [
    "# gs_tfidf_rf_best = gs_rf.best_estimator_"
   ]
  },
  {
   "cell_type": "code",
   "execution_count": 850,
   "metadata": {},
   "outputs": [],
   "source": [
    "# save best estimator:\n",
    "gs_tfidf_rf_best = RandomForestClassifier(max_depth=None,\n",
    "                                         n_estimators=150,\n",
    "                                         n_jobs=-1)"
   ]
  },
  {
   "cell_type": "code",
   "execution_count": 851,
   "metadata": {},
   "outputs": [
    {
     "name": "stdout",
     "output_type": "stream",
     "text": [
      "best Random Forest train score with TFIDF = 0.9985239852398524\n",
      "best Random Forest test score with TFIDF = 0.8252212389380531\n"
     ]
    }
   ],
   "source": [
    "# Fit and check score\n",
    "gs_tfidf_rf_best.fit(X_train_tfidf, y_train)\n",
    "print('best Random Forest train score with TFIDF = ' + str(gs_tfidf_rf_best.score(X_train_tfidf, y_train)))\n",
    "print('best Random Forest test score with TFIDF = ' + str(gs_tfidf_rf_best.score(X_test_tfidf, y_test)))"
   ]
  },
  {
   "cell_type": "code",
   "execution_count": 852,
   "metadata": {},
   "outputs": [],
   "source": [
    "# save best estimator:\n",
    "randfor = gs_tfidf_rf_best"
   ]
  },
  {
   "cell_type": "code",
   "execution_count": 853,
   "metadata": {},
   "outputs": [
    {
     "name": "stdout",
     "output_type": "stream",
     "text": [
      "True Negatives: 204\n",
      "False Positives: 21\n",
      "False Negatives: 58\n",
      "True Positives: 169\n"
     ]
    }
   ],
   "source": [
    "# get list of predictions\n",
    "pred = randfor.predict(X_test_tfidf)\n",
    "\n",
    "# calculate tn, fp, fn, tp\n",
    "tn, fp, fn, tp = confusion_matrix(y_test, pred).ravel()\n",
    "print(\"True Negatives: %s\" % tn)\n",
    "print(\"False Positives: %s\" % fp)\n",
    "print(\"False Negatives: %s\" % fn)\n",
    "print(\"True Positives: %s\" % tp)"
   ]
  },
  {
   "cell_type": "markdown",
   "metadata": {},
   "source": [
    "Confusion Matrix"
   ]
  },
  {
   "cell_type": "code",
   "execution_count": 854,
   "metadata": {
    "scrolled": false
   },
   "outputs": [
    {
     "data": {
      "image/png": "[encoded data removed]",
      "text/plain": [
       "<Figure size 432x288 with 2 Axes>"
      ]
     },
     "metadata": {
      "needs_background": "light"
     },
     "output_type": "display_data"
    }
   ],
   "source": [
    "disp = plot_confusion_matrix(randfor, X_test_tfidf, y_test, cmap='Blues', values_format='.3g')"
   ]
  },
  {
   "cell_type": "code",
   "execution_count": 855,
   "metadata": {},
   "outputs": [],
   "source": [
    "#construct list of probabilities\n",
    "pred_proba = [i[1] for i in randfor.predict_proba(X_test_tfidf)]"
   ]
  },
  {
   "cell_type": "code",
   "execution_count": 856,
   "metadata": {},
   "outputs": [],
   "source": [
    "# Put the actual values and predicted probabilities in a dataframe\n",
    "pred_rf_df = pd.DataFrame({'actual': y_test, \n",
    "                           'pred': pred_proba})"
   ]
  },
  {
   "cell_type": "code",
   "execution_count": 857,
   "metadata": {},
   "outputs": [
    {
     "name": "stdout",
     "output_type": "stream",
     "text": [
      "ROC AUC Score:  0.9013215859030836\n"
     ]
    }
   ],
   "source": [
    "print(\"ROC AUC Score: \", roc_auc_score(y_test, pred_proba))"
   ]
  },
  {
   "cell_type": "markdown",
   "metadata": {},
   "source": [
    "### ROC Curve"
   ]
  },
  {
   "cell_type": "code",
   "execution_count": 858,
   "metadata": {},
   "outputs": [
    {
     "data": {
      "image/png": "[encoded data removed]",
      "text/plain": [
       "<Figure size 720x504 with 1 Axes>"
      ]
     },
     "metadata": {
      "needs_background": "light"
     },
     "output_type": "display_data"
    }
   ],
   "source": [
    "draw_roc(pred_rf_df, \"actual\", \"pred\", \"Random Forest with TFIDF\")"
   ]
  },
  {
   "cell_type": "markdown",
   "metadata": {},
   "source": [
    "### Extra Tree"
   ]
  },
  {
   "cell_type": "markdown",
   "metadata": {},
   "source": [
    "#### with CV"
   ]
  },
  {
   "cell_type": "code",
   "execution_count": 859,
   "metadata": {},
   "outputs": [],
   "source": [
    "# gridsearch for best transformer params:\n",
    "# commented out as running takes a while\n",
    "\n",
    "# gs_cv_et.fit(X_train, y_train)\n",
    "# print('best Extra Tree score with Grid Search = ' + str(gs_cv_et.best_score_))\n",
    "# print('best Extra Tree parameters with Grid Search = ' + str(gs_cv_et.best_params_))"
   ]
  },
  {
   "cell_type": "markdown",
   "metadata": {},
   "source": [
    "Fitting/vectorizing best parameters"
   ]
  },
  {
   "cell_type": "code",
   "execution_count": 860,
   "metadata": {},
   "outputs": [
    {
     "data": {
      "text/plain": [
       "(1355, 3947)"
      ]
     },
     "execution_count": 860,
     "metadata": {},
     "output_type": "execute_result"
    }
   ],
   "source": [
    "# fitting best params for Transformer:\n",
    "\n",
    "cvec = CountVectorizer(max_df=0.9, \n",
    "                       max_features=5000, \n",
    "                       min_df=1, \n",
    "                       ngram_range=(1,1), \n",
    "                       stop_words=None)\n",
    "\n",
    "\n",
    "X_train_cvec = cvec.fit_transform(X_train, y_train).todense()\n",
    "X_test_cvec = cvec.transform(X_test).todense()\n",
    "\n",
    "X_train_cvec.shape"
   ]
  },
  {
   "cell_type": "code",
   "execution_count": 861,
   "metadata": {},
   "outputs": [],
   "source": [
    "# Initialize Estimator and grid search params:\n",
    "# commented out as running takes a while\n",
    "\n",
    "# et = ExtraTreesClassifier()\n",
    "\n",
    "# et_params = {\n",
    "#     'n_estimators':[100,150,200],\n",
    "#     'max_depth': [None,1,2,3,4,5]\n",
    "# }\n",
    "\n",
    "\n",
    "# # Grid Search for best estimator params:\n",
    "\n",
    "# gs_et = GridSearchCV(et, param_grid=et_params, cv=5, n_jobs=-1)\n",
    "# gs_et.fit(X_train_cvec, y_train)\n",
    "\n",
    "# print(gs_et.best_score_)\n",
    "# gs_et.best_params_\n",
    "\n"
   ]
  },
  {
   "cell_type": "code",
   "execution_count": 862,
   "metadata": {},
   "outputs": [],
   "source": [
    "# gs_cv_et_best = gs_et.best_estimator_"
   ]
  },
  {
   "cell_type": "code",
   "execution_count": 863,
   "metadata": {},
   "outputs": [],
   "source": [
    "# save best estimator params:\n",
    "\n",
    "gs_cv_et_best = ExtraTreesClassifier(max_depth=None,\n",
    "                                    n_estimators=150,\n",
    "                                    n_jobs=-1)"
   ]
  },
  {
   "cell_type": "code",
   "execution_count": 864,
   "metadata": {},
   "outputs": [
    {
     "name": "stdout",
     "output_type": "stream",
     "text": [
      "best Extra Tree train score with CV = 0.9992619926199262\n",
      "best Extra Tree test score with CV = 0.8230088495575221\n"
     ]
    }
   ],
   "source": [
    "# fit best model and print score:\n",
    "\n",
    "gs_cv_et_best.fit(X_train_cvec, y_train)\n",
    "print('best Extra Tree train score with CV = ' + str(gs_cv_et_best.score(X_train_cvec, y_train)))\n",
    "print('best Extra Tree test score with CV = ' + str(gs_cv_et_best.score(X_test_cvec, y_test)))"
   ]
  },
  {
   "cell_type": "markdown",
   "metadata": {},
   "source": [
    "#### with TFIDF"
   ]
  },
  {
   "cell_type": "code",
   "execution_count": 865,
   "metadata": {},
   "outputs": [],
   "source": [
    "# Grid Search to get best Transformer params:\n",
    "# commented out as running takes a while\n",
    "\n",
    "# gs_tfidf_et.fit(X_train, y_train)\n",
    "# print('best Extra Tree score with Grid Search = ' + str(gs_tfidf_et.best_score_))\n",
    "# print('best Extra Tree parameters with Grid Search = ' + str(gs_tfidf_et.best_params_))"
   ]
  },
  {
   "cell_type": "markdown",
   "metadata": {},
   "source": [
    "Fitting/vectorizing best parameters"
   ]
  },
  {
   "cell_type": "code",
   "execution_count": 866,
   "metadata": {},
   "outputs": [
    {
     "data": {
      "text/plain": [
       "(1355, 3500)"
      ]
     },
     "execution_count": 866,
     "metadata": {},
     "output_type": "execute_result"
    }
   ],
   "source": [
    "# Fit and transform best Transformer params: \n",
    "\n",
    "tfidf = TfidfVectorizer(max_df=0.9, \n",
    "                       max_features=3500, \n",
    "                       min_df=1, \n",
    "                       ngram_range=(1,1), \n",
    "                       stop_words='english')\n",
    "\n",
    "\n",
    "X_train_tfidf = tfidf.fit_transform(X_train, y_train).todense()\n",
    "X_test_tfidf = tfidf.transform(X_test).todense()\n",
    "\n",
    "X_train_tfidf.shape"
   ]
  },
  {
   "cell_type": "code",
   "execution_count": 867,
   "metadata": {},
   "outputs": [],
   "source": [
    "# initialize estimator and grid search params:\n",
    "# commented out as running takes a while\n",
    "\n",
    "# et = ExtraTreesClassifier()\n",
    "\n",
    "# et_params = {\n",
    "#     'n_estimators':[100,150,200],\n",
    "#     'max_depth': [None,1,2,3,4,5]\n",
    "# }\n",
    "\n",
    "\n",
    "\n",
    "# # Grid Search for best estimator params:\n",
    "\n",
    "# gs_et = GridSearchCV(et, param_grid=et_params, cv=5, n_jobs=-1)\n",
    "# gs_et.fit(X_train_tfidf, y_train)\n",
    "\n",
    "# print(gs_et.best_score_)\n",
    "# gs_et.best_params_"
   ]
  },
  {
   "cell_type": "code",
   "execution_count": 868,
   "metadata": {},
   "outputs": [],
   "source": [
    "# gs_tfidf_et_best = gs_et.best_estimator_"
   ]
  },
  {
   "cell_type": "code",
   "execution_count": 869,
   "metadata": {},
   "outputs": [],
   "source": [
    "# save best estimator params:\n",
    "gs_tfidf_et_best = ExtraTreesClassifier(max_depth=None,\n",
    "                                       n_estimators=150,\n",
    "                                       n_jobs=-1)"
   ]
  },
  {
   "cell_type": "code",
   "execution_count": 870,
   "metadata": {},
   "outputs": [
    {
     "name": "stdout",
     "output_type": "stream",
     "text": [
      "best Extra Tree train score with TFIDF = 0.9992619926199262\n",
      "best Extra Tree test score with TFIDF = 0.8451327433628318\n"
     ]
    }
   ],
   "source": [
    "gs_tfidf_et_best.fit(X_train_tfidf, y_train)\n",
    "print('best Extra Tree train score with TFIDF = ' + str(gs_tfidf_et_best.score(X_train_tfidf, y_train)))\n",
    "print('best Extra Tree test score with TFIDF = ' + str(gs_tfidf_et_best.score(X_test_tfidf, y_test)))"
   ]
  },
  {
   "cell_type": "code",
   "execution_count": 871,
   "metadata": {},
   "outputs": [],
   "source": [
    "# Save best estimator:\n",
    "extree = gs_tfidf_et_best"
   ]
  },
  {
   "cell_type": "code",
   "execution_count": 872,
   "metadata": {},
   "outputs": [
    {
     "name": "stdout",
     "output_type": "stream",
     "text": [
      "True Negatives: 191\n",
      "False Positives: 34\n",
      "False Negatives: 36\n",
      "True Positives: 191\n"
     ]
    }
   ],
   "source": [
    "# get list of predictions:\n",
    "\n",
    "pred = extree.predict(X_test_tfidf)\n",
    "\n",
    "# print tn,fp,fn,tp:\n",
    "\n",
    "tn, fp, fn, tp = confusion_matrix(y_test, pred).ravel()\n",
    "print(\"True Negatives: %s\" % tn)\n",
    "print(\"False Positives: %s\" % fp)\n",
    "print(\"False Negatives: %s\" % fn)\n",
    "print(\"True Positives: %s\" % tp)"
   ]
  },
  {
   "cell_type": "markdown",
   "metadata": {},
   "source": [
    "Confusion Matrix"
   ]
  },
  {
   "cell_type": "code",
   "execution_count": 873,
   "metadata": {
    "scrolled": false
   },
   "outputs": [
    {
     "data": {
      "image/png": "[encoded data removed]",
      "text/plain": [
       "<Figure size 432x288 with 2 Axes>"
      ]
     },
     "metadata": {
      "needs_background": "light"
     },
     "output_type": "display_data"
    }
   ],
   "source": [
    "disp = plot_confusion_matrix(extree, X_test_tfidf, y_test, cmap='Blues', values_format='.3g')"
   ]
  },
  {
   "cell_type": "code",
   "execution_count": 874,
   "metadata": {},
   "outputs": [],
   "source": [
    "#construct list of probabilities\n",
    "pred_proba = [i[1] for i in extree.predict_proba(X_test_tfidf)]"
   ]
  },
  {
   "cell_type": "code",
   "execution_count": 875,
   "metadata": {},
   "outputs": [],
   "source": [
    "# Put the actual values and predicted probabilities in a dataframe\n",
    "pred_extree_df = pd.DataFrame({'actual': y_test, \n",
    "                           'pred': pred_proba})"
   ]
  },
  {
   "cell_type": "code",
   "execution_count": 876,
   "metadata": {},
   "outputs": [
    {
     "name": "stdout",
     "output_type": "stream",
     "text": [
      "ROC AUC Score:  0.9024375917767989\n"
     ]
    }
   ],
   "source": [
    "print(\"ROC AUC Score: \", roc_auc_score(y_test, pred_proba))"
   ]
  },
  {
   "cell_type": "markdown",
   "metadata": {},
   "source": [
    "### ROC Curve"
   ]
  },
  {
   "cell_type": "code",
   "execution_count": 877,
   "metadata": {
    "scrolled": false
   },
   "outputs": [
    {
     "data": {
      "image/png": "[encoded data removed]",
      "text/plain": [
       "<Figure size 720x504 with 1 Axes>"
      ]
     },
     "metadata": {
      "needs_background": "light"
     },
     "output_type": "display_data"
    }
   ],
   "source": [
    "draw_roc(pred_extree_df, \"actual\", \"pred\", \"Extra Tree with TFIDF\")"
   ]
  },
  {
   "cell_type": "markdown",
   "metadata": {},
   "source": [
    "### SVM Classifier"
   ]
  },
  {
   "cell_type": "markdown",
   "metadata": {},
   "source": [
    "#### with CV"
   ]
  },
  {
   "cell_type": "code",
   "execution_count": 878,
   "metadata": {},
   "outputs": [],
   "source": [
    "# gridsearch for best transformer params:\n",
    "# commented out as running takes a while\n",
    "\n",
    "# gs_cv_svc.fit(X_train, y_train)\n",
    "# print('best SVC score with Grid Search = ' + str(gs_cv_svc.best_score_))\n",
    "# print('best SVC parameters with Grid Search = ' + str(gs_cv_svc.best_params_))"
   ]
  },
  {
   "cell_type": "markdown",
   "metadata": {},
   "source": [
    "Fitting/vectorizing best parameters"
   ]
  },
  {
   "cell_type": "code",
   "execution_count": 879,
   "metadata": {},
   "outputs": [
    {
     "data": {
      "text/plain": [
       "(1355, 2500)"
      ]
     },
     "execution_count": 879,
     "metadata": {},
     "output_type": "execute_result"
    }
   ],
   "source": [
    "# fitting best params for Transformer:\n",
    "\n",
    "cvec = CountVectorizer(max_df=0.9, \n",
    "                       max_features=2500, \n",
    "                       min_df=1, \n",
    "                       ngram_range=(1,1), \n",
    "                       stop_words=None)\n",
    "\n",
    "\n",
    "X_train_cvec = cvec.fit_transform(X_train, y_train).todense()\n",
    "X_test_cvec = cvec.transform(X_test).todense()\n",
    "\n",
    "X_train_cvec.shape"
   ]
  },
  {
   "cell_type": "code",
   "execution_count": 880,
   "metadata": {},
   "outputs": [
    {
     "data": {
      "text/plain": [
       "array([1.        , 1.44444444, 1.88888889, 2.33333333, 2.77777778,\n",
       "       3.22222222, 3.66666667, 4.11111111, 4.55555556, 5.        ])"
      ]
     },
     "execution_count": 880,
     "metadata": {},
     "output_type": "execute_result"
    }
   ],
   "source": [
    "np.linspace(1,5, 10)"
   ]
  },
  {
   "cell_type": "code",
   "execution_count": 882,
   "metadata": {},
   "outputs": [],
   "source": [
    "# Initialize Estimator and random search params:\n",
    "# commented out as running takes a while\n",
    "# switched to randomsearch as gridsearch takes too long\n",
    "\n",
    "# svc = SVC()\n",
    "\n",
    "# svc_params = {\n",
    "# #     'kernel':['linear', 'rbf', 'poly'],\n",
    "#     'kernel':['rbf'],\n",
    "# #     'gamma' : [0.1, 1, 10, 100],\n",
    "#     'gamma' : [0.1],\n",
    "# #     'C' : [0.1, 1, 10, 100, 1000],\n",
    "#     'C' : [1],\n",
    "#     'degree' : [0, 1, 2, 3, 4]\n",
    "# }\n",
    "\n",
    "\n",
    "# # Grid Search for best estimator params:\n",
    "\n",
    "# gs_svc = GridSearchCV(svc, param_grid=svc_params, cv=5, n_jobs=-1)\n",
    "# gs_svc.fit(X_train_cvec, y_train)\n",
    "\n",
    "# print(gs_svc.best_score_)\n",
    "# gs_svc.best_params_\n",
    "\n"
   ]
  },
  {
   "cell_type": "code",
   "execution_count": 883,
   "metadata": {},
   "outputs": [],
   "source": [
    "# gs_svc = gs_et.best_estimator_"
   ]
  },
  {
   "cell_type": "code",
   "execution_count": 884,
   "metadata": {},
   "outputs": [],
   "source": [
    "# save best estimator params:\n",
    "\n",
    "gs_svc_best = SVC(kernel='rbf', \n",
    "                  gamma=0.1, \n",
    "                  degree=0, \n",
    "                  C=1, \n",
    "                  probability=True)"
   ]
  },
  {
   "cell_type": "code",
   "execution_count": 885,
   "metadata": {},
   "outputs": [
    {
     "name": "stdout",
     "output_type": "stream",
     "text": [
      "best SVC train score with CV = 0.9542435424354243\n",
      "best SVC test score with CV = 0.827433628318584\n"
     ]
    }
   ],
   "source": [
    "# fit best model and print score:\n",
    "\n",
    "gs_svc_best.fit(X_train_cvec, y_train)\n",
    "print('best SVC train score with CV = ' + str(gs_svc_best.score(X_train_cvec, y_train)))\n",
    "print('best SVC test score with CV = ' + str(gs_svc_best.score(X_test_cvec, y_test)))"
   ]
  },
  {
   "cell_type": "markdown",
   "metadata": {},
   "source": [
    "#### with TFIDF"
   ]
  },
  {
   "cell_type": "code",
   "execution_count": 886,
   "metadata": {},
   "outputs": [],
   "source": [
    "# Grid Search to get best Transformer params:\n",
    "# commented out as running takes a while\n",
    "\n",
    "# gs_tfidf_svc.fit(X_train, y_train)\n",
    "# print('best SVC score with Grid Search = ' + str(gs_tfidf_svc.best_score_))\n",
    "# print('best SVC parameters with Grid Search = ' + str(gs_tfidf_svc.best_params_))"
   ]
  },
  {
   "cell_type": "markdown",
   "metadata": {},
   "source": [
    "Fitting/vectorizing best parameters"
   ]
  },
  {
   "cell_type": "code",
   "execution_count": 887,
   "metadata": {},
   "outputs": [
    {
     "data": {
      "text/plain": [
       "(1355, 5000)"
      ]
     },
     "execution_count": 887,
     "metadata": {},
     "output_type": "execute_result"
    }
   ],
   "source": [
    "# Fit and transform best Transformer params: \n",
    "\n",
    "tfidf = TfidfVectorizer(max_df=0.9, \n",
    "                       max_features=5000, \n",
    "                       min_df=1, \n",
    "                       ngram_range=(1,2), \n",
    "                       stop_words='english')\n",
    "\n",
    "\n",
    "X_train_tfidf = tfidf.fit_transform(X_train, y_train).todense()\n",
    "X_test_tfidf = tfidf.transform(X_test).todense()\n",
    "\n",
    "X_train_tfidf.shape"
   ]
  },
  {
   "cell_type": "code",
   "execution_count": 888,
   "metadata": {},
   "outputs": [],
   "source": [
    "# initialize estimator and grid search params:\n",
    "# commented out as running takes a while\n",
    "\n",
    "# svc = SVC()\n",
    "\n",
    "# svc_params = {\n",
    "# #     'kernel':['linear', 'rbf', 'poly'],\n",
    "# #     'gamma' : [0.1, 1, 10, 100],\n",
    "# #     'C' : [0.1, 1, 10, 100, 1000],\n",
    "# #     'degree' : [0, 1, 2, 3, 4],\n",
    "#     'kernel':['rbf'],\n",
    "#     'gamma' : [1],\n",
    "#     'C' : [1],\n",
    "#     'degree' : [0, 1, 2, 3, 4]\n",
    "# }\n",
    "\n",
    "\n",
    "\n",
    "# # Grid Search for best estimator params:\n",
    "\n",
    "# gs_svc = GridSearchCV(svc, param_grid=svc_params, cv=5, n_jobs=-1)\n",
    "# gs_svc.fit(X_train_tfidf, y_train)\n",
    "\n",
    "# print(gs_svc.best_score_)\n",
    "# gs_svc.best_params_"
   ]
  },
  {
   "cell_type": "code",
   "execution_count": 889,
   "metadata": {},
   "outputs": [],
   "source": [
    "# gs_tfidf_svc_best = gs_svc.best_estimator_"
   ]
  },
  {
   "cell_type": "code",
   "execution_count": 890,
   "metadata": {},
   "outputs": [],
   "source": [
    "# save best estimator params:\n",
    "gs_tfidf_svc_best = SVC(kernel='rbf',\n",
    "                        gamma=1,\n",
    "                        degree=0,\n",
    "                        C=1, \n",
    "                        probability=True)"
   ]
  },
  {
   "cell_type": "code",
   "execution_count": 891,
   "metadata": {},
   "outputs": [
    {
     "name": "stdout",
     "output_type": "stream",
     "text": [
      "best SVC train score with TFIDF = 0.996309963099631\n",
      "best SVC test score with TFIDF = 0.8407079646017699\n"
     ]
    }
   ],
   "source": [
    "gs_tfidf_svc_best.fit(X_train_tfidf, y_train)\n",
    "print('best SVC train score with TFIDF = ' + str(gs_tfidf_svc_best.score(X_train_tfidf, y_train)))\n",
    "print('best SVC test score with TFIDF = ' + str(gs_tfidf_svc_best.score(X_test_tfidf, y_test)))"
   ]
  },
  {
   "cell_type": "code",
   "execution_count": 892,
   "metadata": {},
   "outputs": [],
   "source": [
    "# Save best estimator:\n",
    "svclassifier = gs_tfidf_svc_best"
   ]
  },
  {
   "cell_type": "code",
   "execution_count": 893,
   "metadata": {},
   "outputs": [
    {
     "name": "stdout",
     "output_type": "stream",
     "text": [
      "True Negatives: 186\n",
      "False Positives: 39\n",
      "False Negatives: 33\n",
      "True Positives: 194\n"
     ]
    }
   ],
   "source": [
    "# get list of predictions:\n",
    "\n",
    "pred = svclassifier.predict(X_test_tfidf)\n",
    "\n",
    "# print tn,fp,fn,tp:\n",
    "\n",
    "tn, fp, fn, tp = confusion_matrix(y_test, pred).ravel()\n",
    "print(\"True Negatives: %s\" % tn)\n",
    "print(\"False Positives: %s\" % fp)\n",
    "print(\"False Negatives: %s\" % fn)\n",
    "print(\"True Positives: %s\" % tp)"
   ]
  },
  {
   "cell_type": "markdown",
   "metadata": {},
   "source": [
    "Confusion Matrix"
   ]
  },
  {
   "cell_type": "code",
   "execution_count": 894,
   "metadata": {
    "scrolled": false
   },
   "outputs": [
    {
     "data": {
      "image/png": "[encoded data removed]",
      "text/plain": [
       "<Figure size 432x288 with 2 Axes>"
      ]
     },
     "metadata": {
      "needs_background": "light"
     },
     "output_type": "display_data"
    }
   ],
   "source": [
    "disp = plot_confusion_matrix(svclassifier, X_test_tfidf, y_test, cmap='Blues', values_format='.3g')"
   ]
  },
  {
   "cell_type": "code",
   "execution_count": 895,
   "metadata": {},
   "outputs": [],
   "source": [
    "#construct list of probabilities\n",
    "pred_proba = [i[1] for i in svclassifier.predict_proba(X_test_tfidf)]"
   ]
  },
  {
   "cell_type": "code",
   "execution_count": 896,
   "metadata": {},
   "outputs": [],
   "source": [
    "# Put the actual values and predicted probabilities in a dataframe\n",
    "pred_svclassifier_df = pd.DataFrame({'actual': y_test, \n",
    "                           'pred': pred_proba})"
   ]
  },
  {
   "cell_type": "code",
   "execution_count": 897,
   "metadata": {},
   "outputs": [
    {
     "name": "stdout",
     "output_type": "stream",
     "text": [
      "ROC AUC Score:  0.917856093979442\n"
     ]
    }
   ],
   "source": [
    "print(\"ROC AUC Score: \", roc_auc_score(y_test, pred_proba))"
   ]
  },
  {
   "cell_type": "markdown",
   "metadata": {},
   "source": [
    "### ROC Curve"
   ]
  },
  {
   "cell_type": "code",
   "execution_count": 898,
   "metadata": {
    "scrolled": false
   },
   "outputs": [
    {
     "data": {
      "image/png": "[encoded data removed]",
      "text/plain": [
       "<Figure size 720x504 with 1 Axes>"
      ]
     },
     "metadata": {
      "needs_background": "light"
     },
     "output_type": "display_data"
    }
   ],
   "source": [
    "draw_roc(pred_svclassifier_df, \"actual\", \"pred\", \"SCV with TFIDF\")"
   ]
  },
  {
   "cell_type": "markdown",
   "metadata": {},
   "source": [
    "# Conclusion"
   ]
  },
  {
   "cell_type": "markdown",
   "metadata": {},
   "source": [
    "## Best model for classifing Fake News:"
   ]
  },
  {
   "cell_type": "markdown",
   "metadata": {},
   "source": [
    "|Model|Training Score|Test Score|ROC AUC Score|\n",
    "|---|---|---|---|\n",
    "|Logistic Regression|0.9845|0.8407|0.9119|\n",
    "|SVC|0.9963|0.8407|0.9178|\n"
   ]
  },
  {
   "cell_type": "markdown",
   "metadata": {},
   "source": [
    "The best model in terms of test score will be the Logistic Regression model with a ROC AUC score of 0.92"
   ]
  },
  {
   "cell_type": "markdown",
   "metadata": {},
   "source": [
    "## Recommendations"
   ]
  },
  {
   "cell_type": "markdown",
   "metadata": {},
   "source": [
    "The model ignores all images, emojis, or any other non alphanumeric charachter. Any information conveyed that way would be ignored.\n",
    "<br>\n",
    "The model does not look at the context of the word so instances where OP writes something but means something else would not be captured (e.g. - sarcasm)  \n",
    "<br>\n",
    "Refining stop words to reflect popular words used in each subreddit will help increase performance.\n",
    "<br>\n",
    "<br>\n",
    "Sentiment analysis would be interesting to explore and help improve the model.\n",
    "<br>\n",
    "<br>\n",
    "Regularization can be added to further improve performance. - added regularization to logistic regression. unfortunately performance increase was not significant. \n",
    "<br>\n",
    "<br>\n",
    "At this point some form of feature enginerring would be required since various models with different transformers, regularization, and hyperparameter tuning have been tried.\n",
    "<br>\n",
    "Manually adding stopwords to remove some of the more frequent words that appear between both the subreddits might be useful next step.\n",
    "<br>\n",
    "Also, manually going through the misclassifed entries will be helpful to gain insight into where the model falters. \n"
   ]
  }
 ],
 "metadata": {
  "kernelspec": {
   "display_name": "Python 3",
   "language": "python",
   "name": "python3"
  },
  "language_info": {
   "codemirror_mode": {
    "name": "ipython",
    "version": 3
   },
   "file_extension": ".py",
   "mimetype": "text/x-python",
   "name": "python",
   "nbconvert_exporter": "python",
   "pygments_lexer": "ipython3",
   "version": "3.8.2"
  }
 },
 "nbformat": 4,
 "nbformat_minor": 4
}
